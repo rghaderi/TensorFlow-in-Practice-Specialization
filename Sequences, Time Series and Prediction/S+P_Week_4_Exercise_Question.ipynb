{
  "nbformat": 4,
  "nbformat_minor": 0,
  "metadata": {
    "colab": {
      "name": "S+P Week 4 Exercise Question.ipynb",
      "provenance": [],
      "collapsed_sections": []
    },
    "kernelspec": {
      "name": "python3",
      "display_name": "Python 3"
    },
    "accelerator": "GPU"
  },
  "cells": [
    {
      "cell_type": "code",
      "metadata": {
        "id": "GNkzTFfynsmV",
        "colab_type": "code",
        "colab": {
          "base_uri": "https://localhost:8080/",
          "height": 600
        },
        "outputId": "ec5589c6-90f7-48ef-e8af-3adcbf758eb4"
      },
      "source": [
        "!pip install tensorflow==2.0.0b1"
      ],
      "execution_count": 1,
      "outputs": [
        {
          "output_type": "stream",
          "text": [
            "Collecting tensorflow==2.0.0b1\n",
            "\u001b[?25l  Downloading https://files.pythonhosted.org/packages/29/6c/2c9a5c4d095c63c2fb37d20def0e4f92685f7aee9243d6aae25862694fd1/tensorflow-2.0.0b1-cp36-cp36m-manylinux1_x86_64.whl (87.9MB)\n",
            "\u001b[K     |████████████████████████████████| 87.9MB 51kB/s \n",
            "\u001b[?25hRequirement already satisfied: termcolor>=1.1.0 in /usr/local/lib/python3.6/dist-packages (from tensorflow==2.0.0b1) (1.1.0)\n",
            "Requirement already satisfied: gast>=0.2.0 in /usr/local/lib/python3.6/dist-packages (from tensorflow==2.0.0b1) (0.2.2)\n",
            "Requirement already satisfied: wheel>=0.26 in /usr/local/lib/python3.6/dist-packages (from tensorflow==2.0.0b1) (0.33.6)\n",
            "Requirement already satisfied: protobuf>=3.6.1 in /usr/local/lib/python3.6/dist-packages (from tensorflow==2.0.0b1) (3.10.0)\n",
            "Collecting tb-nightly<1.14.0a20190604,>=1.14.0a20190603\n",
            "\u001b[?25l  Downloading https://files.pythonhosted.org/packages/a4/96/571b875cd81dda9d5dfa1422a4f9d749e67c0a8d4f4f0b33a4e5f5f35e27/tb_nightly-1.14.0a20190603-py3-none-any.whl (3.1MB)\n",
            "\u001b[K     |████████████████████████████████| 3.1MB 32.9MB/s \n",
            "\u001b[?25hCollecting tf-estimator-nightly<1.14.0.dev2019060502,>=1.14.0.dev2019060501\n",
            "\u001b[?25l  Downloading https://files.pythonhosted.org/packages/32/dd/99c47dd007dcf10d63fd895611b063732646f23059c618a373e85019eb0e/tf_estimator_nightly-1.14.0.dev2019060501-py2.py3-none-any.whl (496kB)\n",
            "\u001b[K     |████████████████████████████████| 501kB 48.5MB/s \n",
            "\u001b[?25hRequirement already satisfied: absl-py>=0.7.0 in /usr/local/lib/python3.6/dist-packages (from tensorflow==2.0.0b1) (0.9.0)\n",
            "Requirement already satisfied: google-pasta>=0.1.6 in /usr/local/lib/python3.6/dist-packages (from tensorflow==2.0.0b1) (0.1.8)\n",
            "Requirement already satisfied: grpcio>=1.8.6 in /usr/local/lib/python3.6/dist-packages (from tensorflow==2.0.0b1) (1.15.0)\n",
            "Requirement already satisfied: keras-preprocessing>=1.0.5 in /usr/local/lib/python3.6/dist-packages (from tensorflow==2.0.0b1) (1.1.0)\n",
            "Requirement already satisfied: numpy<2.0,>=1.14.5 in /usr/local/lib/python3.6/dist-packages (from tensorflow==2.0.0b1) (1.17.5)\n",
            "Requirement already satisfied: six>=1.10.0 in /usr/local/lib/python3.6/dist-packages (from tensorflow==2.0.0b1) (1.12.0)\n",
            "Requirement already satisfied: keras-applications>=1.0.6 in /usr/local/lib/python3.6/dist-packages (from tensorflow==2.0.0b1) (1.0.8)\n",
            "Requirement already satisfied: astor>=0.6.0 in /usr/local/lib/python3.6/dist-packages (from tensorflow==2.0.0b1) (0.8.1)\n",
            "Requirement already satisfied: wrapt>=1.11.1 in /usr/local/lib/python3.6/dist-packages (from tensorflow==2.0.0b1) (1.11.2)\n",
            "Requirement already satisfied: setuptools in /usr/local/lib/python3.6/dist-packages (from protobuf>=3.6.1->tensorflow==2.0.0b1) (42.0.2)\n",
            "Requirement already satisfied: werkzeug>=0.11.15 in /usr/local/lib/python3.6/dist-packages (from tb-nightly<1.14.0a20190604,>=1.14.0a20190603->tensorflow==2.0.0b1) (0.16.0)\n",
            "Requirement already satisfied: markdown>=2.6.8 in /usr/local/lib/python3.6/dist-packages (from tb-nightly<1.14.0a20190604,>=1.14.0a20190603->tensorflow==2.0.0b1) (3.1.1)\n",
            "Requirement already satisfied: h5py in /usr/local/lib/python3.6/dist-packages (from keras-applications>=1.0.6->tensorflow==2.0.0b1) (2.8.0)\n",
            "Installing collected packages: tb-nightly, tf-estimator-nightly, tensorflow\n",
            "  Found existing installation: tensorflow 1.15.0\n",
            "    Uninstalling tensorflow-1.15.0:\n",
            "      Successfully uninstalled tensorflow-1.15.0\n",
            "Successfully installed tb-nightly-1.14.0a20190603 tensorflow-2.0.0b1 tf-estimator-nightly-1.14.0.dev2019060501\n"
          ],
          "name": "stdout"
        }
      ]
    },
    {
      "cell_type": "code",
      "metadata": {
        "id": "56XEQOGknrAk",
        "colab_type": "code",
        "colab": {
          "base_uri": "https://localhost:8080/",
          "height": 35
        },
        "outputId": "a40c55b3-e544-4c94-83b2-42ca6a610306"
      },
      "source": [
        "import tensorflow as tf\n",
        "print(tf.__version__)"
      ],
      "execution_count": 24,
      "outputs": [
        {
          "output_type": "stream",
          "text": [
            "2.0.0-beta1\n"
          ],
          "name": "stdout"
        }
      ]
    },
    {
      "cell_type": "code",
      "metadata": {
        "id": "sLl52leVp5wU",
        "colab_type": "code",
        "colab": {}
      },
      "source": [
        "import numpy as np\n",
        "import matplotlib.pyplot as plt\n",
        "def plot_series(time, series, format=\"-\", start=0, end=None):\n",
        "    plt.plot(time[start:end], series[start:end], format)\n",
        "    plt.xlabel(\"Time\")\n",
        "    plt.ylabel(\"Value\")\n",
        "    plt.grid(True)"
      ],
      "execution_count": 0,
      "outputs": []
    },
    {
      "cell_type": "code",
      "metadata": {
        "id": "tP7oqUdkk0gY",
        "colab_type": "code",
        "colab": {
          "base_uri": "https://localhost:8080/",
          "height": 217
        },
        "outputId": "5786f060-e54f-4541-c483-0e47052820a0"
      },
      "source": [
        "!wget --no-check-certificate \\\n",
        "    https://raw.githubusercontent.com/jbrownlee/Datasets/master/daily-min-temperatures.csv \\\n",
        "    -O /tmp/daily-min-temperatures.csv"
      ],
      "execution_count": 5,
      "outputs": [
        {
          "output_type": "stream",
          "text": [
            "--2020-01-15 06:14:53--  https://raw.githubusercontent.com/jbrownlee/Datasets/master/daily-min-temperatures.csv\n",
            "Resolving raw.githubusercontent.com (raw.githubusercontent.com)... 151.101.0.133, 151.101.64.133, 151.101.128.133, ...\n",
            "Connecting to raw.githubusercontent.com (raw.githubusercontent.com)|151.101.0.133|:443... connected.\n",
            "HTTP request sent, awaiting response... 200 OK\n",
            "Length: 67921 (66K) [text/plain]\n",
            "Saving to: ‘/tmp/daily-min-temperatures.csv’\n",
            "\n",
            "\r          /tmp/dail   0%[                    ]       0  --.-KB/s               \r/tmp/daily-min-temp 100%[===================>]  66.33K  --.-KB/s    in 0.02s   \n",
            "\n",
            "2020-01-15 06:14:53 (3.23 MB/s) - ‘/tmp/daily-min-temperatures.csv’ saved [67921/67921]\n",
            "\n"
          ],
          "name": "stdout"
        }
      ]
    },
    {
      "cell_type": "code",
      "metadata": {
        "id": "NcG9r1eClbTh",
        "colab_type": "code",
        "colab": {
          "base_uri": "https://localhost:8080/",
          "height": 388
        },
        "outputId": "01f87636-2035-4a86-dc0e-85edd4d31164"
      },
      "source": [
        "import csv\n",
        "time_step = []\n",
        "temps = []\n",
        "\n",
        "with open('/tmp/daily-min-temperatures.csv') as csvfile:\n",
        "# YOUR CODE HERE. READ TEMPERATURES INTO TEMPS\n",
        "# HAVE TIME STEPS BE A SIMPLE ARRAY OF 1, 2, 3, 4 etc\n",
        "  reader= csv.reader(csvfile, delimiter=',')\n",
        "  next(reader)\n",
        "  step=0\n",
        "  for row in reader:\n",
        "    temps.append(float(row[1]))\n",
        "    time_step.append(step)\n",
        "    step +=1\n",
        "\n",
        "\n",
        "\n",
        "series = np.array(temps)\n",
        "time = np.array(time_step)\n",
        "plt.figure(figsize=(10, 6))\n",
        "plot_series(time, series)"
      ],
      "execution_count": 26,
      "outputs": [
        {
          "output_type": "display_data",
          "data": {
            "image/png": "[encoded data removed]",
            "text/plain": [
              "<Figure size 720x432 with 1 Axes>"
            ]
          },
          "metadata": {
            "tags": []
          }
        }
      ]
    },
    {
      "cell_type": "code",
      "metadata": {
        "id": "L92YRw_IpCFG",
        "colab_type": "code",
        "colab": {}
      },
      "source": [
        "split_time = 2500\n",
        "time_train = time[:split_time] # YOUR CODE HERE\n",
        "x_train = series[:split_time] # YOUR CODE HERE\n",
        "time_valid = time[split_time:] # YOUR CODE HERE\n",
        "x_valid = series[split_time:] # YOUR CODE HERE\n",
        "\n",
        "window_size = 30\n",
        "batch_size = 32\n",
        "shuffle_buffer_size = 1000\n",
        "\n"
      ],
      "execution_count": 0,
      "outputs": []
    },
    {
      "cell_type": "code",
      "metadata": {
        "id": "lJwUUZscnG38",
        "colab_type": "code",
        "colab": {}
      },
      "source": [
        "def windowed_dataset(series, window_size, batch_size, shuffle_buffer):\n",
        "    # YOUR CODE HERE\n",
        "    series = tf.expand_dims(series, axis=-1)\n",
        "    ds = tf.data.Dataset.from_tensor_slices(series)\n",
        "    ds = ds.window(window_size + 1, shift=1, drop_remainder=True)\n",
        "    ds = ds.flat_map(lambda w: w.batch(window_size + 1))\n",
        "    ds = ds.shuffle(shuffle_buffer)\n",
        "    ds = ds.map(lambda w: (w[:-1], w[1:]))\n",
        "    return ds.batch(batch_size).prefetch(1)"
      ],
      "execution_count": 0,
      "outputs": []
    },
    {
      "cell_type": "code",
      "metadata": {
        "id": "4XwGrf-A_wF0",
        "colab_type": "code",
        "colab": {}
      },
      "source": [
        "def model_forecast(model, series, window_size):\n",
        "    # YOUR CODE HERE\n",
        "    ds = tf.data.Dataset.from_tensor_slices(series)\n",
        "    ds = ds.window(window_size, shift=1, drop_remainder=True)\n",
        "    ds = ds.flat_map(lambda w: w.batch(window_size))\n",
        "    ds = ds.batch(32).prefetch(1)\n",
        "    forecast = model.predict(ds)\n",
        "    return forecast"
      ],
      "execution_count": 0,
      "outputs": []
    },
    {
      "cell_type": "code",
      "metadata": {
        "id": "AclfYY3Mn6Ph",
        "colab_type": "code",
        "outputId": "521ad4ba-47c8-4a62-c593-43473f7cd51b",
        "colab": {
          "base_uri": "https://localhost:8080/",
          "height": 1000
        }
      },
      "source": [
        "tf.keras.backend.clear_session()\n",
        "tf.random.set_seed(51)\n",
        "np.random.seed(51)\n",
        "window_size = 64\n",
        "batch_size = 256\n",
        "train_set = windowed_dataset(x_train, window_size, batch_size, shuffle_buffer_size)\n",
        "print(train_set)\n",
        "print(x_train.shape)\n",
        "\n",
        "model = tf.keras.models.Sequential([\n",
        "# YOUR CODE HERE\n",
        "  tf.keras.layers.Conv1D(filters=60, kernel_size=5, strides=1, padding=\"causal\", activation='relu', input_shape=[None, 1]),\n",
        "  tf.keras.layers.LSTM(64, return_sequences= True),\n",
        "  tf.keras.layers.LSTM(64, return_sequences= True),\n",
        "  tf.keras.layers.Dense(30, activation='relu'),\n",
        "  tf.keras.layers.Dense(20, activation='relu'),\n",
        "  tf.keras.layers.Dense(1),\n",
        "  tf.keras.layers.Lambda(lambda x: x*100)\n",
        "])\n",
        "\n",
        "lr_schedule = tf.keras.callbacks.LearningRateScheduler(\n",
        "    lambda epoch: 1e-8 * 10**(epoch / 20))\n",
        "optimizer = tf.keras.optimizers.SGD(lr=1e-8, momentum=0.9)\n",
        "model.compile(loss=tf.keras.losses.Huber(),\n",
        "              optimizer=optimizer,\n",
        "              metrics=[\"mae\"])\n",
        "history = model.fit(train_set, epochs=100, callbacks=[lr_schedule])\n",
        "\n",
        "\n"
      ],
      "execution_count": 37,
      "outputs": [
        {
          "output_type": "stream",
          "text": [
            "<PrefetchDataset shapes: ((None, None, 1), (None, None, 1)), types: (tf.float64, tf.float64)>\n",
            "(2500,)\n",
            "Epoch 1/100\n",
            "10/10 [==============================] - 7s 739ms/step - loss: 5.9832 - mae: 6.4775\n",
            "Epoch 2/100\n",
            "10/10 [==============================] - 5s 457ms/step - loss: 5.8410 - mae: 6.3365\n",
            "Epoch 3/100\n",
            "10/10 [==============================] - 5s 453ms/step - loss: 5.6285 - mae: 6.1245\n",
            "Epoch 4/100\n",
            "10/10 [==============================] - 5s 455ms/step - loss: 5.3779 - mae: 5.8734\n",
            "Epoch 5/100\n",
            "10/10 [==============================] - 5s 450ms/step - loss: 5.1016 - mae: 5.5960\n",
            "Epoch 6/100\n",
            "10/10 [==============================] - 5s 456ms/step - loss: 4.8059 - mae: 5.2992\n",
            "Epoch 7/100\n",
            "10/10 [==============================] - 5s 459ms/step - loss: 4.4979 - mae: 4.9897\n",
            "Epoch 8/100\n",
            "10/10 [==============================] - 5s 456ms/step - loss: 4.1911 - mae: 4.6807\n",
            "Epoch 9/100\n",
            "10/10 [==============================] - 5s 455ms/step - loss: 3.8999 - mae: 4.3868\n",
            "Epoch 10/100\n",
            "10/10 [==============================] - 5s 453ms/step - loss: 3.6331 - mae: 4.1168\n",
            "Epoch 11/100\n",
            "10/10 [==============================] - 5s 450ms/step - loss: 3.4011 - mae: 3.8811\n",
            "Epoch 12/100\n",
            "10/10 [==============================] - 5s 458ms/step - loss: 3.2100 - mae: 3.6867\n",
            "Epoch 13/100\n",
            "10/10 [==============================] - 5s 454ms/step - loss: 3.0588 - mae: 3.5322\n",
            "Epoch 14/100\n",
            "10/10 [==============================] - 5s 456ms/step - loss: 2.9440 - mae: 3.4144\n",
            "Epoch 15/100\n",
            "10/10 [==============================] - 5s 458ms/step - loss: 2.8601 - mae: 3.3278\n",
            "Epoch 16/100\n",
            "10/10 [==============================] - 5s 455ms/step - loss: 2.7996 - mae: 3.2661\n",
            "Epoch 17/100\n",
            "10/10 [==============================] - 5s 459ms/step - loss: 2.7557 - mae: 3.2218\n",
            "Epoch 18/100\n",
            "10/10 [==============================] - 5s 450ms/step - loss: 2.7225 - mae: 3.1884\n",
            "Epoch 19/100\n",
            "10/10 [==============================] - 5s 458ms/step - loss: 2.6954 - mae: 3.1611\n",
            "Epoch 20/100\n",
            "10/10 [==============================] - 5s 456ms/step - loss: 2.6711 - mae: 3.1365\n",
            "Epoch 21/100\n",
            "10/10 [==============================] - 5s 464ms/step - loss: 2.6475 - mae: 3.1126\n",
            "Epoch 22/100\n",
            "10/10 [==============================] - 5s 465ms/step - loss: 2.6230 - mae: 3.0880\n",
            "Epoch 23/100\n",
            "10/10 [==============================] - 5s 469ms/step - loss: 2.5973 - mae: 3.0622\n",
            "Epoch 24/100\n",
            "10/10 [==============================] - 5s 453ms/step - loss: 2.5705 - mae: 3.0353\n",
            "Epoch 25/100\n",
            "10/10 [==============================] - 5s 452ms/step - loss: 2.5431 - mae: 3.0077\n",
            "Epoch 26/100\n",
            "10/10 [==============================] - 5s 453ms/step - loss: 2.5155 - mae: 2.9800\n",
            "Epoch 27/100\n",
            "10/10 [==============================] - 5s 456ms/step - loss: 2.4882 - mae: 2.9525\n",
            "Epoch 28/100\n",
            "10/10 [==============================] - 5s 462ms/step - loss: 2.4617 - mae: 2.9257\n",
            "Epoch 29/100\n",
            "10/10 [==============================] - 5s 454ms/step - loss: 2.4358 - mae: 2.8997\n",
            "Epoch 30/100\n",
            "10/10 [==============================] - 5s 455ms/step - loss: 2.4107 - mae: 2.8744\n",
            "Epoch 31/100\n",
            "10/10 [==============================] - 5s 452ms/step - loss: 2.3862 - mae: 2.8496\n",
            "Epoch 32/100\n",
            "10/10 [==============================] - 5s 452ms/step - loss: 2.3621 - mae: 2.8253\n",
            "Epoch 33/100\n",
            "10/10 [==============================] - 5s 459ms/step - loss: 2.3380 - mae: 2.8011\n",
            "Epoch 34/100\n",
            "10/10 [==============================] - 5s 457ms/step - loss: 2.3135 - mae: 2.7764\n",
            "Epoch 35/100\n",
            "10/10 [==============================] - 5s 457ms/step - loss: 2.2883 - mae: 2.7510\n",
            "Epoch 36/100\n",
            "10/10 [==============================] - 5s 454ms/step - loss: 2.2625 - mae: 2.7248\n",
            "Epoch 37/100\n",
            "10/10 [==============================] - 5s 454ms/step - loss: 2.2361 - mae: 2.6979\n",
            "Epoch 38/100\n",
            "10/10 [==============================] - 5s 454ms/step - loss: 2.2095 - mae: 2.6708\n",
            "Epoch 39/100\n",
            "10/10 [==============================] - 5s 464ms/step - loss: 2.1826 - mae: 2.6436\n",
            "Epoch 40/100\n",
            "10/10 [==============================] - 5s 458ms/step - loss: 2.1560 - mae: 2.6164\n",
            "Epoch 41/100\n",
            "10/10 [==============================] - 5s 460ms/step - loss: 2.1299 - mae: 2.5897\n",
            "Epoch 42/100\n",
            "10/10 [==============================] - 5s 457ms/step - loss: 2.1045 - mae: 2.5638\n",
            "Epoch 43/100\n",
            "10/10 [==============================] - 5s 456ms/step - loss: 2.0802 - mae: 2.5390\n",
            "Epoch 44/100\n",
            "10/10 [==============================] - 5s 454ms/step - loss: 2.0574 - mae: 2.5156\n",
            "Epoch 45/100\n",
            "10/10 [==============================] - 5s 455ms/step - loss: 2.0365 - mae: 2.4943\n",
            "Epoch 46/100\n",
            "10/10 [==============================] - 5s 458ms/step - loss: 2.0178 - mae: 2.4752\n",
            "Epoch 47/100\n",
            "10/10 [==============================] - 5s 452ms/step - loss: 2.0009 - mae: 2.4580\n",
            "Epoch 48/100\n",
            "10/10 [==============================] - 5s 458ms/step - loss: 1.9857 - mae: 2.4427\n",
            "Epoch 49/100\n",
            "10/10 [==============================] - 5s 452ms/step - loss: 1.9719 - mae: 2.4286\n",
            "Epoch 50/100\n",
            "10/10 [==============================] - 4s 447ms/step - loss: 1.9592 - mae: 2.4155\n",
            "Epoch 51/100\n",
            "10/10 [==============================] - 5s 454ms/step - loss: 1.9474 - mae: 2.4034\n",
            "Epoch 52/100\n",
            "10/10 [==============================] - 5s 456ms/step - loss: 1.9363 - mae: 2.3922\n",
            "Epoch 53/100\n",
            "10/10 [==============================] - 5s 459ms/step - loss: 1.9259 - mae: 2.3817\n",
            "Epoch 54/100\n",
            "10/10 [==============================] - 5s 456ms/step - loss: 1.9157 - mae: 2.3712\n",
            "Epoch 55/100\n",
            "10/10 [==============================] - 5s 455ms/step - loss: 1.9054 - mae: 2.3606\n",
            "Epoch 56/100\n",
            "10/10 [==============================] - 5s 461ms/step - loss: 1.8957 - mae: 2.3505\n",
            "Epoch 57/100\n",
            "10/10 [==============================] - 5s 458ms/step - loss: 1.8872 - mae: 2.3418\n",
            "Epoch 58/100\n",
            "10/10 [==============================] - 5s 453ms/step - loss: 1.8794 - mae: 2.3338\n",
            "Epoch 59/100\n",
            "10/10 [==============================] - 5s 454ms/step - loss: 1.8714 - mae: 2.3259\n",
            "Epoch 60/100\n",
            "10/10 [==============================] - 5s 457ms/step - loss: 1.8622 - mae: 2.3169\n",
            "Epoch 61/100\n",
            "10/10 [==============================] - 5s 454ms/step - loss: 1.8512 - mae: 2.3061\n",
            "Epoch 62/100\n",
            "10/10 [==============================] - 5s 455ms/step - loss: 1.8399 - mae: 2.2950\n",
            "Epoch 63/100\n",
            "10/10 [==============================] - 5s 459ms/step - loss: 1.8276 - mae: 2.2825\n",
            "Epoch 64/100\n",
            "10/10 [==============================] - 5s 454ms/step - loss: 1.8148 - mae: 2.2693\n",
            "Epoch 65/100\n",
            "10/10 [==============================] - 5s 457ms/step - loss: 1.8037 - mae: 2.2577\n",
            "Epoch 66/100\n",
            "10/10 [==============================] - 5s 455ms/step - loss: 1.7940 - mae: 2.2478\n",
            "Epoch 67/100\n",
            "10/10 [==============================] - 5s 451ms/step - loss: 1.7837 - mae: 2.2370\n",
            "Epoch 68/100\n",
            "10/10 [==============================] - 5s 455ms/step - loss: 1.7737 - mae: 2.2267\n",
            "Epoch 69/100\n",
            "10/10 [==============================] - 5s 459ms/step - loss: 1.7633 - mae: 2.2160\n",
            "Epoch 70/100\n",
            "10/10 [==============================] - 4s 449ms/step - loss: 1.7528 - mae: 2.2050\n",
            "Epoch 71/100\n",
            "10/10 [==============================] - 5s 451ms/step - loss: 1.7424 - mae: 2.1942\n",
            "Epoch 72/100\n",
            "10/10 [==============================] - 5s 456ms/step - loss: 1.7320 - mae: 2.1832\n",
            "Epoch 73/100\n",
            "10/10 [==============================] - 5s 456ms/step - loss: 1.7202 - mae: 2.1710\n",
            "Epoch 74/100\n",
            "10/10 [==============================] - 5s 455ms/step - loss: 1.7080 - mae: 2.1585\n",
            "Epoch 75/100\n",
            "10/10 [==============================] - 5s 458ms/step - loss: 1.6974 - mae: 2.1473\n",
            "Epoch 76/100\n",
            "10/10 [==============================] - 5s 461ms/step - loss: 1.6872 - mae: 2.1367\n",
            "Epoch 77/100\n",
            "10/10 [==============================] - 5s 454ms/step - loss: 1.6775 - mae: 2.1266\n",
            "Epoch 78/100\n",
            "10/10 [==============================] - 5s 455ms/step - loss: 1.6677 - mae: 2.1168\n",
            "Epoch 79/100\n",
            "10/10 [==============================] - 5s 457ms/step - loss: 1.6586 - mae: 2.1073\n",
            "Epoch 80/100\n",
            "10/10 [==============================] - 5s 459ms/step - loss: 1.6604 - mae: 2.1073\n",
            "Epoch 81/100\n",
            "10/10 [==============================] - 5s 455ms/step - loss: 1.6566 - mae: 2.1057\n",
            "Epoch 82/100\n",
            "10/10 [==============================] - 5s 455ms/step - loss: 1.6428 - mae: 2.0895\n",
            "Epoch 83/100\n",
            "10/10 [==============================] - 5s 461ms/step - loss: 1.7699 - mae: 2.2261\n",
            "Epoch 84/100\n",
            "10/10 [==============================] - 5s 455ms/step - loss: 1.6402 - mae: 2.0901\n",
            "Epoch 85/100\n",
            "10/10 [==============================] - 5s 463ms/step - loss: 1.6603 - mae: 2.1116\n",
            "Epoch 86/100\n",
            "10/10 [==============================] - 5s 452ms/step - loss: 1.8544 - mae: 2.2926\n",
            "Epoch 87/100\n",
            "10/10 [==============================] - 5s 457ms/step - loss: 1.8814 - mae: 2.3513\n",
            "Epoch 88/100\n",
            "10/10 [==============================] - 5s 455ms/step - loss: 1.8747 - mae: 2.3367\n",
            "Epoch 89/100\n",
            "10/10 [==============================] - 5s 471ms/step - loss: 1.8328 - mae: 2.2957\n",
            "Epoch 90/100\n",
            "10/10 [==============================] - 5s 468ms/step - loss: 1.8683 - mae: 2.3366\n",
            "Epoch 91/100\n",
            "10/10 [==============================] - 5s 461ms/step - loss: 2.0134 - mae: 2.4645\n",
            "Epoch 92/100\n",
            "10/10 [==============================] - 5s 455ms/step - loss: 1.8074 - mae: 2.2704\n",
            "Epoch 93/100\n",
            "10/10 [==============================] - 5s 453ms/step - loss: 1.9775 - mae: 2.4497\n",
            "Epoch 94/100\n",
            "10/10 [==============================] - 5s 455ms/step - loss: 2.0072 - mae: 2.4820\n",
            "Epoch 95/100\n",
            "10/10 [==============================] - 5s 460ms/step - loss: 2.0020 - mae: 2.4759\n",
            "Epoch 96/100\n",
            "10/10 [==============================] - 5s 455ms/step - loss: 2.1651 - mae: 2.6348\n",
            "Epoch 97/100\n",
            "10/10 [==============================] - 5s 457ms/step - loss: 3.2752 - mae: 3.3885\n",
            "Epoch 98/100\n",
            "10/10 [==============================] - 5s 457ms/step - loss: 4.4168 - mae: 4.9817\n",
            "Epoch 99/100\n",
            "10/10 [==============================] - 5s 454ms/step - loss: 2.7045 - mae: 3.1820\n",
            "Epoch 100/100\n",
            "10/10 [==============================] - 5s 461ms/step - loss: 2.5576 - mae: 3.0083\n"
          ],
          "name": "stdout"
        }
      ]
    },
    {
      "cell_type": "code",
      "metadata": {
        "id": "vVcKmg7Q_7rD",
        "colab_type": "code",
        "outputId": "22e1691a-22d8-4883-c941-41916f1e3227",
        "colab": {
          "base_uri": "https://localhost:8080/",
          "height": 291
        }
      },
      "source": [
        "plt.semilogx(history.history[\"lr\"], history.history[\"loss\"])\n",
        "plt.axis([1e-8, 1e-4, 0, 10])"
      ],
      "execution_count": 39,
      "outputs": [
        {
          "output_type": "execute_result",
          "data": {
            "text/plain": [
              "[1e-08, 0.0001, 0, 10]"
            ]
          },
          "metadata": {
            "tags": []
          },
          "execution_count": 39
        },
        {
          "output_type": "display_data",
          "data": {
            "image/png": "[encoded data removed]",
            "text/plain": [
              "<Figure size 432x288 with 1 Axes>"
            ]
          },
          "metadata": {
            "tags": []
          }
        }
      ]
    },
    {
      "cell_type": "code",
      "metadata": {
        "id": "QsksvkcXAAgq",
        "colab_type": "code",
        "outputId": "484c9fb8-8b96-489e-bc72-f5d35eca3c61",
        "colab": {
          "base_uri": "https://localhost:8080/",
          "height": 1000
        }
      },
      "source": [
        "tf.keras.backend.clear_session()\n",
        "tf.random.set_seed(51)\n",
        "np.random.seed(51)\n",
        "train_set = windowed_dataset(x_train, window_size=60, batch_size=100, shuffle_buffer=shuffle_buffer_size)\n",
        "model = tf.keras.models.Sequential([\n",
        "# YOUR CODE HERE\n",
        "  tf.keras.layers.Conv1D(filters=32, kernel_size=5, strides=1, padding=\"causal\", activation='relu', input_shape=[None, 1]),\n",
        "  tf.keras.layers.LSTM(64, return_sequences= True),\n",
        "  tf.keras.layers.LSTM(64, return_sequences= True),\n",
        "  tf.keras.layers.Dense(30, activation='relu'),\n",
        "  tf.keras.layers.Dense(20, activation='relu'),\n",
        "  tf.keras.layers.Dense(1),\n",
        "  tf.keras.layers.Lambda(lambda x: x*100)\n",
        "])\n",
        "\n",
        "\n",
        "optimizer = tf.keras.optimizers.SGD(lr= 1e-4, momentum=0.9)# YOUR CODE HERE, momentum=0.9)\n",
        "model.compile(loss=tf.keras.losses.Huber(),\n",
        "              optimizer=optimizer,\n",
        "              metrics=[\"mae\"])\n",
        "history = model.fit(train_set,epochs= 150) # YOUR CODE HERE)\n",
        "                                    \n",
        "# EXPECTED OUTPUT SHOULD SEE AN MAE OF <2 WITHIN ABOUT 30 EPOCHS"
      ],
      "execution_count": 40,
      "outputs": [
        {
          "output_type": "stream",
          "text": [
            "Epoch 1/150\n",
            "25/25 [==============================] - 9s 341ms/step - loss: 3.2357 - mae: 3.7242\n",
            "Epoch 2/150\n",
            "25/25 [==============================] - 5s 220ms/step - loss: 1.9514 - mae: 2.4082\n",
            "Epoch 3/150\n",
            "25/25 [==============================] - 5s 219ms/step - loss: 1.7723 - mae: 2.2232\n",
            "Epoch 4/150\n",
            "25/25 [==============================] - 5s 219ms/step - loss: 1.7239 - mae: 2.1733\n",
            "Epoch 5/150\n",
            "25/25 [==============================] - 5s 218ms/step - loss: 1.6951 - mae: 2.1438\n",
            "Epoch 6/150\n",
            "25/25 [==============================] - 5s 220ms/step - loss: 1.6704 - mae: 2.1189\n",
            "Epoch 7/150\n",
            "25/25 [==============================] - 6s 220ms/step - loss: 1.6511 - mae: 2.0993\n",
            "Epoch 8/150\n",
            "25/25 [==============================] - 5s 218ms/step - loss: 1.6335 - mae: 2.0810\n",
            "Epoch 9/150\n",
            "25/25 [==============================] - 5s 219ms/step - loss: 1.6212 - mae: 2.0677\n",
            "Epoch 10/150\n",
            "25/25 [==============================] - 5s 217ms/step - loss: 1.6054 - mae: 2.0505\n",
            "Epoch 11/150\n",
            "25/25 [==============================] - 5s 218ms/step - loss: 1.5978 - mae: 2.0418\n",
            "Epoch 12/150\n",
            "25/25 [==============================] - 5s 219ms/step - loss: 1.5980 - mae: 2.0419\n",
            "Epoch 13/150\n",
            "25/25 [==============================] - 5s 219ms/step - loss: 1.5968 - mae: 2.0409\n",
            "Epoch 14/150\n",
            "25/25 [==============================] - 5s 217ms/step - loss: 1.5861 - mae: 2.0298\n",
            "Epoch 15/150\n",
            "25/25 [==============================] - 5s 217ms/step - loss: 1.5727 - mae: 2.0160\n",
            "Epoch 16/150\n",
            "25/25 [==============================] - 5s 217ms/step - loss: 1.5586 - mae: 2.0013\n",
            "Epoch 17/150\n",
            "25/25 [==============================] - 5s 219ms/step - loss: 1.5442 - mae: 1.9858\n",
            "Epoch 18/150\n",
            "25/25 [==============================] - 5s 219ms/step - loss: 1.5362 - mae: 1.9770\n",
            "Epoch 19/150\n",
            "25/25 [==============================] - 5s 217ms/step - loss: 1.5343 - mae: 1.9752\n",
            "Epoch 20/150\n",
            "25/25 [==============================] - 5s 218ms/step - loss: 1.5336 - mae: 1.9746\n",
            "Epoch 21/150\n",
            "25/25 [==============================] - 6s 221ms/step - loss: 1.5346 - mae: 1.9758\n",
            "Epoch 22/150\n",
            "25/25 [==============================] - 5s 219ms/step - loss: 1.5356 - mae: 1.9771\n",
            "Epoch 23/150\n",
            "25/25 [==============================] - 5s 219ms/step - loss: 1.5328 - mae: 1.9745\n",
            "Epoch 24/150\n",
            "25/25 [==============================] - 6s 220ms/step - loss: 1.5272 - mae: 1.9686\n",
            "Epoch 25/150\n",
            "25/25 [==============================] - 5s 218ms/step - loss: 1.5234 - mae: 1.9646\n",
            "Epoch 26/150\n",
            "25/25 [==============================] - 5s 216ms/step - loss: 1.5204 - mae: 1.9616\n",
            "Epoch 27/150\n",
            "25/25 [==============================] - 5s 216ms/step - loss: 1.5177 - mae: 1.9588\n",
            "Epoch 28/150\n",
            "25/25 [==============================] - 5s 220ms/step - loss: 1.5148 - mae: 1.9558\n",
            "Epoch 29/150\n",
            "25/25 [==============================] - 5s 217ms/step - loss: 1.5127 - mae: 1.9538\n",
            "Epoch 30/150\n",
            "25/25 [==============================] - 5s 219ms/step - loss: 1.5094 - mae: 1.9504\n",
            "Epoch 31/150\n",
            "25/25 [==============================] - 5s 219ms/step - loss: 1.5071 - mae: 1.9479\n",
            "Epoch 32/150\n",
            "25/25 [==============================] - 5s 218ms/step - loss: 1.5046 - mae: 1.9454\n",
            "Epoch 33/150\n",
            "25/25 [==============================] - 5s 217ms/step - loss: 1.5021 - mae: 1.9427\n",
            "Epoch 34/150\n",
            "25/25 [==============================] - 5s 217ms/step - loss: 1.5000 - mae: 1.9405\n",
            "Epoch 35/150\n",
            "25/25 [==============================] - 6s 221ms/step - loss: 1.4976 - mae: 1.9379\n",
            "Epoch 36/150\n",
            "25/25 [==============================] - 5s 219ms/step - loss: 1.4951 - mae: 1.9352\n",
            "Epoch 37/150\n",
            "25/25 [==============================] - 5s 218ms/step - loss: 1.4929 - mae: 1.9329\n",
            "Epoch 38/150\n",
            "25/25 [==============================] - 5s 216ms/step - loss: 1.4908 - mae: 1.9306\n",
            "Epoch 39/150\n",
            "25/25 [==============================] - 5s 219ms/step - loss: 1.4904 - mae: 1.9302\n",
            "Epoch 40/150\n",
            "25/25 [==============================] - 6s 222ms/step - loss: 1.4898 - mae: 1.9296\n",
            "Epoch 41/150\n",
            "25/25 [==============================] - 6s 220ms/step - loss: 1.4895 - mae: 1.9294\n",
            "Epoch 42/150\n",
            "25/25 [==============================] - 5s 219ms/step - loss: 1.4881 - mae: 1.9280\n",
            "Epoch 43/150\n",
            "25/25 [==============================] - 5s 217ms/step - loss: 1.4871 - mae: 1.9269\n",
            "Epoch 44/150\n",
            "25/25 [==============================] - 5s 216ms/step - loss: 1.4866 - mae: 1.9263\n",
            "Epoch 45/150\n",
            "25/25 [==============================] - 5s 218ms/step - loss: 1.4863 - mae: 1.9261\n",
            "Epoch 46/150\n",
            "25/25 [==============================] - 5s 219ms/step - loss: 1.4853 - mae: 1.9250\n",
            "Epoch 47/150\n",
            "25/25 [==============================] - 5s 219ms/step - loss: 1.4846 - mae: 1.9243\n",
            "Epoch 48/150\n",
            "25/25 [==============================] - 5s 219ms/step - loss: 1.4836 - mae: 1.9234\n",
            "Epoch 49/150\n",
            "25/25 [==============================] - 5s 215ms/step - loss: 1.4821 - mae: 1.9217\n",
            "Epoch 50/150\n",
            "25/25 [==============================] - 5s 218ms/step - loss: 1.4815 - mae: 1.9211\n",
            "Epoch 51/150\n",
            "25/25 [==============================] - 5s 217ms/step - loss: 1.4806 - mae: 1.9201\n",
            "Epoch 52/150\n",
            "25/25 [==============================] - 5s 219ms/step - loss: 1.4800 - mae: 1.9194\n",
            "Epoch 53/150\n",
            "25/25 [==============================] - 5s 219ms/step - loss: 1.4793 - mae: 1.9187\n",
            "Epoch 54/150\n",
            "25/25 [==============================] - 6s 220ms/step - loss: 1.4783 - mae: 1.9176\n",
            "Epoch 55/150\n",
            "25/25 [==============================] - 5s 217ms/step - loss: 1.4781 - mae: 1.9174\n",
            "Epoch 56/150\n",
            "25/25 [==============================] - 5s 219ms/step - loss: 1.4775 - mae: 1.9167\n",
            "Epoch 57/150\n",
            "25/25 [==============================] - 5s 218ms/step - loss: 1.4767 - mae: 1.9158\n",
            "Epoch 58/150\n",
            "25/25 [==============================] - 5s 218ms/step - loss: 1.4764 - mae: 1.9156\n",
            "Epoch 59/150\n",
            "25/25 [==============================] - 5s 219ms/step - loss: 1.4762 - mae: 1.9153\n",
            "Epoch 60/150\n",
            "25/25 [==============================] - 5s 217ms/step - loss: 1.4755 - mae: 1.9146\n",
            "Epoch 61/150\n",
            "25/25 [==============================] - 5s 216ms/step - loss: 1.4753 - mae: 1.9144\n",
            "Epoch 62/150\n",
            "25/25 [==============================] - 5s 218ms/step - loss: 1.4746 - mae: 1.9136\n",
            "Epoch 63/150\n",
            "25/25 [==============================] - 5s 220ms/step - loss: 1.4745 - mae: 1.9135\n",
            "Epoch 64/150\n",
            "25/25 [==============================] - 5s 218ms/step - loss: 1.4741 - mae: 1.9131\n",
            "Epoch 65/150\n",
            "25/25 [==============================] - 5s 217ms/step - loss: 1.4736 - mae: 1.9126\n",
            "Epoch 66/150\n",
            "25/25 [==============================] - 5s 217ms/step - loss: 1.4735 - mae: 1.9124\n",
            "Epoch 67/150\n",
            "25/25 [==============================] - 5s 219ms/step - loss: 1.4728 - mae: 1.9117\n",
            "Epoch 68/150\n",
            "25/25 [==============================] - 5s 215ms/step - loss: 1.4726 - mae: 1.9114\n",
            "Epoch 69/150\n",
            "25/25 [==============================] - 5s 219ms/step - loss: 1.4720 - mae: 1.9109\n",
            "Epoch 70/150\n",
            "25/25 [==============================] - 6s 220ms/step - loss: 1.4715 - mae: 1.9102\n",
            "Epoch 71/150\n",
            "25/25 [==============================] - 5s 217ms/step - loss: 1.4716 - mae: 1.9105\n",
            "Epoch 72/150\n",
            "25/25 [==============================] - 5s 216ms/step - loss: 1.4706 - mae: 1.9093\n",
            "Epoch 73/150\n",
            "25/25 [==============================] - 5s 218ms/step - loss: 1.4703 - mae: 1.9090\n",
            "Epoch 74/150\n",
            "25/25 [==============================] - 5s 218ms/step - loss: 1.4704 - mae: 1.9091\n",
            "Epoch 75/150\n",
            "25/25 [==============================] - 5s 219ms/step - loss: 1.4697 - mae: 1.9084\n",
            "Epoch 76/150\n",
            "25/25 [==============================] - 5s 218ms/step - loss: 1.4693 - mae: 1.9079\n",
            "Epoch 77/150\n",
            "25/25 [==============================] - 6s 220ms/step - loss: 1.4692 - mae: 1.9078\n",
            "Epoch 78/150\n",
            "25/25 [==============================] - 5s 217ms/step - loss: 1.4687 - mae: 1.9073\n",
            "Epoch 79/150\n",
            "25/25 [==============================] - 5s 218ms/step - loss: 1.4688 - mae: 1.9074\n",
            "Epoch 80/150\n",
            "25/25 [==============================] - 5s 219ms/step - loss: 1.4680 - mae: 1.9065\n",
            "Epoch 81/150\n",
            "25/25 [==============================] - 6s 220ms/step - loss: 1.4677 - mae: 1.9062\n",
            "Epoch 82/150\n",
            "25/25 [==============================] - 6s 220ms/step - loss: 1.4675 - mae: 1.9060\n",
            "Epoch 83/150\n",
            "25/25 [==============================] - 5s 217ms/step - loss: 1.4672 - mae: 1.9057\n",
            "Epoch 84/150\n",
            "25/25 [==============================] - 5s 219ms/step - loss: 1.4665 - mae: 1.9050\n",
            "Epoch 85/150\n",
            "25/25 [==============================] - 5s 218ms/step - loss: 1.4663 - mae: 1.9047\n",
            "Epoch 86/150\n",
            "25/25 [==============================] - 5s 217ms/step - loss: 1.4662 - mae: 1.9046\n",
            "Epoch 87/150\n",
            "25/25 [==============================] - 6s 221ms/step - loss: 1.4659 - mae: 1.9043\n",
            "Epoch 88/150\n",
            "25/25 [==============================] - 5s 217ms/step - loss: 1.4656 - mae: 1.9040\n",
            "Epoch 89/150\n",
            "25/25 [==============================] - 5s 219ms/step - loss: 1.4652 - mae: 1.9035\n",
            "Epoch 90/150\n",
            "25/25 [==============================] - 5s 219ms/step - loss: 1.4648 - mae: 1.9031\n",
            "Epoch 91/150\n",
            "25/25 [==============================] - 5s 220ms/step - loss: 1.4645 - mae: 1.9028\n",
            "Epoch 92/150\n",
            "25/25 [==============================] - 5s 219ms/step - loss: 1.4642 - mae: 1.9025\n",
            "Epoch 93/150\n",
            "25/25 [==============================] - 6s 220ms/step - loss: 1.4642 - mae: 1.9025\n",
            "Epoch 94/150\n",
            "25/25 [==============================] - 5s 216ms/step - loss: 1.4638 - mae: 1.9021\n",
            "Epoch 95/150\n",
            "25/25 [==============================] - 5s 219ms/step - loss: 1.4635 - mae: 1.9018\n",
            "Epoch 96/150\n",
            "25/25 [==============================] - 6s 221ms/step - loss: 1.4631 - mae: 1.9014\n",
            "Epoch 97/150\n",
            "25/25 [==============================] - 6s 225ms/step - loss: 1.4629 - mae: 1.9011\n",
            "Epoch 98/150\n",
            "25/25 [==============================] - 6s 220ms/step - loss: 1.4625 - mae: 1.9007\n",
            "Epoch 99/150\n",
            "25/25 [==============================] - 6s 223ms/step - loss: 1.4626 - mae: 1.9009\n",
            "Epoch 100/150\n",
            "25/25 [==============================] - 5s 217ms/step - loss: 1.4619 - mae: 1.9001\n",
            "Epoch 101/150\n",
            "25/25 [==============================] - 5s 218ms/step - loss: 1.4619 - mae: 1.9001\n",
            "Epoch 102/150\n",
            "25/25 [==============================] - 5s 217ms/step - loss: 1.4616 - mae: 1.8998\n",
            "Epoch 103/150\n",
            "25/25 [==============================] - 5s 217ms/step - loss: 1.4616 - mae: 1.8998\n",
            "Epoch 104/150\n",
            "25/25 [==============================] - 5s 218ms/step - loss: 1.4613 - mae: 1.8994\n",
            "Epoch 105/150\n",
            "25/25 [==============================] - 5s 217ms/step - loss: 1.4608 - mae: 1.8990\n",
            "Epoch 106/150\n",
            "25/25 [==============================] - 6s 221ms/step - loss: 1.4611 - mae: 1.8993\n",
            "Epoch 107/150\n",
            "25/25 [==============================] - 6s 221ms/step - loss: 1.4607 - mae: 1.8988\n",
            "Epoch 108/150\n",
            "25/25 [==============================] - 6s 223ms/step - loss: 1.4603 - mae: 1.8984\n",
            "Epoch 109/150\n",
            "25/25 [==============================] - 5s 219ms/step - loss: 1.4603 - mae: 1.8983\n",
            "Epoch 110/150\n",
            "25/25 [==============================] - 5s 220ms/step - loss: 1.4598 - mae: 1.8979\n",
            "Epoch 111/150\n",
            "25/25 [==============================] - 5s 219ms/step - loss: 1.4594 - mae: 1.8974\n",
            "Epoch 112/150\n",
            "25/25 [==============================] - 5s 217ms/step - loss: 1.4593 - mae: 1.8973\n",
            "Epoch 113/150\n",
            "25/25 [==============================] - 5s 219ms/step - loss: 1.4593 - mae: 1.8974\n",
            "Epoch 114/150\n",
            "25/25 [==============================] - 5s 219ms/step - loss: 1.4584 - mae: 1.8964\n",
            "Epoch 115/150\n",
            "25/25 [==============================] - 5s 219ms/step - loss: 1.4586 - mae: 1.8965\n",
            "Epoch 116/150\n",
            "25/25 [==============================] - 5s 220ms/step - loss: 1.4581 - mae: 1.8960\n",
            "Epoch 117/150\n",
            "25/25 [==============================] - 6s 221ms/step - loss: 1.4582 - mae: 1.8961\n",
            "Epoch 118/150\n",
            "25/25 [==============================] - 5s 219ms/step - loss: 1.4576 - mae: 1.8955\n",
            "Epoch 119/150\n",
            "25/25 [==============================] - 5s 217ms/step - loss: 1.4577 - mae: 1.8957\n",
            "Epoch 120/150\n",
            "25/25 [==============================] - 5s 215ms/step - loss: 1.4571 - mae: 1.8949\n",
            "Epoch 121/150\n",
            "25/25 [==============================] - 5s 219ms/step - loss: 1.4570 - mae: 1.8949\n",
            "Epoch 122/150\n",
            "25/25 [==============================] - 5s 219ms/step - loss: 1.4569 - mae: 1.8948\n",
            "Epoch 123/150\n",
            "25/25 [==============================] - 5s 215ms/step - loss: 1.4563 - mae: 1.8941\n",
            "Epoch 124/150\n",
            "25/25 [==============================] - 5s 219ms/step - loss: 1.4564 - mae: 1.8943\n",
            "Epoch 125/150\n",
            "25/25 [==============================] - 5s 215ms/step - loss: 1.4560 - mae: 1.8937\n",
            "Epoch 126/150\n",
            "25/25 [==============================] - 5s 214ms/step - loss: 1.4557 - mae: 1.8935\n",
            "Epoch 127/150\n",
            "25/25 [==============================] - 5s 217ms/step - loss: 1.4555 - mae: 1.8933\n",
            "Epoch 128/150\n",
            "25/25 [==============================] - 5s 216ms/step - loss: 1.4553 - mae: 1.8931\n",
            "Epoch 129/150\n",
            "25/25 [==============================] - 5s 218ms/step - loss: 1.4550 - mae: 1.8927\n",
            "Epoch 130/150\n",
            "25/25 [==============================] - 5s 217ms/step - loss: 1.4550 - mae: 1.8928\n",
            "Epoch 131/150\n",
            "25/25 [==============================] - 5s 216ms/step - loss: 1.4547 - mae: 1.8924\n",
            "Epoch 132/150\n",
            "25/25 [==============================] - 6s 220ms/step - loss: 1.4544 - mae: 1.8922\n",
            "Epoch 133/150\n",
            "25/25 [==============================] - 5s 220ms/step - loss: 1.4540 - mae: 1.8917\n",
            "Epoch 134/150\n",
            "25/25 [==============================] - 5s 219ms/step - loss: 1.4539 - mae: 1.8916\n",
            "Epoch 135/150\n",
            "25/25 [==============================] - 5s 219ms/step - loss: 1.4539 - mae: 1.8916\n",
            "Epoch 136/150\n",
            "25/25 [==============================] - 6s 220ms/step - loss: 1.4537 - mae: 1.8915\n",
            "Epoch 137/150\n",
            "25/25 [==============================] - 5s 217ms/step - loss: 1.4531 - mae: 1.8908\n",
            "Epoch 138/150\n",
            "25/25 [==============================] - 5s 220ms/step - loss: 1.4531 - mae: 1.8909\n",
            "Epoch 139/150\n",
            "25/25 [==============================] - 5s 218ms/step - loss: 1.4528 - mae: 1.8905\n",
            "Epoch 140/150\n",
            "25/25 [==============================] - 5s 220ms/step - loss: 1.4525 - mae: 1.8902\n",
            "Epoch 141/150\n",
            "25/25 [==============================] - 5s 219ms/step - loss: 1.4523 - mae: 1.8900\n",
            "Epoch 142/150\n",
            "25/25 [==============================] - 5s 220ms/step - loss: 1.4523 - mae: 1.8900\n",
            "Epoch 143/150\n",
            "25/25 [==============================] - 5s 217ms/step - loss: 1.4519 - mae: 1.8896\n",
            "Epoch 144/150\n",
            "25/25 [==============================] - 5s 219ms/step - loss: 1.4519 - mae: 1.8896\n",
            "Epoch 145/150\n",
            "25/25 [==============================] - 6s 220ms/step - loss: 1.4515 - mae: 1.8891\n",
            "Epoch 146/150\n",
            "25/25 [==============================] - 5s 219ms/step - loss: 1.4514 - mae: 1.8891\n",
            "Epoch 147/150\n",
            "25/25 [==============================] - 5s 219ms/step - loss: 1.4511 - mae: 1.8888\n",
            "Epoch 148/150\n",
            "25/25 [==============================] - 5s 220ms/step - loss: 1.4513 - mae: 1.8891\n",
            "Epoch 149/150\n",
            "25/25 [==============================] - 5s 218ms/step - loss: 1.4510 - mae: 1.8888\n",
            "Epoch 150/150\n",
            "25/25 [==============================] - 5s 218ms/step - loss: 1.4508 - mae: 1.8886\n"
          ],
          "name": "stdout"
        }
      ]
    },
    {
      "cell_type": "code",
      "metadata": {
        "id": "GaC6NNMRp0lb",
        "colab_type": "code",
        "colab": {}
      },
      "source": [
        "rnn_forecast = model_forecast(model, series[..., np.newaxis], window_size)\n",
        "rnn_forecast = rnn_forecast[split_time - window_size:-1, -1, 0]"
      ],
      "execution_count": 0,
      "outputs": []
    },
    {
      "cell_type": "code",
      "metadata": {
        "colab_type": "code",
        "id": "izy6wl2S9d-2",
        "colab": {
          "base_uri": "https://localhost:8080/",
          "height": 389
        },
        "outputId": "6056d58b-be9b-4b1a-96f9-b6ac4a728042"
      },
      "source": [
        "plt.figure(figsize=(10, 6))\n",
        "plot_series(time_valid, x_valid)\n",
        "plot_series(time_valid, rnn_forecast)\n",
        "\n",
        "# EXPECTED OUTPUT. PLOT SHOULD SHOW PROJECTIONS FOLLOWING ORIGINAL DATA CLOSELY"
      ],
      "execution_count": 42,
      "outputs": [
        {
          "output_type": "display_data",
          "data": {
            "image/png": "[encoded data removed]",
            "text/plain": [
              "<Figure size 720x432 with 1 Axes>"
            ]
          },
          "metadata": {
            "tags": []
          }
        }
      ]
    },
    {
      "cell_type": "code",
      "metadata": {
        "id": "13XrorC5wQoE",
        "colab_type": "code",
        "outputId": "10e5e328-5ea3-4508-b749-dcaa38d72f4b",
        "colab": {
          "base_uri": "https://localhost:8080/",
          "height": 35
        }
      },
      "source": [
        "tf.keras.metrics.mean_absolute_error(x_valid, rnn_forecast).numpy()\n",
        "\n",
        "# EXPECTED OUTPUT MAE < 2 -- I GOT 1.789626"
      ],
      "execution_count": 43,
      "outputs": [
        {
          "output_type": "execute_result",
          "data": {
            "text/plain": [
              "1.7729552"
            ]
          },
          "metadata": {
            "tags": []
          },
          "execution_count": 43
        }
      ]
    },
    {
      "cell_type": "code",
      "metadata": {
        "id": "AOVzQXxCwkzP",
        "colab_type": "code",
        "outputId": "81ad1df5-ce8a-4c66-e1be-6408c16bafa5",
        "colab": {
          "base_uri": "https://localhost:8080/",
          "height": 35
        }
      },
      "source": [
        "print(rnn_forecast)\n",
        "# EXPECTED OUTPUT -- ARRAY OF VALUES IN THE LOW TEENS"
      ],
      "execution_count": 44,
      "outputs": [
        {
          "output_type": "stream",
          "text": [
            "[11.646536 11.638047 12.780079 ... 13.873978 13.991112 15.188368]\n"
          ],
          "name": "stdout"
        }
      ]
    }
  ]
}