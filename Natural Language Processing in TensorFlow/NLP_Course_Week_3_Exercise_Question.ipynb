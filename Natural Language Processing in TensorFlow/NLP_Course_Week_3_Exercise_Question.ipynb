{
  "nbformat": 4,
  "nbformat_minor": 0,
  "metadata": {
    "colab": {
      "name": "NLP Course - Week 3 Exercise Question.ipynb",
      "provenance": []
    },
    "kernelspec": {
      "name": "python3",
      "display_name": "Python 3"
    },
    "accelerator": "GPU"
  },
  "cells": [
    {
      "cell_type": "code",
      "metadata": {
        "id": "hmA6EzkQJ5jt",
        "colab_type": "code",
        "colab": {}
      },
      "source": [
        "import json\n",
        "import tensorflow as tf\n",
        "import csv\n",
        "import random\n",
        "import numpy as np\n",
        "\n",
        "from tensorflow.keras.preprocessing.text import Tokenizer\n",
        "from tensorflow.keras.preprocessing.sequence import pad_sequences\n",
        "from tensorflow.keras.utils import to_categorical\n",
        "from tensorflow.keras import regularizers\n",
        "\n",
        "\n",
        "embedding_dim = 100\n",
        "max_length = 16\n",
        "trunc_type='post'\n",
        "padding_type='post'\n",
        "oov_tok = \"<OOV>\"\n",
        "training_size= 160000 #Your dataset size here. Experiment using smaller values (i.e. 16000), but don't forget to train on at least 160000 to see the best effects\n",
        "test_portion=.1\n",
        "\n",
        "corpus = []\n"
      ],
      "execution_count": 0,
      "outputs": []
    },
    {
      "cell_type": "code",
      "metadata": {
        "id": "bM0l_dORKqE0",
        "colab_type": "code",
        "outputId": "910d14a0-901f-4a4f-b021-bc2c09a0d53e",
        "colab": {
          "base_uri": "https://localhost:8080/",
          "height": 217
        }
      },
      "source": [
        "\n",
        "# Note that I cleaned the Stanford dataset to remove LATIN1 encoding to make it easier for Python CSV reader\n",
        "# You can do that yourself with:\n",
        "# iconv -f LATIN1 -t UTF8 training.1600000.processed.noemoticon.csv -o training_cleaned.csv\n",
        "# I then hosted it on my site to make it easier to use in this notebook\n",
        "\n",
        "!wget --no-check-certificate \\\n",
        "    https://storage.googleapis.com/laurencemoroney-blog.appspot.com/training_cleaned.csv \\\n",
        "    -O /tmp/training_cleaned.csv\n",
        "\n",
        "num_sentences = 0\n",
        "\n",
        "with open(\"/tmp/training_cleaned.csv\") as csvfile:\n",
        "    reader = csv.reader(csvfile, delimiter=',')\n",
        "    for row in reader:\n",
        "      # Your Code here. Create list items where the first item is the text, found in row[5], and the second is the label. Note that the label is a '0' or a '4' in the text. When it's the former, make\n",
        "      # your label to be 0, otherwise 1. Keep a count of the number of sentences in num_sentences\n",
        "        list_item=[]\n",
        "        # YOUR CODE HERE\n",
        "        list_item.append(row[5])\n",
        "        label = 0 if row[0]=='0' else 1\n",
        "        list_item.append(label)\n",
        "        num_sentences = num_sentences + 1\n",
        "        corpus.append(list_item)\n",
        "\n",
        "\n"
      ],
      "execution_count": 36,
      "outputs": [
        {
          "output_type": "stream",
          "text": [
            "--2020-01-10 08:55:55--  https://storage.googleapis.com/laurencemoroney-blog.appspot.com/training_cleaned.csv\n",
            "Resolving storage.googleapis.com (storage.googleapis.com)... 172.253.117.128, 2607:f8b0:400e:c0a::80\n",
            "Connecting to storage.googleapis.com (storage.googleapis.com)|172.253.117.128|:443... connected.\n",
            "HTTP request sent, awaiting response... 200 OK\n",
            "Length: 238942690 (228M) [application/octet-stream]\n",
            "Saving to: ‘/tmp/training_cleaned.csv’\n",
            "\n",
            "/tmp/training_clean 100%[===================>] 227.87M   206MB/s    in 1.1s    \n",
            "\n",
            "2020-01-10 08:55:56 (206 MB/s) - ‘/tmp/training_cleaned.csv’ saved [238942690/238942690]\n",
            "\n"
          ],
          "name": "stdout"
        }
      ]
    },
    {
      "cell_type": "code",
      "metadata": {
        "id": "3kxblBUjEUX-",
        "colab_type": "code",
        "outputId": "51021ca5-b38e-40ba-d6ab-69911586afa5",
        "colab": {
          "base_uri": "https://localhost:8080/",
          "height": 72
        }
      },
      "source": [
        "print(num_sentences)\n",
        "print(len(corpus))\n",
        "print(corpus[1])\n",
        "\n",
        "# Expected Output:\n",
        "# 1600000\n",
        "# 1600000\n",
        "# [\"is upset that he can't update his Facebook by texting it... and might cry as a result  School today also. Blah!\", 0]"
      ],
      "execution_count": 37,
      "outputs": [
        {
          "output_type": "stream",
          "text": [
            "1600000\n",
            "1600000\n",
            "[\"is upset that he can't update his Facebook by texting it... and might cry as a result  School today also. Blah!\", 0]\n"
          ],
          "name": "stdout"
        }
      ]
    },
    {
      "cell_type": "code",
      "metadata": {
        "id": "ohOGz24lsNAD",
        "colab_type": "code",
        "colab": {}
      },
      "source": [
        "sentences=[]\n",
        "labels=[]\n",
        "random.shuffle(corpus)\n",
        "for x in range(training_size):\n",
        "    sentences.append(corpus[x][0]) # YOUR CODE HERE)\n",
        "    labels.append(corpus[x][1]) # YOUR CODE HERE)\n",
        "\n",
        "\n",
        "tokenizer = Tokenizer()\n",
        "tokenizer.fit_on_texts(sentences) # YOUR CODE HERE)\n",
        "\n",
        "word_index = tokenizer.word_index\n",
        "vocab_size=len(word_index) # YOUR CODE HERE)\n",
        "\n",
        "sequences = tokenizer.texts_to_sequences(sentences) # YOUR CODE HERE)\n",
        "padded = pad_sequences(sequences, maxlen= max_length, padding= padding_type, truncating= trunc_type) # YOUR CODE HERE)\n",
        "\n",
        "split = int(test_portion * training_size)\n",
        "\n",
        "test_sequences = padded[0:split] # YOUR CODE HERE]\n",
        "training_sequences = padded[split:training_size] # YOUR CODE HERE]\n",
        "test_labels = labels[0:split] # YOUR CODE HERE]\n",
        "training_labels = labels[split:training_size] # YOUR CODE HERE]"
      ],
      "execution_count": 0,
      "outputs": []
    },
    {
      "cell_type": "code",
      "metadata": {
        "id": "gIrtRem1En3N",
        "colab_type": "code",
        "outputId": "c1244c7e-ab24-4b1a-87f7-2fa8ea820a56",
        "colab": {
          "base_uri": "https://localhost:8080/",
          "height": 53
        }
      },
      "source": [
        "print(vocab_size)\n",
        "print(word_index['i'])\n",
        "# Expected Output\n",
        "# 138858\n",
        "# 1"
      ],
      "execution_count": 39,
      "outputs": [
        {
          "output_type": "stream",
          "text": [
            "138273\n",
            "1\n"
          ],
          "name": "stdout"
        }
      ]
    },
    {
      "cell_type": "code",
      "metadata": {
        "id": "C1zdgJkusRh0",
        "colab_type": "code",
        "outputId": "0663bbce-ed46-44ab-8d88-496e8933cc26",
        "colab": {
          "base_uri": "https://localhost:8080/",
          "height": 217
        }
      },
      "source": [
        "# Note this is the 100 dimension version of GloVe from Stanford\n",
        "# I unzipped and hosted it on my site to make this notebook easier\n",
        "!wget --no-check-certificate \\\n",
        "    https://storage.googleapis.com/laurencemoroney-blog.appspot.com/glove.6B.100d.txt \\\n",
        "    -O /tmp/glove.6B.100d.txt\n",
        "embeddings_index = {};\n",
        "with open('/tmp/glove.6B.100d.txt') as f:\n",
        "    for line in f:\n",
        "        values = line.split();\n",
        "        word = values[0];\n",
        "        coefs = np.asarray(values[1:], dtype='float32');\n",
        "        embeddings_index[word] = coefs;\n",
        "\n",
        "embeddings_matrix = np.zeros((vocab_size+1, embedding_dim));\n",
        "for word, i in word_index.items():\n",
        "    embedding_vector = embeddings_index.get(word);\n",
        "    if embedding_vector is not None:\n",
        "        embeddings_matrix[i] = embedding_vector;"
      ],
      "execution_count": 40,
      "outputs": [
        {
          "output_type": "stream",
          "text": [
            "--2020-01-10 08:56:59--  https://storage.googleapis.com/laurencemoroney-blog.appspot.com/glove.6B.100d.txt\n",
            "Resolving storage.googleapis.com (storage.googleapis.com)... 74.125.195.128, 2607:f8b0:400e:c06::80\n",
            "Connecting to storage.googleapis.com (storage.googleapis.com)|74.125.195.128|:443... connected.\n",
            "HTTP request sent, awaiting response... 200 OK\n",
            "Length: 347116733 (331M) [text/plain]\n",
            "Saving to: ‘/tmp/glove.6B.100d.txt’\n",
            "\n",
            "/tmp/glove.6B.100d. 100%[===================>] 331.04M   142MB/s    in 2.3s    \n",
            "\n",
            "2020-01-10 08:57:01 (142 MB/s) - ‘/tmp/glove.6B.100d.txt’ saved [347116733/347116733]\n",
            "\n"
          ],
          "name": "stdout"
        }
      ]
    },
    {
      "cell_type": "code",
      "metadata": {
        "id": "71NLk_lpFLNt",
        "colab_type": "code",
        "outputId": "b65bea48-187b-42ab-b0dd-a958292c23e8",
        "colab": {
          "base_uri": "https://localhost:8080/",
          "height": 35
        }
      },
      "source": [
        "print(len(embeddings_matrix))\n",
        "# Expected Output\n",
        "# 138859"
      ],
      "execution_count": 41,
      "outputs": [
        {
          "output_type": "stream",
          "text": [
            "138274\n"
          ],
          "name": "stdout"
        }
      ]
    },
    {
      "cell_type": "code",
      "metadata": {
        "colab_type": "code",
        "id": "iKKvbuEBOGFz",
        "colab": {
          "base_uri": "https://localhost:8080/",
          "height": 1000
        },
        "outputId": "793be8d0-7c68-4d3b-c8ee-199d5862898f"
      },
      "source": [
        "model = tf.keras.Sequential([\n",
        "    tf.keras.layers.Embedding(vocab_size+1, embedding_dim, input_length=max_length, weights=[embeddings_matrix], trainable=False),\n",
        "    # YOUR CODE HERE - experiment with combining different types, such as convolutions and LSTMs\n",
        "    tf.keras.layers.Dropout(0.2),\n",
        "    tf.keras.layers.GlobalAveragePooling1D(),\n",
        "    #tf.keras.layers.Bidirectional(tf.keras.layers.LSTM(32)),\n",
        "    tf.keras.layers.Dense(64, activation='relu'),\n",
        "    tf.keras.layers.Dense(1, activation='sigmoid')\n",
        "])\n",
        "model.compile(loss='binary_crossentropy', optimizer='adam', metrics=['accuracy'])  # YOUR CODE HERE)\n",
        "model.summary()\n",
        "\n",
        "num_epochs = 50\n",
        "history = model.fit(training_sequences, training_labels, epochs=num_epochs, validation_data=(test_sequences, test_labels), verbose=2)\n",
        "\n",
        "print(\"Training Complete\")\n"
      ],
      "execution_count": 46,
      "outputs": [
        {
          "output_type": "stream",
          "text": [
            "WARNING:tensorflow:From /usr/local/lib/python3.6/dist-packages/tensorflow_core/python/ops/nn_impl.py:183: where (from tensorflow.python.ops.array_ops) is deprecated and will be removed in a future version.\n",
            "Instructions for updating:\n",
            "Use tf.where in 2.0, which has the same broadcast rule as np.where\n",
            "Model: \"sequential_3\"\n",
            "_________________________________________________________________\n",
            "Layer (type)                 Output Shape              Param #   \n",
            "=================================================================\n",
            "embedding_3 (Embedding)      (None, 16, 100)           13827400  \n",
            "_________________________________________________________________\n",
            "dropout_3 (Dropout)          (None, 16, 100)           0         \n",
            "_________________________________________________________________\n",
            "global_average_pooling1d_3 ( (None, 100)               0         \n",
            "_________________________________________________________________\n",
            "dense_6 (Dense)              (None, 64)                6464      \n",
            "_________________________________________________________________\n",
            "dense_7 (Dense)              (None, 1)                 65        \n",
            "=================================================================\n",
            "Total params: 13,833,929\n",
            "Trainable params: 6,529\n",
            "Non-trainable params: 13,827,400\n",
            "_________________________________________________________________\n",
            "Train on 144000 samples, validate on 16000 samples\n",
            "Epoch 1/50\n",
            "144000/144000 - 12s - loss: 0.6114 - acc: 0.6663 - val_loss: 0.5884 - val_acc: 0.6852\n",
            "Epoch 2/50\n",
            "144000/144000 - 10s - loss: 0.5926 - acc: 0.6789 - val_loss: 0.5779 - val_acc: 0.6951\n",
            "Epoch 3/50\n",
            "144000/144000 - 10s - loss: 0.5862 - acc: 0.6867 - val_loss: 0.5741 - val_acc: 0.7028\n",
            "Epoch 4/50\n",
            "144000/144000 - 10s - loss: 0.5839 - acc: 0.6875 - val_loss: 0.5741 - val_acc: 0.6987\n",
            "Epoch 5/50\n",
            "144000/144000 - 10s - loss: 0.5801 - acc: 0.6908 - val_loss: 0.5730 - val_acc: 0.7016\n",
            "Epoch 6/50\n",
            "144000/144000 - 10s - loss: 0.5778 - acc: 0.6926 - val_loss: 0.5654 - val_acc: 0.7053\n",
            "Epoch 7/50\n",
            "144000/144000 - 10s - loss: 0.5764 - acc: 0.6943 - val_loss: 0.5654 - val_acc: 0.7076\n",
            "Epoch 8/50\n",
            "144000/144000 - 10s - loss: 0.5746 - acc: 0.6957 - val_loss: 0.5665 - val_acc: 0.7095\n",
            "Epoch 9/50\n",
            "144000/144000 - 10s - loss: 0.5736 - acc: 0.6964 - val_loss: 0.5692 - val_acc: 0.7014\n",
            "Epoch 10/50\n",
            "144000/144000 - 10s - loss: 0.5715 - acc: 0.6983 - val_loss: 0.5623 - val_acc: 0.7111\n",
            "Epoch 11/50\n",
            "144000/144000 - 10s - loss: 0.5705 - acc: 0.6969 - val_loss: 0.5658 - val_acc: 0.7053\n",
            "Epoch 12/50\n",
            "144000/144000 - 10s - loss: 0.5690 - acc: 0.6989 - val_loss: 0.5660 - val_acc: 0.7079\n",
            "Epoch 13/50\n",
            "144000/144000 - 10s - loss: 0.5678 - acc: 0.7015 - val_loss: 0.5620 - val_acc: 0.7097\n",
            "Epoch 14/50\n",
            "144000/144000 - 10s - loss: 0.5672 - acc: 0.7014 - val_loss: 0.5644 - val_acc: 0.7078\n",
            "Epoch 15/50\n",
            "144000/144000 - 10s - loss: 0.5669 - acc: 0.7012 - val_loss: 0.5632 - val_acc: 0.7100\n",
            "Epoch 16/50\n",
            "144000/144000 - 10s - loss: 0.5653 - acc: 0.7037 - val_loss: 0.5614 - val_acc: 0.7111\n",
            "Epoch 17/50\n",
            "144000/144000 - 10s - loss: 0.5643 - acc: 0.7037 - val_loss: 0.5610 - val_acc: 0.7096\n",
            "Epoch 18/50\n",
            "144000/144000 - 10s - loss: 0.5638 - acc: 0.7028 - val_loss: 0.5644 - val_acc: 0.7099\n",
            "Epoch 19/50\n",
            "144000/144000 - 10s - loss: 0.5634 - acc: 0.7047 - val_loss: 0.5605 - val_acc: 0.7101\n",
            "Epoch 20/50\n",
            "144000/144000 - 10s - loss: 0.5634 - acc: 0.7034 - val_loss: 0.5602 - val_acc: 0.7122\n",
            "Epoch 21/50\n",
            "144000/144000 - 10s - loss: 0.5628 - acc: 0.7049 - val_loss: 0.5609 - val_acc: 0.7105\n",
            "Epoch 22/50\n",
            "144000/144000 - 10s - loss: 0.5626 - acc: 0.7042 - val_loss: 0.5600 - val_acc: 0.7106\n",
            "Epoch 23/50\n",
            "144000/144000 - 10s - loss: 0.5615 - acc: 0.7062 - val_loss: 0.5653 - val_acc: 0.7096\n",
            "Epoch 24/50\n",
            "144000/144000 - 10s - loss: 0.5622 - acc: 0.7052 - val_loss: 0.5621 - val_acc: 0.7084\n",
            "Epoch 25/50\n",
            "144000/144000 - 10s - loss: 0.5612 - acc: 0.7061 - val_loss: 0.5587 - val_acc: 0.7118\n",
            "Epoch 26/50\n",
            "144000/144000 - 10s - loss: 0.5612 - acc: 0.7064 - val_loss: 0.5590 - val_acc: 0.7106\n",
            "Epoch 27/50\n",
            "144000/144000 - 10s - loss: 0.5606 - acc: 0.7067 - val_loss: 0.5608 - val_acc: 0.7112\n",
            "Epoch 28/50\n",
            "144000/144000 - 10s - loss: 0.5606 - acc: 0.7056 - val_loss: 0.5604 - val_acc: 0.7112\n",
            "Epoch 29/50\n",
            "144000/144000 - 10s - loss: 0.5598 - acc: 0.7061 - val_loss: 0.5637 - val_acc: 0.7084\n",
            "Epoch 30/50\n",
            "144000/144000 - 10s - loss: 0.5602 - acc: 0.7067 - val_loss: 0.5603 - val_acc: 0.7103\n",
            "Epoch 31/50\n",
            "144000/144000 - 10s - loss: 0.5605 - acc: 0.7053 - val_loss: 0.5610 - val_acc: 0.7117\n",
            "Epoch 32/50\n",
            "144000/144000 - 10s - loss: 0.5589 - acc: 0.7084 - val_loss: 0.5618 - val_acc: 0.7101\n",
            "Epoch 33/50\n",
            "144000/144000 - 10s - loss: 0.5586 - acc: 0.7082 - val_loss: 0.5567 - val_acc: 0.7134\n",
            "Epoch 34/50\n",
            "144000/144000 - 10s - loss: 0.5583 - acc: 0.7082 - val_loss: 0.5598 - val_acc: 0.7125\n",
            "Epoch 35/50\n",
            "144000/144000 - 10s - loss: 0.5589 - acc: 0.7070 - val_loss: 0.5671 - val_acc: 0.7063\n",
            "Epoch 36/50\n",
            "144000/144000 - 10s - loss: 0.5584 - acc: 0.7080 - val_loss: 0.5582 - val_acc: 0.7126\n",
            "Epoch 37/50\n",
            "144000/144000 - 10s - loss: 0.5576 - acc: 0.7092 - val_loss: 0.5628 - val_acc: 0.7106\n",
            "Epoch 38/50\n",
            "144000/144000 - 10s - loss: 0.5576 - acc: 0.7088 - val_loss: 0.5560 - val_acc: 0.7151\n",
            "Epoch 39/50\n",
            "144000/144000 - 10s - loss: 0.5578 - acc: 0.7088 - val_loss: 0.5600 - val_acc: 0.7139\n",
            "Epoch 40/50\n",
            "144000/144000 - 10s - loss: 0.5565 - acc: 0.7096 - val_loss: 0.5658 - val_acc: 0.7054\n",
            "Epoch 41/50\n",
            "144000/144000 - 10s - loss: 0.5564 - acc: 0.7091 - val_loss: 0.5585 - val_acc: 0.7111\n",
            "Epoch 42/50\n",
            "144000/144000 - 10s - loss: 0.5582 - acc: 0.7076 - val_loss: 0.5577 - val_acc: 0.7136\n",
            "Epoch 43/50\n",
            "144000/144000 - 10s - loss: 0.5559 - acc: 0.7095 - val_loss: 0.5627 - val_acc: 0.7113\n",
            "Epoch 44/50\n",
            "144000/144000 - 10s - loss: 0.5572 - acc: 0.7108 - val_loss: 0.5603 - val_acc: 0.7104\n",
            "Epoch 45/50\n",
            "144000/144000 - 10s - loss: 0.5560 - acc: 0.7108 - val_loss: 0.5574 - val_acc: 0.7142\n",
            "Epoch 46/50\n",
            "144000/144000 - 10s - loss: 0.5573 - acc: 0.7097 - val_loss: 0.5618 - val_acc: 0.7087\n",
            "Epoch 47/50\n",
            "144000/144000 - 10s - loss: 0.5555 - acc: 0.7103 - val_loss: 0.5669 - val_acc: 0.7049\n",
            "Epoch 48/50\n",
            "144000/144000 - 10s - loss: 0.5561 - acc: 0.7106 - val_loss: 0.5584 - val_acc: 0.7149\n",
            "Epoch 49/50\n",
            "144000/144000 - 10s - loss: 0.5548 - acc: 0.7116 - val_loss: 0.5593 - val_acc: 0.7138\n",
            "Epoch 50/50\n",
            "144000/144000 - 10s - loss: 0.5551 - acc: 0.7112 - val_loss: 0.5581 - val_acc: 0.7151\n",
            "Training Complete\n"
          ],
          "name": "stdout"
        }
      ]
    },
    {
      "cell_type": "code",
      "metadata": {
        "id": "qxju4ItJKO8F",
        "colab_type": "code",
        "colab": {
          "base_uri": "https://localhost:8080/",
          "height": 609
        },
        "outputId": "6b9095e9-e065-4aef-ec4e-22919b499367"
      },
      "source": [
        "import matplotlib.image  as mpimg\n",
        "import matplotlib.pyplot as plt\n",
        "\n",
        "#-----------------------------------------------------------\n",
        "# Retrieve a list of list results on training and test data\n",
        "# sets for each training epoch\n",
        "#-----------------------------------------------------------\n",
        "acc=history.history['acc']\n",
        "val_acc=history.history['val_acc']\n",
        "loss=history.history['loss']\n",
        "val_loss=history.history['val_loss']\n",
        "\n",
        "epochs=range(len(acc)) # Get number of epochs\n",
        "\n",
        "#------------------------------------------------\n",
        "# Plot training and validation accuracy per epoch\n",
        "#------------------------------------------------\n",
        "plt.plot(epochs, acc, 'r')\n",
        "plt.plot(epochs, val_acc, 'b')\n",
        "plt.title('Training and validation accuracy')\n",
        "plt.xlabel(\"Epochs\")\n",
        "plt.ylabel(\"Accuracy\")\n",
        "plt.legend([\"Accuracy\", \"Validation Accuracy\"])\n",
        "\n",
        "plt.figure()\n",
        "\n",
        "#------------------------------------------------\n",
        "# Plot training and validation loss per epoch\n",
        "#------------------------------------------------\n",
        "plt.plot(epochs, loss, 'r')\n",
        "plt.plot(epochs, val_loss, 'b')\n",
        "plt.title('Training and validation loss')\n",
        "plt.xlabel(\"Epochs\")\n",
        "plt.ylabel(\"Loss\")\n",
        "plt.legend([\"Loss\", \"Validation Loss\"])\n",
        "\n",
        "plt.figure()\n",
        "\n",
        "\n",
        "# Expected Output\n",
        "# A chart where the validation loss does not increase sharply!"
      ],
      "execution_count": 48,
      "outputs": [
        {
          "output_type": "execute_result",
          "data": {
            "text/plain": [
              "<Figure size 432x288 with 0 Axes>"
            ]
          },
          "metadata": {
            "tags": []
          },
          "execution_count": 48
        },
        {
          "output_type": "display_data",
          "data": {
            "image/png": "[encoded data removed]",
            "text/plain": [
              "<Figure size 432x288 with 1 Axes>"
            ]
          },
          "metadata": {
            "tags": []
          }
        },
        {
          "output_type": "display_data",
          "data": {
            "image/png": "[encoded data removed]",
            "text/plain": [
              "<Figure size 432x288 with 1 Axes>"
            ]
          },
          "metadata": {
            "tags": []
          }
        },
        {
          "output_type": "display_data",
          "data": {
            "text/plain": [
              "<Figure size 432x288 with 0 Axes>"
            ]
          },
          "metadata": {
            "tags": []
          }
        }
      ]
    }
  ]
}