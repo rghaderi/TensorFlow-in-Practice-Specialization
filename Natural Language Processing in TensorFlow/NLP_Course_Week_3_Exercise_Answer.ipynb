{
  "nbformat": 4,
  "nbformat_minor": 0,
  "metadata": {
    "colab": {
      "name": "NLP Course - Week 3 Exercise Answer.ipynb",
      "provenance": []
    },
    "kernelspec": {
      "name": "python3",
      "display_name": "Python 3"
    },
    "accelerator": "GPU"
  },
  "cells": [
    {
      "cell_type": "code",
      "metadata": {
        "id": "hmA6EzkQJ5jt",
        "colab_type": "code",
        "colab": {}
      },
      "source": [
        "import json\n",
        "import tensorflow as tf\n",
        "import csv\n",
        "import random\n",
        "import numpy as np\n",
        "\n",
        "from tensorflow.keras.preprocessing.text import Tokenizer\n",
        "from tensorflow.keras.preprocessing.sequence import pad_sequences\n",
        "from tensorflow.keras.utils import to_categorical\n",
        "from tensorflow.keras import regularizers\n",
        "\n",
        "\n",
        "embedding_dim = 100\n",
        "max_length = 16\n",
        "trunc_type='post'\n",
        "padding_type='post'\n",
        "oov_tok = \"<OOV>\"\n",
        "training_size=160000\n",
        "test_portion=.1\n",
        "\n",
        "corpus = []\n"
      ],
      "execution_count": 0,
      "outputs": []
    },
    {
      "cell_type": "code",
      "metadata": {
        "id": "bM0l_dORKqE0",
        "colab_type": "code",
        "outputId": "8022dfa2-71e0-4195-9610-f1f2f0aab097",
        "colab": {
          "base_uri": "https://localhost:8080/",
          "height": 217
        }
      },
      "source": [
        "\n",
        "# Note that I cleaned the Stanford dataset to remove LATIN1 encoding to make it easier for Python CSV reader\n",
        "# You can do that yourself with:\n",
        "# iconv -f LATIN1 -t UTF8 training.1600000.processed.noemoticon.csv -o training_cleaned.csv\n",
        "# I then hosted it on my site to make it easier to use in this notebook\n",
        "\n",
        "!wget --no-check-certificate \\\n",
        "    https://storage.googleapis.com/laurencemoroney-blog.appspot.com/training_cleaned.csv \\\n",
        "    -O /tmp/training_cleaned.csv\n",
        "\n",
        "num_sentences = 0\n",
        "\n",
        "with open(\"/tmp/training_cleaned.csv\") as csvfile:\n",
        "    reader = csv.reader(csvfile, delimiter=',')\n",
        "    for row in reader:\n",
        "        list_item=[]\n",
        "        list_item.append(row[5])\n",
        "        this_label=row[0]\n",
        "        if this_label=='0':\n",
        "            list_item.append(0)\n",
        "        else:\n",
        "            list_item.append(1)\n",
        "        num_sentences = num_sentences + 1\n",
        "        corpus.append(list_item)\n",
        "\n",
        "\n"
      ],
      "execution_count": 10,
      "outputs": [
        {
          "output_type": "stream",
          "text": [
            "--2020-01-10 08:55:47--  https://storage.googleapis.com/laurencemoroney-blog.appspot.com/training_cleaned.csv\n",
            "Resolving storage.googleapis.com (storage.googleapis.com)... 74.125.197.128, 2607:f8b0:400e:c09::80\n",
            "Connecting to storage.googleapis.com (storage.googleapis.com)|74.125.197.128|:443... connected.\n",
            "HTTP request sent, awaiting response... 200 OK\n",
            "Length: 238942690 (228M) [application/octet-stream]\n",
            "Saving to: ‘/tmp/training_cleaned.csv’\n",
            "\n",
            "/tmp/training_clean 100%[===================>] 227.87M   212MB/s    in 1.1s    \n",
            "\n",
            "2020-01-10 08:55:48 (212 MB/s) - ‘/tmp/training_cleaned.csv’ saved [238942690/238942690]\n",
            "\n"
          ],
          "name": "stdout"
        }
      ]
    },
    {
      "cell_type": "code",
      "metadata": {
        "id": "3kxblBUjEUX-",
        "colab_type": "code",
        "outputId": "117b6cd7-dad2-4c97-fc7b-5af4d04889e7",
        "colab": {
          "base_uri": "https://localhost:8080/",
          "height": 72
        }
      },
      "source": [
        "print(num_sentences)\n",
        "print(len(corpus))\n",
        "print(corpus[1])\n",
        "\n",
        "# Expected Output:\n",
        "# 1600000\n",
        "# 1600000\n",
        "# [\"is upset that he can't update his Facebook by texting it... and might cry as a result  School today also. Blah!\", 0]"
      ],
      "execution_count": 11,
      "outputs": [
        {
          "output_type": "stream",
          "text": [
            "1600000\n",
            "1600000\n",
            "[\"is upset that he can't update his Facebook by texting it... and might cry as a result  School today also. Blah!\", 0]\n"
          ],
          "name": "stdout"
        }
      ]
    },
    {
      "cell_type": "code",
      "metadata": {
        "id": "ohOGz24lsNAD",
        "colab_type": "code",
        "colab": {}
      },
      "source": [
        "sentences=[]\n",
        "labels=[]\n",
        "random.shuffle(corpus)\n",
        "for x in range(training_size):\n",
        "    sentences.append(corpus[x][0])\n",
        "    labels.append(corpus[x][1])\n",
        "\n",
        "\n",
        "tokenizer = Tokenizer()\n",
        "tokenizer.fit_on_texts(sentences)\n",
        "\n",
        "word_index = tokenizer.word_index\n",
        "vocab_size=len(word_index)\n",
        "\n",
        "sequences = tokenizer.texts_to_sequences(sentences)\n",
        "padded = pad_sequences(sequences, maxlen=max_length, padding=padding_type, truncating=trunc_type)\n",
        "\n",
        "split = int(test_portion * training_size)\n",
        "\n",
        "test_sequences = padded[0:split]\n",
        "training_sequences = padded[split:training_size]\n",
        "test_labels = labels[0:split]\n",
        "training_labels = labels[split:training_size]"
      ],
      "execution_count": 0,
      "outputs": []
    },
    {
      "cell_type": "code",
      "metadata": {
        "id": "gIrtRem1En3N",
        "colab_type": "code",
        "outputId": "d2c900c2-23e1-4551-b08f-7807c5d44f0f",
        "colab": {
          "base_uri": "https://localhost:8080/",
          "height": 53
        }
      },
      "source": [
        "print(vocab_size)\n",
        "print(word_index['i'])\n",
        "# Expected Output\n",
        "# 138858\n",
        "# 1"
      ],
      "execution_count": 13,
      "outputs": [
        {
          "output_type": "stream",
          "text": [
            "138765\n",
            "1\n"
          ],
          "name": "stdout"
        }
      ]
    },
    {
      "cell_type": "code",
      "metadata": {
        "id": "C1zdgJkusRh0",
        "colab_type": "code",
        "outputId": "5f9cc015-6bcd-479b-f61b-02653910291e",
        "colab": {
          "base_uri": "https://localhost:8080/",
          "height": 217
        }
      },
      "source": [
        "# Note this is the 100 dimension version of GloVe from Stanford\n",
        "# I unzipped and hosted it on my site to make this notebook easier\n",
        "!wget --no-check-certificate \\\n",
        "    https://storage.googleapis.com/laurencemoroney-blog.appspot.com/glove.6B.100d.txt \\\n",
        "    -O /tmp/glove.6B.100d.txt\n",
        "embeddings_index = {};\n",
        "with open('/tmp/glove.6B.100d.txt') as f:\n",
        "    for line in f:\n",
        "        values = line.split();\n",
        "        word = values[0];\n",
        "        coefs = np.asarray(values[1:], dtype='float32');\n",
        "        embeddings_index[word] = coefs;\n",
        "\n",
        "embeddings_matrix = np.zeros((vocab_size+1, embedding_dim));\n",
        "for word, i in word_index.items():\n",
        "    embedding_vector = embeddings_index.get(word);\n",
        "    if embedding_vector is not None:\n",
        "        embeddings_matrix[i] = embedding_vector;"
      ],
      "execution_count": 14,
      "outputs": [
        {
          "output_type": "stream",
          "text": [
            "--2020-01-10 08:56:48--  https://storage.googleapis.com/laurencemoroney-blog.appspot.com/glove.6B.100d.txt\n",
            "Resolving storage.googleapis.com (storage.googleapis.com)... 74.125.195.128, 2607:f8b0:400e:c08::80\n",
            "Connecting to storage.googleapis.com (storage.googleapis.com)|74.125.195.128|:443... connected.\n",
            "HTTP request sent, awaiting response... 200 OK\n",
            "Length: 347116733 (331M) [text/plain]\n",
            "Saving to: ‘/tmp/glove.6B.100d.txt’\n",
            "\n",
            "/tmp/glove.6B.100d. 100%[===================>] 331.04M   150MB/s    in 2.2s    \n",
            "\n",
            "2020-01-10 08:56:50 (150 MB/s) - ‘/tmp/glove.6B.100d.txt’ saved [347116733/347116733]\n",
            "\n"
          ],
          "name": "stdout"
        }
      ]
    },
    {
      "cell_type": "code",
      "metadata": {
        "id": "71NLk_lpFLNt",
        "colab_type": "code",
        "outputId": "2046237d-9127-4ef6-c2e0-8cc2d1e53821",
        "colab": {
          "base_uri": "https://localhost:8080/",
          "height": 35
        }
      },
      "source": [
        "print(len(embeddings_matrix))\n",
        "# Expected Output\n",
        "# 138859"
      ],
      "execution_count": 15,
      "outputs": [
        {
          "output_type": "stream",
          "text": [
            "138766\n"
          ],
          "name": "stdout"
        }
      ]
    },
    {
      "cell_type": "code",
      "metadata": {
        "colab_type": "code",
        "id": "iKKvbuEBOGFz",
        "colab": {
          "base_uri": "https://localhost:8080/",
          "height": 1000
        },
        "outputId": "f2022486-dd4c-4f13-8806-cb1b29d10c75"
      },
      "source": [
        "model = tf.keras.Sequential([\n",
        "    tf.keras.layers.Embedding(vocab_size+1, embedding_dim, input_length=max_length, weights=[embeddings_matrix], trainable=False),\n",
        "    tf.keras.layers.Dropout(0.2),\n",
        "    tf.keras.layers.Conv1D(64, 5, activation='relu'),\n",
        "    tf.keras.layers.MaxPooling1D(pool_size=4),\n",
        "    tf.keras.layers.LSTM(64),\n",
        "    tf.keras.layers.Dense(1, activation='sigmoid')\n",
        "])\n",
        "model.compile(loss='binary_crossentropy',optimizer='adam',metrics=['accuracy'])\n",
        "model.summary()\n",
        "\n",
        "num_epochs = 50\n",
        "history = model.fit(training_sequences, training_labels, epochs=num_epochs, validation_data=(test_sequences, test_labels), verbose=2)\n",
        "\n",
        "print(\"Training Complete\")\n"
      ],
      "execution_count": 16,
      "outputs": [
        {
          "output_type": "stream",
          "text": [
            "WARNING:tensorflow:From /usr/local/lib/python3.6/dist-packages/tensorflow_core/python/keras/initializers.py:119: calling RandomUniform.__init__ (from tensorflow.python.ops.init_ops) with dtype is deprecated and will be removed in a future version.\n",
            "Instructions for updating:\n",
            "Call initializer instance with the dtype argument instead of passing it to the constructor\n",
            "WARNING:tensorflow:From /usr/local/lib/python3.6/dist-packages/tensorflow_core/python/ops/resource_variable_ops.py:1630: calling BaseResourceVariable.__init__ (from tensorflow.python.ops.resource_variable_ops) with constraint is deprecated and will be removed in a future version.\n",
            "Instructions for updating:\n",
            "If using Keras pass *_constraint arguments to layers.\n",
            "WARNING:tensorflow:From /usr/local/lib/python3.6/dist-packages/tensorflow_core/python/ops/nn_impl.py:183: where (from tensorflow.python.ops.array_ops) is deprecated and will be removed in a future version.\n",
            "Instructions for updating:\n",
            "Use tf.where in 2.0, which has the same broadcast rule as np.where\n",
            "Model: \"sequential\"\n",
            "_________________________________________________________________\n",
            "Layer (type)                 Output Shape              Param #   \n",
            "=================================================================\n",
            "embedding (Embedding)        (None, 16, 100)           13876600  \n",
            "_________________________________________________________________\n",
            "dropout (Dropout)            (None, 16, 100)           0         \n",
            "_________________________________________________________________\n",
            "conv1d (Conv1D)              (None, 12, 64)            32064     \n",
            "_________________________________________________________________\n",
            "max_pooling1d (MaxPooling1D) (None, 3, 64)             0         \n",
            "_________________________________________________________________\n",
            "lstm (LSTM)                  (None, 64)                33024     \n",
            "_________________________________________________________________\n",
            "dense (Dense)                (None, 1)                 65        \n",
            "=================================================================\n",
            "Total params: 13,941,753\n",
            "Trainable params: 65,153\n",
            "Non-trainable params: 13,876,600\n",
            "_________________________________________________________________\n",
            "Train on 144000 samples, validate on 16000 samples\n",
            "Epoch 1/50\n",
            "144000/144000 - 50s - loss: 0.5655 - acc: 0.7007 - val_loss: 0.5202 - val_acc: 0.7369\n",
            "Epoch 2/50\n",
            "144000/144000 - 43s - loss: 0.5256 - acc: 0.7334 - val_loss: 0.5051 - val_acc: 0.7516\n",
            "Epoch 3/50\n",
            "144000/144000 - 43s - loss: 0.5087 - acc: 0.7462 - val_loss: 0.5016 - val_acc: 0.7557\n",
            "Epoch 4/50\n",
            "144000/144000 - 43s - loss: 0.4973 - acc: 0.7531 - val_loss: 0.4961 - val_acc: 0.7577\n",
            "Epoch 5/50\n",
            "144000/144000 - 43s - loss: 0.4881 - acc: 0.7592 - val_loss: 0.4977 - val_acc: 0.7579\n",
            "Epoch 6/50\n",
            "144000/144000 - 43s - loss: 0.4815 - acc: 0.7635 - val_loss: 0.4946 - val_acc: 0.7558\n",
            "Epoch 7/50\n",
            "144000/144000 - 43s - loss: 0.4772 - acc: 0.7668 - val_loss: 0.4940 - val_acc: 0.7599\n",
            "Epoch 8/50\n",
            "144000/144000 - 43s - loss: 0.4707 - acc: 0.7706 - val_loss: 0.4965 - val_acc: 0.7592\n",
            "Epoch 9/50\n",
            "144000/144000 - 43s - loss: 0.4668 - acc: 0.7729 - val_loss: 0.4947 - val_acc: 0.7564\n",
            "Epoch 10/50\n",
            "144000/144000 - 43s - loss: 0.4636 - acc: 0.7750 - val_loss: 0.4963 - val_acc: 0.7575\n",
            "Epoch 11/50\n",
            "144000/144000 - 44s - loss: 0.4607 - acc: 0.7756 - val_loss: 0.4987 - val_acc: 0.7567\n",
            "Epoch 12/50\n",
            "144000/144000 - 45s - loss: 0.4571 - acc: 0.7792 - val_loss: 0.5005 - val_acc: 0.7549\n",
            "Epoch 13/50\n",
            "144000/144000 - 44s - loss: 0.4540 - acc: 0.7800 - val_loss: 0.4970 - val_acc: 0.7623\n",
            "Epoch 14/50\n",
            "144000/144000 - 43s - loss: 0.4526 - acc: 0.7823 - val_loss: 0.5046 - val_acc: 0.7584\n",
            "Epoch 15/50\n",
            "144000/144000 - 43s - loss: 0.4514 - acc: 0.7817 - val_loss: 0.5016 - val_acc: 0.7562\n",
            "Epoch 16/50\n",
            "144000/144000 - 43s - loss: 0.4497 - acc: 0.7827 - val_loss: 0.5025 - val_acc: 0.7534\n",
            "Epoch 17/50\n",
            "144000/144000 - 43s - loss: 0.4477 - acc: 0.7847 - val_loss: 0.5035 - val_acc: 0.7566\n",
            "Epoch 18/50\n",
            "144000/144000 - 43s - loss: 0.4461 - acc: 0.7855 - val_loss: 0.5022 - val_acc: 0.7560\n",
            "Epoch 19/50\n",
            "144000/144000 - 43s - loss: 0.4438 - acc: 0.7862 - val_loss: 0.5088 - val_acc: 0.7566\n",
            "Epoch 20/50\n",
            "144000/144000 - 43s - loss: 0.4426 - acc: 0.7879 - val_loss: 0.5057 - val_acc: 0.7560\n",
            "Epoch 21/50\n",
            "144000/144000 - 43s - loss: 0.4415 - acc: 0.7881 - val_loss: 0.5079 - val_acc: 0.7514\n",
            "Epoch 22/50\n",
            "144000/144000 - 43s - loss: 0.4394 - acc: 0.7893 - val_loss: 0.5044 - val_acc: 0.7576\n",
            "Epoch 23/50\n",
            "144000/144000 - 43s - loss: 0.4398 - acc: 0.7893 - val_loss: 0.5165 - val_acc: 0.7526\n",
            "Epoch 24/50\n",
            "144000/144000 - 43s - loss: 0.4382 - acc: 0.7911 - val_loss: 0.5064 - val_acc: 0.7558\n",
            "Epoch 25/50\n",
            "144000/144000 - 44s - loss: 0.4382 - acc: 0.7903 - val_loss: 0.5090 - val_acc: 0.7516\n",
            "Epoch 26/50\n",
            "144000/144000 - 43s - loss: 0.4372 - acc: 0.7905 - val_loss: 0.5067 - val_acc: 0.7538\n",
            "Epoch 27/50\n",
            "144000/144000 - 44s - loss: 0.4375 - acc: 0.7903 - val_loss: 0.5029 - val_acc: 0.7542\n",
            "Epoch 28/50\n",
            "144000/144000 - 44s - loss: 0.4368 - acc: 0.7917 - val_loss: 0.5098 - val_acc: 0.7551\n",
            "Epoch 29/50\n",
            "144000/144000 - 43s - loss: 0.4356 - acc: 0.7918 - val_loss: 0.5134 - val_acc: 0.7548\n",
            "Epoch 30/50\n",
            "144000/144000 - 43s - loss: 0.4355 - acc: 0.7911 - val_loss: 0.5091 - val_acc: 0.7539\n",
            "Epoch 31/50\n",
            "144000/144000 - 44s - loss: 0.4353 - acc: 0.7926 - val_loss: 0.5071 - val_acc: 0.7556\n",
            "Epoch 32/50\n",
            "144000/144000 - 43s - loss: 0.4333 - acc: 0.7930 - val_loss: 0.5109 - val_acc: 0.7538\n",
            "Epoch 33/50\n",
            "144000/144000 - 44s - loss: 0.4334 - acc: 0.7924 - val_loss: 0.5107 - val_acc: 0.7535\n",
            "Epoch 34/50\n",
            "144000/144000 - 44s - loss: 0.4337 - acc: 0.7939 - val_loss: 0.5164 - val_acc: 0.7533\n",
            "Epoch 35/50\n",
            "144000/144000 - 44s - loss: 0.4330 - acc: 0.7935 - val_loss: 0.5173 - val_acc: 0.7491\n",
            "Epoch 36/50\n",
            "144000/144000 - 43s - loss: 0.4333 - acc: 0.7925 - val_loss: 0.5149 - val_acc: 0.7539\n",
            "Epoch 37/50\n",
            "144000/144000 - 43s - loss: 0.4317 - acc: 0.7935 - val_loss: 0.5124 - val_acc: 0.7566\n",
            "Epoch 38/50\n",
            "144000/144000 - 43s - loss: 0.4334 - acc: 0.7925 - val_loss: 0.5128 - val_acc: 0.7517\n",
            "Epoch 39/50\n",
            "144000/144000 - 43s - loss: 0.4317 - acc: 0.7936 - val_loss: 0.5171 - val_acc: 0.7518\n",
            "Epoch 40/50\n",
            "144000/144000 - 44s - loss: 0.4312 - acc: 0.7944 - val_loss: 0.5126 - val_acc: 0.7542\n",
            "Epoch 41/50\n",
            "144000/144000 - 43s - loss: 0.4310 - acc: 0.7949 - val_loss: 0.5113 - val_acc: 0.7532\n",
            "Epoch 42/50\n",
            "144000/144000 - 44s - loss: 0.4312 - acc: 0.7947 - val_loss: 0.5099 - val_acc: 0.7519\n",
            "Epoch 43/50\n",
            "144000/144000 - 43s - loss: 0.4310 - acc: 0.7944 - val_loss: 0.5118 - val_acc: 0.7539\n",
            "Epoch 44/50\n",
            "144000/144000 - 43s - loss: 0.4308 - acc: 0.7941 - val_loss: 0.5116 - val_acc: 0.7518\n",
            "Epoch 45/50\n",
            "144000/144000 - 44s - loss: 0.4304 - acc: 0.7954 - val_loss: 0.5180 - val_acc: 0.7502\n",
            "Epoch 46/50\n",
            "144000/144000 - 43s - loss: 0.4303 - acc: 0.7949 - val_loss: 0.5171 - val_acc: 0.7533\n",
            "Epoch 47/50\n",
            "144000/144000 - 44s - loss: 0.4303 - acc: 0.7939 - val_loss: 0.5173 - val_acc: 0.7523\n",
            "Epoch 48/50\n",
            "144000/144000 - 43s - loss: 0.4290 - acc: 0.7952 - val_loss: 0.5168 - val_acc: 0.7509\n",
            "Epoch 49/50\n",
            "144000/144000 - 43s - loss: 0.4289 - acc: 0.7958 - val_loss: 0.5190 - val_acc: 0.7519\n",
            "Epoch 50/50\n",
            "144000/144000 - 43s - loss: 0.4276 - acc: 0.7955 - val_loss: 0.5180 - val_acc: 0.7530\n",
            "Training Complete\n"
          ],
          "name": "stdout"
        }
      ]
    },
    {
      "cell_type": "code",
      "metadata": {
        "id": "qxju4ItJKO8F",
        "colab_type": "code",
        "colab": {
          "base_uri": "https://localhost:8080/",
          "height": 609
        },
        "outputId": "d4f24b3e-6977-4dca-aaa3-639894430cd2"
      },
      "source": [
        "import matplotlib.image  as mpimg\n",
        "import matplotlib.pyplot as plt\n",
        "\n",
        "#-----------------------------------------------------------\n",
        "# Retrieve a list of list results on training and test data\n",
        "# sets for each training epoch\n",
        "#-----------------------------------------------------------\n",
        "acc=history.history['acc']\n",
        "val_acc=history.history['val_acc']\n",
        "loss=history.history['loss']\n",
        "val_loss=history.history['val_loss']\n",
        "\n",
        "epochs=range(len(acc)) # Get number of epochs\n",
        "\n",
        "#------------------------------------------------\n",
        "# Plot training and validation accuracy per epoch\n",
        "#------------------------------------------------\n",
        "plt.plot(epochs, acc, 'r')\n",
        "plt.plot(epochs, val_acc, 'b')\n",
        "plt.title('Training and validation accuracy')\n",
        "plt.xlabel(\"Epochs\")\n",
        "plt.ylabel(\"Accuracy\")\n",
        "plt.legend([\"Accuracy\", \"Validation Accuracy\"])\n",
        "\n",
        "plt.figure()\n",
        "\n",
        "#------------------------------------------------\n",
        "# Plot training and validation loss per epoch\n",
        "#------------------------------------------------\n",
        "plt.plot(epochs, loss, 'r')\n",
        "plt.plot(epochs, val_loss, 'b')\n",
        "plt.title('Training and validation loss')\n",
        "plt.xlabel(\"Epochs\")\n",
        "plt.ylabel(\"Loss\")\n",
        "plt.legend([\"Loss\", \"Validation Loss\"])\n",
        "\n",
        "plt.figure()\n",
        "\n",
        "\n",
        "# Expected Output\n",
        "# A chart where the validation loss does not increase sharply!"
      ],
      "execution_count": 17,
      "outputs": [
        {
          "output_type": "execute_result",
          "data": {
            "text/plain": [
              "<Figure size 432x288 with 0 Axes>"
            ]
          },
          "metadata": {
            "tags": []
          },
          "execution_count": 17
        },
        {
          "output_type": "display_data",
          "data": {
            "image/png": "[encoded data removed]",
            "text/plain": [
              "<Figure size 432x288 with 1 Axes>"
            ]
          },
          "metadata": {
            "tags": []
          }
        },
        {
          "output_type": "display_data",
          "data": {
            "image/png": "[encoded data removed]",
            "text/plain": [
              "<Figure size 432x288 with 1 Axes>"
            ]
          },
          "metadata": {
            "tags": []
          }
        },
        {
          "output_type": "display_data",
          "data": {
            "text/plain": [
              "<Figure size 432x288 with 0 Axes>"
            ]
          },
          "metadata": {
            "tags": []
          }
        }
      ]
    }
  ]
}