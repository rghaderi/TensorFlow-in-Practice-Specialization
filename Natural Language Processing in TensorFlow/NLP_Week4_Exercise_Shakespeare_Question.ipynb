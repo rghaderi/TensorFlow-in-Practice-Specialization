{
  "nbformat": 4,
  "nbformat_minor": 0,
  "metadata": {
    "colab": {
      "name": "NLP-Week4-Exercise-Shakespeare-Question.ipynb",
      "provenance": []
    },
    "kernelspec": {
      "name": "python3",
      "display_name": "Python 3"
    },
    "accelerator": "GPU"
  },
  "cells": [
    {
      "cell_type": "code",
      "metadata": {
        "id": "BOwsuGQQY9OL",
        "colab_type": "code",
        "colab": {}
      },
      "source": [
        "from tensorflow.keras.preprocessing.sequence import pad_sequences\n",
        "from tensorflow.keras.layers import Embedding, LSTM, Dense, Dropout, Bidirectional\n",
        "from tensorflow.keras.preprocessing.text import Tokenizer\n",
        "from tensorflow.keras.models import Sequential\n",
        "from tensorflow.keras.optimizers import Adam\n",
        "### YOUR CODE HERE\n",
        "# Figure out how to import regularizers\n",
        "from tensorflow.keras import regularizers\n",
        "###\n",
        "import tensorflow.keras.utils as ku \n",
        "import numpy as np "
      ],
      "execution_count": 0,
      "outputs": []
    },
    {
      "cell_type": "code",
      "metadata": {
        "colab_type": "code",
        "id": "PRnDnCW-Z7qv",
        "colab": {
          "base_uri": "https://localhost:8080/",
          "height": 219
        },
        "outputId": "9211e136-e2d5-454e-de59-8a532c12edeb"
      },
      "source": [
        "tokenizer = Tokenizer()\n",
        "!wget --no-check-certificate \\\n",
        "    https://storage.googleapis.com/laurencemoroney-blog.appspot.com/sonnets.txt \\\n",
        "    -O /tmp/sonnets.txt\n",
        "data = open('/tmp/sonnets.txt').read()\n",
        "\n",
        "corpus = data.lower().split(\"\\n\")\n",
        "\n",
        "\n",
        "tokenizer.fit_on_texts(corpus)\n",
        "total_words = len(tokenizer.word_index) + 1\n",
        "\n",
        "# create input sequences using list of tokens\n",
        "input_sequences = []\n",
        "for line in corpus:\n",
        "\ttoken_list = tokenizer.texts_to_sequences([line])[0]\n",
        "\tfor i in range(1, len(token_list)):\n",
        "\t\tn_gram_sequence = token_list[:i+1]\n",
        "\t\tinput_sequences.append(n_gram_sequence)\n",
        "\n",
        "\n",
        "# pad sequences \n",
        "max_sequence_len = max([len(x) for x in input_sequences])\n",
        "input_sequences = np.array(pad_sequences(input_sequences, maxlen=max_sequence_len, padding='pre'))\n",
        "\n",
        "# create predictors and label\n",
        "predictors, label = input_sequences[:,:-1],input_sequences[:,-1]\n",
        "\n",
        "label = ku.to_categorical(label, num_classes=total_words)"
      ],
      "execution_count": 25,
      "outputs": [
        {
          "output_type": "stream",
          "text": [
            "--2020-01-11 00:51:05--  https://storage.googleapis.com/laurencemoroney-blog.appspot.com/sonnets.txt\n",
            "Resolving storage.googleapis.com (storage.googleapis.com)... 108.177.127.128, 2a00:1450:4013:c04::80\n",
            "Connecting to storage.googleapis.com (storage.googleapis.com)|108.177.127.128|:443... connected.\n",
            "HTTP request sent, awaiting response... 200 OK\n",
            "Length: 93578 (91K) [text/plain]\n",
            "Saving to: ‘/tmp/sonnets.txt’\n",
            "\n",
            "\r/tmp/sonnets.txt      0%[                    ]       0  --.-KB/s               \r/tmp/sonnets.txt    100%[===================>]  91.38K  --.-KB/s    in 0.001s  \n",
            "\n",
            "2020-01-11 00:51:05 (118 MB/s) - ‘/tmp/sonnets.txt’ saved [93578/93578]\n",
            "\n"
          ],
          "name": "stdout"
        }
      ]
    },
    {
      "cell_type": "code",
      "metadata": {
        "id": "w9vH8Y59ajYL",
        "colab_type": "code",
        "colab": {
          "base_uri": "https://localhost:8080/",
          "height": 403
        },
        "outputId": "3a8b7682-7c16-4b83-d64e-7024feacd84f"
      },
      "source": [
        "model = Sequential()\n",
        "model.add(Embedding(total_words, 100, input_length= max_sequence_len - 1)) # Your Embedding Layer)\n",
        "model.add(LSTM(64, return_sequences= True)) # An LSTM Layer)\n",
        "model.add(Dropout(0.2)) # A dropout layer)\n",
        "model.add(LSTM(32)) # Another LSTM Layer)\n",
        "model.add(Dense(512, activation= 'relu', kernel_regularizer= regularizers.l2(0.01))) # A Dense Layer including regularizers)\n",
        "model.add(Dense(total_words, activation = 'softmax')) # A Dense Layer)\n",
        "# Pick an optimizer\n",
        "adam = Adam(lr= 0.01)\n",
        "model.compile(loss='categorical_crossentropy' , optimizer=adam, metrics=['accuracy']) # Pick a loss function and an optimizer)\n",
        "print(model.summary())\n"
      ],
      "execution_count": 47,
      "outputs": [
        {
          "output_type": "stream",
          "text": [
            "Model: \"sequential_20\"\n",
            "_________________________________________________________________\n",
            "Layer (type)                 Output Shape              Param #   \n",
            "=================================================================\n",
            "embedding_13 (Embedding)     (None, 10, 100)           321100    \n",
            "_________________________________________________________________\n",
            "lstm_32 (LSTM)               (None, 10, 64)            42240     \n",
            "_________________________________________________________________\n",
            "dropout_13 (Dropout)         (None, 10, 64)            0         \n",
            "_________________________________________________________________\n",
            "lstm_33 (LSTM)               (None, 32)                12416     \n",
            "_________________________________________________________________\n",
            "dense_20 (Dense)             (None, 512)               16896     \n",
            "_________________________________________________________________\n",
            "dense_21 (Dense)             (None, 3211)              1647243   \n",
            "=================================================================\n",
            "Total params: 2,039,895\n",
            "Trainable params: 2,039,895\n",
            "Non-trainable params: 0\n",
            "_________________________________________________________________\n",
            "None\n"
          ],
          "name": "stdout"
        }
      ]
    },
    {
      "cell_type": "code",
      "metadata": {
        "id": "AIg2f1HBxqof",
        "colab_type": "code",
        "colab": {
          "base_uri": "https://localhost:8080/",
          "height": 1000
        },
        "outputId": "de6a6b7d-c325-4bab-a1bd-d5a9644da68a"
      },
      "source": [
        " history = model.fit(predictors, label, epochs=100, verbose=1)"
      ],
      "execution_count": 48,
      "outputs": [
        {
          "output_type": "stream",
          "text": [
            "WARNING:tensorflow:From /usr/local/lib/python3.6/dist-packages/tensorflow_core/python/ops/math_grad.py:1424: where (from tensorflow.python.ops.array_ops) is deprecated and will be removed in a future version.\n",
            "Instructions for updating:\n",
            "Use tf.where in 2.0, which has the same broadcast rule as np.where\n",
            "Train on 15462 samples\n",
            "Epoch 1/100\n",
            "15462/15462 [==============================] - 18s 1ms/sample - loss: 6.8596 - acc: 0.0228\n",
            "Epoch 2/100\n",
            "15462/15462 [==============================] - 15s 1ms/sample - loss: 6.5038 - acc: 0.0227\n",
            "Epoch 3/100\n",
            "15462/15462 [==============================] - 15s 998us/sample - loss: 6.4241 - acc: 0.0278\n",
            "Epoch 4/100\n",
            "15462/15462 [==============================] - 15s 991us/sample - loss: 6.3477 - acc: 0.0292\n",
            "Epoch 5/100\n",
            "15462/15462 [==============================] - 15s 997us/sample - loss: 6.2844 - acc: 0.0308\n",
            "Epoch 6/100\n",
            "15462/15462 [==============================] - 15s 993us/sample - loss: 6.2236 - acc: 0.0341\n",
            "Epoch 7/100\n",
            "15462/15462 [==============================] - 15s 993us/sample - loss: 6.1802 - acc: 0.0371\n",
            "Epoch 8/100\n",
            "15462/15462 [==============================] - 15s 981us/sample - loss: 6.1328 - acc: 0.0381\n",
            "Epoch 9/100\n",
            "15462/15462 [==============================] - 15s 993us/sample - loss: 6.0961 - acc: 0.0421\n",
            "Epoch 10/100\n",
            "15462/15462 [==============================] - 15s 982us/sample - loss: 6.0563 - acc: 0.0463\n",
            "Epoch 11/100\n",
            "15462/15462 [==============================] - 15s 991us/sample - loss: 6.0167 - acc: 0.0486\n",
            "Epoch 12/100\n",
            "15462/15462 [==============================] - 15s 977us/sample - loss: 5.9801 - acc: 0.0491\n",
            "Epoch 13/100\n",
            "15462/15462 [==============================] - 15s 969us/sample - loss: 5.9496 - acc: 0.0508\n",
            "Epoch 14/100\n",
            "15462/15462 [==============================] - 15s 965us/sample - loss: 5.9231 - acc: 0.0543\n",
            "Epoch 15/100\n",
            "15462/15462 [==============================] - 15s 961us/sample - loss: 5.8844 - acc: 0.0536\n",
            "Epoch 16/100\n",
            "15462/15462 [==============================] - 15s 960us/sample - loss: 5.8637 - acc: 0.0557\n",
            "Epoch 17/100\n",
            "15462/15462 [==============================] - 15s 963us/sample - loss: 5.8301 - acc: 0.0600\n",
            "Epoch 18/100\n",
            "15462/15462 [==============================] - 15s 968us/sample - loss: 5.8096 - acc: 0.0596\n",
            "Epoch 19/100\n",
            "15462/15462 [==============================] - 15s 958us/sample - loss: 5.7811 - acc: 0.0616\n",
            "Epoch 20/100\n",
            "15462/15462 [==============================] - 15s 953us/sample - loss: 5.7587 - acc: 0.0631\n",
            "Epoch 21/100\n",
            "15462/15462 [==============================] - 15s 947us/sample - loss: 5.7369 - acc: 0.0624\n",
            "Epoch 22/100\n",
            "15462/15462 [==============================] - 15s 972us/sample - loss: 5.7157 - acc: 0.0656\n",
            "Epoch 23/100\n",
            "15462/15462 [==============================] - 15s 948us/sample - loss: 5.6922 - acc: 0.0649\n",
            "Epoch 24/100\n",
            "15462/15462 [==============================] - 14s 938us/sample - loss: 5.6788 - acc: 0.0660\n",
            "Epoch 25/100\n",
            "15462/15462 [==============================] - 14s 934us/sample - loss: 5.6543 - acc: 0.0673\n",
            "Epoch 26/100\n",
            "15462/15462 [==============================] - 15s 950us/sample - loss: 5.6355 - acc: 0.0662\n",
            "Epoch 27/100\n",
            "15462/15462 [==============================] - 14s 937us/sample - loss: 5.6267 - acc: 0.0670\n",
            "Epoch 28/100\n",
            "15462/15462 [==============================] - 15s 948us/sample - loss: 5.5988 - acc: 0.0671\n",
            "Epoch 29/100\n",
            "15462/15462 [==============================] - 14s 931us/sample - loss: 5.5835 - acc: 0.0693\n",
            "Epoch 30/100\n",
            "15462/15462 [==============================] - 15s 951us/sample - loss: 5.5770 - acc: 0.0689\n",
            "Epoch 31/100\n",
            "15462/15462 [==============================] - 15s 940us/sample - loss: 5.5639 - acc: 0.0689\n",
            "Epoch 32/100\n",
            "15462/15462 [==============================] - 15s 944us/sample - loss: 5.5492 - acc: 0.0715\n",
            "Epoch 33/100\n",
            "15462/15462 [==============================] - 15s 948us/sample - loss: 5.5376 - acc: 0.0709\n",
            "Epoch 34/100\n",
            "15462/15462 [==============================] - 15s 939us/sample - loss: 5.5443 - acc: 0.0682\n",
            "Epoch 35/100\n",
            "15462/15462 [==============================] - 15s 942us/sample - loss: 5.5301 - acc: 0.0704\n",
            "Epoch 36/100\n",
            "15462/15462 [==============================] - 14s 926us/sample - loss: 5.5245 - acc: 0.0693\n",
            "Epoch 37/100\n",
            "15462/15462 [==============================] - 14s 914us/sample - loss: 5.5054 - acc: 0.0708\n",
            "Epoch 38/100\n",
            "15462/15462 [==============================] - 14s 921us/sample - loss: 5.5033 - acc: 0.0705\n",
            "Epoch 39/100\n",
            "15462/15462 [==============================] - 15s 940us/sample - loss: 5.4921 - acc: 0.0712\n",
            "Epoch 40/100\n",
            "15462/15462 [==============================] - 14s 921us/sample - loss: 5.4881 - acc: 0.0713\n",
            "Epoch 41/100\n",
            "15462/15462 [==============================] - 14s 917us/sample - loss: 5.4769 - acc: 0.0711\n",
            "Epoch 42/100\n",
            "15462/15462 [==============================] - 14s 916us/sample - loss: 5.4705 - acc: 0.0715\n",
            "Epoch 43/100\n",
            "15462/15462 [==============================] - 14s 915us/sample - loss: 5.4628 - acc: 0.0700\n",
            "Epoch 44/100\n",
            "15462/15462 [==============================] - 14s 937us/sample - loss: 5.4636 - acc: 0.0698\n",
            "Epoch 45/100\n",
            "15462/15462 [==============================] - 14s 929us/sample - loss: 5.4718 - acc: 0.0713\n",
            "Epoch 46/100\n",
            "15462/15462 [==============================] - 14s 914us/sample - loss: 5.4701 - acc: 0.0694\n",
            "Epoch 47/100\n",
            "15462/15462 [==============================] - 14s 908us/sample - loss: 5.4633 - acc: 0.0704\n",
            "Epoch 48/100\n",
            "15462/15462 [==============================] - 14s 915us/sample - loss: 5.4532 - acc: 0.0719\n",
            "Epoch 49/100\n",
            "15462/15462 [==============================] - 14s 905us/sample - loss: 5.4463 - acc: 0.0697\n",
            "Epoch 50/100\n",
            "15462/15462 [==============================] - 14s 924us/sample - loss: 5.4465 - acc: 0.0702\n",
            "Epoch 51/100\n",
            "15462/15462 [==============================] - 14s 931us/sample - loss: 5.4381 - acc: 0.0719\n",
            "Epoch 52/100\n",
            "15462/15462 [==============================] - 15s 943us/sample - loss: 5.4308 - acc: 0.0725\n",
            "Epoch 53/100\n",
            "15462/15462 [==============================] - 15s 946us/sample - loss: 5.4152 - acc: 0.0723\n",
            "Epoch 54/100\n",
            "15462/15462 [==============================] - 15s 968us/sample - loss: 5.4287 - acc: 0.0721\n",
            "Epoch 55/100\n",
            "15462/15462 [==============================] - 15s 955us/sample - loss: 5.4173 - acc: 0.0711\n",
            "Epoch 56/100\n",
            "15462/15462 [==============================] - 14s 927us/sample - loss: 5.4027 - acc: 0.0733\n",
            "Epoch 57/100\n",
            "15462/15462 [==============================] - 14s 936us/sample - loss: 5.3972 - acc: 0.0729\n",
            "Epoch 58/100\n",
            "15462/15462 [==============================] - 14s 918us/sample - loss: 5.3984 - acc: 0.0704\n",
            "Epoch 59/100\n",
            "15462/15462 [==============================] - 14s 926us/sample - loss: 5.3925 - acc: 0.0737\n",
            "Epoch 60/100\n",
            "15462/15462 [==============================] - 15s 948us/sample - loss: 5.3762 - acc: 0.0736\n",
            "Epoch 61/100\n",
            "15462/15462 [==============================] - 14s 937us/sample - loss: 5.3837 - acc: 0.0714\n",
            "Epoch 62/100\n",
            "15462/15462 [==============================] - 14s 936us/sample - loss: 5.3799 - acc: 0.0728\n",
            "Epoch 63/100\n",
            "15462/15462 [==============================] - 14s 935us/sample - loss: 5.3718 - acc: 0.0722\n",
            "Epoch 64/100\n",
            "15462/15462 [==============================] - 14s 931us/sample - loss: 5.3714 - acc: 0.0745\n",
            "Epoch 65/100\n",
            "15462/15462 [==============================] - 15s 949us/sample - loss: 5.3673 - acc: 0.0735\n",
            "Epoch 66/100\n",
            "15462/15462 [==============================] - 14s 929us/sample - loss: 5.3611 - acc: 0.0748\n",
            "Epoch 67/100\n",
            "15462/15462 [==============================] - 15s 942us/sample - loss: 5.3613 - acc: 0.0711\n",
            "Epoch 68/100\n",
            "15462/15462 [==============================] - 15s 940us/sample - loss: 5.3587 - acc: 0.0732\n",
            "Epoch 69/100\n",
            "15462/15462 [==============================] - 14s 936us/sample - loss: 5.3665 - acc: 0.0724\n",
            "Epoch 70/100\n",
            "15462/15462 [==============================] - 14s 931us/sample - loss: 5.3527 - acc: 0.0721\n",
            "Epoch 71/100\n",
            "15462/15462 [==============================] - 15s 942us/sample - loss: 5.3621 - acc: 0.0742\n",
            "Epoch 72/100\n",
            "15462/15462 [==============================] - 15s 948us/sample - loss: 5.3673 - acc: 0.0721\n",
            "Epoch 73/100\n",
            "15462/15462 [==============================] - 15s 991us/sample - loss: 5.3461 - acc: 0.0742\n",
            "Epoch 74/100\n",
            "15462/15462 [==============================] - 15s 989us/sample - loss: 5.3425 - acc: 0.0758\n",
            "Epoch 75/100\n",
            "15462/15462 [==============================] - 16s 1ms/sample - loss: 5.3351 - acc: 0.0741\n",
            "Epoch 76/100\n",
            "15462/15462 [==============================] - 15s 992us/sample - loss: 5.3387 - acc: 0.0719\n",
            "Epoch 77/100\n",
            "15462/15462 [==============================] - 15s 955us/sample - loss: 5.3245 - acc: 0.0721\n",
            "Epoch 78/100\n",
            "15462/15462 [==============================] - 15s 963us/sample - loss: 5.3439 - acc: 0.0744\n",
            "Epoch 79/100\n",
            "15462/15462 [==============================] - 15s 953us/sample - loss: 5.3460 - acc: 0.0742\n",
            "Epoch 80/100\n",
            "15462/15462 [==============================] - 15s 982us/sample - loss: 5.3273 - acc: 0.0746\n",
            "Epoch 81/100\n",
            "15462/15462 [==============================] - 15s 966us/sample - loss: 5.3359 - acc: 0.0744\n",
            "Epoch 82/100\n",
            "15462/15462 [==============================] - 15s 978us/sample - loss: 5.3317 - acc: 0.0706\n",
            "Epoch 83/100\n",
            "15462/15462 [==============================] - 15s 962us/sample - loss: 5.3274 - acc: 0.0741\n",
            "Epoch 84/100\n",
            "15462/15462 [==============================] - 15s 947us/sample - loss: 5.3361 - acc: 0.0731\n",
            "Epoch 85/100\n",
            "15462/15462 [==============================] - 15s 957us/sample - loss: 5.3242 - acc: 0.0723\n",
            "Epoch 86/100\n",
            "15462/15462 [==============================] - 15s 941us/sample - loss: 5.3276 - acc: 0.0735\n",
            "Epoch 87/100\n",
            "15462/15462 [==============================] - 15s 951us/sample - loss: 5.3297 - acc: 0.0726\n",
            "Epoch 88/100\n",
            "15462/15462 [==============================] - 15s 952us/sample - loss: 5.3210 - acc: 0.0723\n",
            "Epoch 89/100\n",
            "15462/15462 [==============================] - 15s 966us/sample - loss: 5.3135 - acc: 0.0735\n",
            "Epoch 90/100\n",
            "15462/15462 [==============================] - 15s 945us/sample - loss: 5.3238 - acc: 0.0770\n",
            "Epoch 91/100\n",
            "15462/15462 [==============================] - 15s 954us/sample - loss: 5.3252 - acc: 0.0731\n",
            "Epoch 92/100\n",
            "15462/15462 [==============================] - 15s 945us/sample - loss: 5.3160 - acc: 0.0744\n",
            "Epoch 93/100\n",
            "15462/15462 [==============================] - 15s 958us/sample - loss: 5.3192 - acc: 0.0748\n",
            "Epoch 94/100\n",
            "15462/15462 [==============================] - 15s 964us/sample - loss: 5.3181 - acc: 0.0761\n",
            "Epoch 95/100\n",
            "15462/15462 [==============================] - 15s 943us/sample - loss: 5.3018 - acc: 0.0737\n",
            "Epoch 96/100\n",
            "15462/15462 [==============================] - 15s 972us/sample - loss: 5.3107 - acc: 0.0754\n",
            "Epoch 97/100\n",
            "15462/15462 [==============================] - 15s 950us/sample - loss: 5.3085 - acc: 0.0748\n",
            "Epoch 98/100\n",
            "15462/15462 [==============================] - 15s 941us/sample - loss: 5.3097 - acc: 0.0745\n",
            "Epoch 99/100\n",
            "15462/15462 [==============================] - 15s 940us/sample - loss: 5.3099 - acc: 0.0746\n",
            "Epoch 100/100\n",
            "15462/15462 [==============================] - 15s 945us/sample - loss: 5.3010 - acc: 0.0746\n"
          ],
          "name": "stdout"
        }
      ]
    },
    {
      "cell_type": "code",
      "metadata": {
        "id": "1fXTEO3GJ282",
        "colab_type": "code",
        "colab": {
          "base_uri": "https://localhost:8080/",
          "height": 545
        },
        "outputId": "aadb5631-c89e-48e5-c24b-544f683170f7"
      },
      "source": [
        "import matplotlib.pyplot as plt\n",
        "acc = history.history['acc']\n",
        "loss = history.history['loss']\n",
        "\n",
        "epochs = range(len(acc))\n",
        "\n",
        "plt.plot(epochs, acc, 'b', label='Training accuracy')\n",
        "plt.title('Training accuracy')\n",
        "\n",
        "plt.figure()\n",
        "\n",
        "plt.plot(epochs, loss, 'b', label='Training Loss')\n",
        "plt.title('Training loss')\n",
        "plt.legend()\n",
        "\n",
        "plt.show()"
      ],
      "execution_count": 49,
      "outputs": [
        {
          "output_type": "display_data",
          "data": {
            "image/png": "[encoded data removed]",
            "text/plain": [
              "<Figure size 432x288 with 1 Axes>"
            ]
          },
          "metadata": {
            "tags": []
          }
        },
        {
          "output_type": "display_data",
          "data": {
            "image/png": "[encoded data removed]",
            "text/plain": [
              "<Figure size 432x288 with 1 Axes>"
            ]
          },
          "metadata": {
            "tags": []
          }
        }
      ]
    },
    {
      "cell_type": "code",
      "metadata": {
        "id": "6Vc6PHgxa6Hm",
        "colab_type": "code",
        "colab": {
          "base_uri": "https://localhost:8080/",
          "height": 55
        },
        "outputId": "10d706fe-6ba6-4af7-e092-77009e8ba2b9"
      },
      "source": [
        "seed_text = \"Help me Obi Wan Kenobi, you're my only hope\"\n",
        "next_words = 100\n",
        "  \n",
        "for _ in range(next_words):\n",
        "\ttoken_list = tokenizer.texts_to_sequences([seed_text])[0]\n",
        "\ttoken_list = pad_sequences([token_list], maxlen=max_sequence_len-1, padding='pre')\n",
        "\tpredicted = model.predict_classes(token_list, verbose=0)\n",
        "\toutput_word = \"\"\n",
        "\tfor word, index in tokenizer.word_index.items():\n",
        "\t\tif index == predicted:\n",
        "\t\t\toutput_word = word\n",
        "\t\t\tbreak\n",
        "\tseed_text += \" \" + output_word\n",
        "print(seed_text)"
      ],
      "execution_count": 51,
      "outputs": [
        {
          "output_type": "stream",
          "text": [
            "Help me Obi Wan Kenobi, you're my only hope i be not for the world and not to be be not for the world and not to be be not for the world and not to be be not for the world and not to be be not for the world and not to be be not for the world and not to be be not for the world and not to be be not for the world and not to be be not for the world and not to be be not for the world and not to be be not for the world and not to be\n"
          ],
          "name": "stdout"
        }
      ]
    },
    {
      "cell_type": "code",
      "metadata": {
        "id": "M2H33QlOPwot",
        "colab_type": "code",
        "colab": {}
      },
      "source": [
        ""
      ],
      "execution_count": 0,
      "outputs": []
    }
  ]
}