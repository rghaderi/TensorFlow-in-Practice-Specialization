{
  "nbformat": 4,
  "nbformat_minor": 0,
  "metadata": {
    "colab": {
      "name": "NLP_Week4_Exercise_Shakespeare_Answer.ipynb",
      "provenance": []
    },
    "kernelspec": {
      "name": "python3",
      "display_name": "Python 3"
    },
    "accelerator": "GPU"
  },
  "cells": [
    {
      "cell_type": "code",
      "metadata": {
        "id": "BOwsuGQQY9OL",
        "colab_type": "code",
        "colab": {
          "base_uri": "https://localhost:8080/",
          "height": 65
        },
        "outputId": "845b3727-c8d9-406f-dd5d-7fe8832b790b"
      },
      "source": [
        "from tensorflow.keras.preprocessing.sequence import pad_sequences\n",
        "from tensorflow.keras.layers import Embedding, LSTM, Dense, Dropout, Bidirectional\n",
        "from tensorflow.keras.preprocessing.text import Tokenizer\n",
        "from tensorflow.keras.models import Sequential\n",
        "from tensorflow.keras.optimizers import Adam\n",
        "from tensorflow.keras import regularizers\n",
        "import tensorflow.keras.utils as ku \n",
        "import numpy as np "
      ],
      "execution_count": 1,
      "outputs": [
        {
          "output_type": "display_data",
          "data": {
            "text/html": [
              "<p style=\"color: red;\">\n",
              "The default version of TensorFlow in Colab will soon switch to TensorFlow 2.x.<br>\n",
              "We recommend you <a href=\"https://www.tensorflow.org/guide/migrate\" target=\"_blank\">upgrade</a> now \n",
              "or ensure your notebook will continue to use TensorFlow 1.x via the <code>%tensorflow_version 1.x</code> magic:\n",
              "<a href=\"https://colab.research.google.com/notebooks/tensorflow_version.ipynb\" target=\"_blank\">more info</a>.</p>\n"
            ],
            "text/plain": [
              "<IPython.core.display.HTML object>"
            ]
          },
          "metadata": {
            "tags": []
          }
        }
      ]
    },
    {
      "cell_type": "code",
      "metadata": {
        "colab_type": "code",
        "id": "PRnDnCW-Z7qv",
        "colab": {
          "base_uri": "https://localhost:8080/",
          "height": 219
        },
        "outputId": "8b840467-d103-43d4-d7f1-eba8e70dd61c"
      },
      "source": [
        "tokenizer = Tokenizer()\n",
        "!wget --no-check-certificate \\\n",
        "    https://storage.googleapis.com/laurencemoroney-blog.appspot.com/sonnets.txt \\\n",
        "    -O /tmp/sonnets.txt\n",
        "data = open('/tmp/sonnets.txt').read()\n",
        "\n",
        "corpus = data.lower().split(\"\\n\")\n",
        "\n",
        "\n",
        "tokenizer.fit_on_texts(corpus)\n",
        "total_words = len(tokenizer.word_index) + 1\n",
        "\n",
        "# create input sequences using list of tokens\n",
        "input_sequences = []\n",
        "for line in corpus:\n",
        "\ttoken_list = tokenizer.texts_to_sequences([line])[0]\n",
        "\tfor i in range(1, len(token_list)):\n",
        "\t\tn_gram_sequence = token_list[:i+1]\n",
        "\t\tinput_sequences.append(n_gram_sequence)\n",
        "\n",
        "\n",
        "# pad sequences \n",
        "max_sequence_len = max([len(x) for x in input_sequences])\n",
        "input_sequences = np.array(pad_sequences(input_sequences, maxlen=max_sequence_len, padding='pre'))\n",
        "\n",
        "# create predictors and label\n",
        "predictors, label = input_sequences[:,:-1],input_sequences[:,-1]\n",
        "\n",
        "label = ku.to_categorical(label, num_classes=total_words)"
      ],
      "execution_count": 2,
      "outputs": [
        {
          "output_type": "stream",
          "text": [
            "--2020-01-11 00:51:32--  https://storage.googleapis.com/laurencemoroney-blog.appspot.com/sonnets.txt\n",
            "Resolving storage.googleapis.com (storage.googleapis.com)... 74.125.24.128, 2404:6800:4003:c02::80\n",
            "Connecting to storage.googleapis.com (storage.googleapis.com)|74.125.24.128|:443... connected.\n",
            "HTTP request sent, awaiting response... 200 OK\n",
            "Length: 93578 (91K) [text/plain]\n",
            "Saving to: ‘/tmp/sonnets.txt’\n",
            "\n",
            "/tmp/sonnets.txt    100%[===================>]  91.38K  --.-KB/s    in 0.001s  \n",
            "\n",
            "2020-01-11 00:51:33 (167 MB/s) - ‘/tmp/sonnets.txt’ saved [93578/93578]\n",
            "\n"
          ],
          "name": "stdout"
        }
      ]
    },
    {
      "cell_type": "code",
      "metadata": {
        "id": "w9vH8Y59ajYL",
        "colab_type": "code",
        "colab": {
          "base_uri": "https://localhost:8080/",
          "height": 698
        },
        "outputId": "ab15db93-6156-43e5-bf29-5854ed92871e"
      },
      "source": [
        "model = Sequential()\n",
        "model.add(Embedding(total_words, 100, input_length=max_sequence_len-1))\n",
        "model.add(Bidirectional(LSTM(150, return_sequences = True)))\n",
        "model.add(Dropout(0.2))\n",
        "model.add(LSTM(100))\n",
        "model.add(Dense(total_words/2, activation='relu', kernel_regularizer=regularizers.l2(0.01)))\n",
        "model.add(Dense(total_words, activation='softmax'))\n",
        "model.compile(loss='categorical_crossentropy', optimizer='adam', metrics=['accuracy'])\n",
        "print(model.summary())\n"
      ],
      "execution_count": 3,
      "outputs": [
        {
          "output_type": "stream",
          "text": [
            "WARNING:tensorflow:From /usr/local/lib/python3.6/dist-packages/tensorflow_core/python/keras/initializers.py:119: calling RandomUniform.__init__ (from tensorflow.python.ops.init_ops) with dtype is deprecated and will be removed in a future version.\n",
            "Instructions for updating:\n",
            "Call initializer instance with the dtype argument instead of passing it to the constructor\n",
            "WARNING:tensorflow:From /usr/local/lib/python3.6/dist-packages/tensorflow_core/python/ops/resource_variable_ops.py:1630: calling BaseResourceVariable.__init__ (from tensorflow.python.ops.resource_variable_ops) with constraint is deprecated and will be removed in a future version.\n",
            "Instructions for updating:\n",
            "If using Keras pass *_constraint arguments to layers.\n",
            "WARNING:tensorflow:From /usr/local/lib/python3.6/dist-packages/tensorflow_core/python/ops/init_ops.py:97: calling GlorotUniform.__init__ (from tensorflow.python.ops.init_ops) with dtype is deprecated and will be removed in a future version.\n",
            "Instructions for updating:\n",
            "Call initializer instance with the dtype argument instead of passing it to the constructor\n",
            "WARNING:tensorflow:From /usr/local/lib/python3.6/dist-packages/tensorflow_core/python/ops/init_ops.py:97: calling Orthogonal.__init__ (from tensorflow.python.ops.init_ops) with dtype is deprecated and will be removed in a future version.\n",
            "Instructions for updating:\n",
            "Call initializer instance with the dtype argument instead of passing it to the constructor\n",
            "WARNING:tensorflow:From /usr/local/lib/python3.6/dist-packages/tensorflow_core/python/ops/init_ops.py:97: calling Zeros.__init__ (from tensorflow.python.ops.init_ops) with dtype is deprecated and will be removed in a future version.\n",
            "Instructions for updating:\n",
            "Call initializer instance with the dtype argument instead of passing it to the constructor\n",
            "Model: \"sequential\"\n",
            "_________________________________________________________________\n",
            "Layer (type)                 Output Shape              Param #   \n",
            "=================================================================\n",
            "embedding (Embedding)        (None, 10, 100)           321100    \n",
            "_________________________________________________________________\n",
            "bidirectional (Bidirectional (None, 10, 300)           301200    \n",
            "_________________________________________________________________\n",
            "dropout (Dropout)            (None, 10, 300)           0         \n",
            "_________________________________________________________________\n",
            "lstm_1 (LSTM)                (None, 100)               160400    \n",
            "_________________________________________________________________\n",
            "dense (Dense)                (None, 1605)              162105    \n",
            "_________________________________________________________________\n",
            "dense_1 (Dense)              (None, 3211)              5156866   \n",
            "=================================================================\n",
            "Total params: 6,101,671\n",
            "Trainable params: 6,101,671\n",
            "Non-trainable params: 0\n",
            "_________________________________________________________________\n",
            "None\n"
          ],
          "name": "stdout"
        }
      ]
    },
    {
      "cell_type": "code",
      "metadata": {
        "id": "AIg2f1HBxqof",
        "colab_type": "code",
        "colab": {
          "base_uri": "https://localhost:8080/",
          "height": 1000
        },
        "outputId": "1e190c59-ab4a-4157-8abf-8a7453802f3f"
      },
      "source": [
        " history = model.fit(predictors, label, epochs=100, verbose=1)"
      ],
      "execution_count": 4,
      "outputs": [
        {
          "output_type": "stream",
          "text": [
            "WARNING:tensorflow:From /usr/local/lib/python3.6/dist-packages/tensorflow_core/python/ops/math_grad.py:1424: where (from tensorflow.python.ops.array_ops) is deprecated and will be removed in a future version.\n",
            "Instructions for updating:\n",
            "Use tf.where in 2.0, which has the same broadcast rule as np.where\n",
            "Train on 15462 samples\n",
            "Epoch 1/100\n",
            "15462/15462 [==============================] - 23s 1ms/sample - loss: 6.9112 - acc: 0.0218\n",
            "Epoch 2/100\n",
            "15462/15462 [==============================] - 20s 1ms/sample - loss: 6.5114 - acc: 0.0236\n",
            "Epoch 3/100\n",
            "15462/15462 [==============================] - 21s 1ms/sample - loss: 6.3971 - acc: 0.0259\n",
            "Epoch 4/100\n",
            "15462/15462 [==============================] - 20s 1ms/sample - loss: 6.2731 - acc: 0.0277\n",
            "Epoch 5/100\n",
            "15462/15462 [==============================] - 21s 1ms/sample - loss: 6.1827 - acc: 0.0351\n",
            "Epoch 6/100\n",
            "15462/15462 [==============================] - 21s 1ms/sample - loss: 6.1013 - acc: 0.0386\n",
            "Epoch 7/100\n",
            "15462/15462 [==============================] - 21s 1ms/sample - loss: 6.0256 - acc: 0.0400\n",
            "Epoch 8/100\n",
            "15462/15462 [==============================] - 20s 1ms/sample - loss: 5.9527 - acc: 0.0437\n",
            "Epoch 9/100\n",
            "15462/15462 [==============================] - 20s 1ms/sample - loss: 5.8731 - acc: 0.0490\n",
            "Epoch 10/100\n",
            "15462/15462 [==============================] - 20s 1ms/sample - loss: 5.7850 - acc: 0.0526\n",
            "Epoch 11/100\n",
            "15462/15462 [==============================] - 21s 1ms/sample - loss: 5.6968 - acc: 0.0563\n",
            "Epoch 12/100\n",
            "15462/15462 [==============================] - 21s 1ms/sample - loss: 5.6087 - acc: 0.0610\n",
            "Epoch 13/100\n",
            "15462/15462 [==============================] - 21s 1ms/sample - loss: 5.5155 - acc: 0.0678\n",
            "Epoch 14/100\n",
            "15462/15462 [==============================] - 20s 1ms/sample - loss: 5.4206 - acc: 0.0764\n",
            "Epoch 15/100\n",
            "15462/15462 [==============================] - 21s 1ms/sample - loss: 5.3284 - acc: 0.0797\n",
            "Epoch 16/100\n",
            "15462/15462 [==============================] - 21s 1ms/sample - loss: 5.2281 - acc: 0.0872\n",
            "Epoch 17/100\n",
            "15462/15462 [==============================] - 21s 1ms/sample - loss: 5.1342 - acc: 0.0944\n",
            "Epoch 18/100\n",
            "15462/15462 [==============================] - 21s 1ms/sample - loss: 5.0379 - acc: 0.1022\n",
            "Epoch 19/100\n",
            "15462/15462 [==============================] - 20s 1ms/sample - loss: 4.9413 - acc: 0.1097\n",
            "Epoch 20/100\n",
            "15462/15462 [==============================] - 21s 1ms/sample - loss: 4.8454 - acc: 0.1175\n",
            "Epoch 21/100\n",
            "15462/15462 [==============================] - 21s 1ms/sample - loss: 4.7534 - acc: 0.1253\n",
            "Epoch 22/100\n",
            "15462/15462 [==============================] - 20s 1ms/sample - loss: 4.6512 - acc: 0.1322\n",
            "Epoch 23/100\n",
            "15462/15462 [==============================] - 21s 1ms/sample - loss: 4.5615 - acc: 0.1403\n",
            "Epoch 24/100\n",
            "15462/15462 [==============================] - 21s 1ms/sample - loss: 4.4637 - acc: 0.1528\n",
            "Epoch 25/100\n",
            "15462/15462 [==============================] - 20s 1ms/sample - loss: 4.3702 - acc: 0.1604\n",
            "Epoch 26/100\n",
            "15462/15462 [==============================] - 21s 1ms/sample - loss: 4.2751 - acc: 0.1737\n",
            "Epoch 27/100\n",
            "15462/15462 [==============================] - 21s 1ms/sample - loss: 4.1843 - acc: 0.1826\n",
            "Epoch 28/100\n",
            "15462/15462 [==============================] - 20s 1ms/sample - loss: 4.0849 - acc: 0.1936\n",
            "Epoch 29/100\n",
            "15462/15462 [==============================] - 20s 1ms/sample - loss: 3.9958 - acc: 0.2095\n",
            "Epoch 30/100\n",
            "15462/15462 [==============================] - 21s 1ms/sample - loss: 3.9050 - acc: 0.2212\n",
            "Epoch 31/100\n",
            "15462/15462 [==============================] - 20s 1ms/sample - loss: 3.8103 - acc: 0.2376\n",
            "Epoch 32/100\n",
            "15462/15462 [==============================] - 21s 1ms/sample - loss: 3.7211 - acc: 0.2544\n",
            "Epoch 33/100\n",
            "15462/15462 [==============================] - 21s 1ms/sample - loss: 3.6285 - acc: 0.2713\n",
            "Epoch 34/100\n",
            "15462/15462 [==============================] - 21s 1ms/sample - loss: 3.5500 - acc: 0.2852\n",
            "Epoch 35/100\n",
            "15462/15462 [==============================] - 20s 1ms/sample - loss: 3.4679 - acc: 0.3022\n",
            "Epoch 36/100\n",
            "15462/15462 [==============================] - 21s 1ms/sample - loss: 3.3884 - acc: 0.3185\n",
            "Epoch 37/100\n",
            "15462/15462 [==============================] - 20s 1ms/sample - loss: 3.3023 - acc: 0.3372\n",
            "Epoch 38/100\n",
            "15462/15462 [==============================] - 21s 1ms/sample - loss: 3.2313 - acc: 0.3541\n",
            "Epoch 39/100\n",
            "15462/15462 [==============================] - 20s 1ms/sample - loss: 3.1636 - acc: 0.3701\n",
            "Epoch 40/100\n",
            "15462/15462 [==============================] - 20s 1ms/sample - loss: 3.0968 - acc: 0.3840\n",
            "Epoch 41/100\n",
            "15462/15462 [==============================] - 20s 1ms/sample - loss: 3.0148 - acc: 0.4033\n",
            "Epoch 42/100\n",
            "15462/15462 [==============================] - 21s 1ms/sample - loss: 2.9440 - acc: 0.4197\n",
            "Epoch 43/100\n",
            "15462/15462 [==============================] - 21s 1ms/sample - loss: 2.8760 - acc: 0.4382\n",
            "Epoch 44/100\n",
            "15462/15462 [==============================] - 20s 1ms/sample - loss: 2.8213 - acc: 0.4466\n",
            "Epoch 45/100\n",
            "15462/15462 [==============================] - 20s 1ms/sample - loss: 2.7524 - acc: 0.4634\n",
            "Epoch 46/100\n",
            "15462/15462 [==============================] - 20s 1ms/sample - loss: 2.6988 - acc: 0.4756\n",
            "Epoch 47/100\n",
            "15462/15462 [==============================] - 21s 1ms/sample - loss: 2.6463 - acc: 0.4865\n",
            "Epoch 48/100\n",
            "15462/15462 [==============================] - 20s 1ms/sample - loss: 2.5756 - acc: 0.5036\n",
            "Epoch 49/100\n",
            "15462/15462 [==============================] - 20s 1ms/sample - loss: 2.5317 - acc: 0.5142\n",
            "Epoch 50/100\n",
            "15462/15462 [==============================] - 20s 1ms/sample - loss: 2.4791 - acc: 0.5261\n",
            "Epoch 51/100\n",
            "15462/15462 [==============================] - 20s 1ms/sample - loss: 2.4227 - acc: 0.5436\n",
            "Epoch 52/100\n",
            "15462/15462 [==============================] - 20s 1ms/sample - loss: 2.3642 - acc: 0.5560\n",
            "Epoch 53/100\n",
            "15462/15462 [==============================] - 20s 1ms/sample - loss: 2.3216 - acc: 0.5628\n",
            "Epoch 54/100\n",
            "15462/15462 [==============================] - 20s 1ms/sample - loss: 2.2813 - acc: 0.5719\n",
            "Epoch 55/100\n",
            "15462/15462 [==============================] - 20s 1ms/sample - loss: 2.2397 - acc: 0.5805\n",
            "Epoch 56/100\n",
            "15462/15462 [==============================] - 20s 1ms/sample - loss: 2.1961 - acc: 0.5916\n",
            "Epoch 57/100\n",
            "15462/15462 [==============================] - 20s 1ms/sample - loss: 2.1507 - acc: 0.6047\n",
            "Epoch 58/100\n",
            "15462/15462 [==============================] - 20s 1ms/sample - loss: 2.1126 - acc: 0.6108\n",
            "Epoch 59/100\n",
            "15462/15462 [==============================] - 20s 1ms/sample - loss: 2.0629 - acc: 0.6234\n",
            "Epoch 60/100\n",
            "15462/15462 [==============================] - 20s 1ms/sample - loss: 2.0206 - acc: 0.6345\n",
            "Epoch 61/100\n",
            "15462/15462 [==============================] - 20s 1ms/sample - loss: 1.9916 - acc: 0.6377\n",
            "Epoch 62/100\n",
            "15462/15462 [==============================] - 21s 1ms/sample - loss: 1.9561 - acc: 0.6444\n",
            "Epoch 63/100\n",
            "15462/15462 [==============================] - 20s 1ms/sample - loss: 1.9281 - acc: 0.6528\n",
            "Epoch 64/100\n",
            "15462/15462 [==============================] - 20s 1ms/sample - loss: 1.9010 - acc: 0.6552\n",
            "Epoch 65/100\n",
            "15462/15462 [==============================] - 20s 1ms/sample - loss: 1.8761 - acc: 0.6603\n",
            "Epoch 66/100\n",
            "15462/15462 [==============================] - 20s 1ms/sample - loss: 1.8298 - acc: 0.6732\n",
            "Epoch 67/100\n",
            "15462/15462 [==============================] - 20s 1ms/sample - loss: 1.7840 - acc: 0.6821\n",
            "Epoch 68/100\n",
            "15462/15462 [==============================] - 20s 1ms/sample - loss: 1.7659 - acc: 0.6901\n",
            "Epoch 69/100\n",
            "15462/15462 [==============================] - 20s 1ms/sample - loss: 1.7432 - acc: 0.6896\n",
            "Epoch 70/100\n",
            "15462/15462 [==============================] - 20s 1ms/sample - loss: 1.7209 - acc: 0.6934\n",
            "Epoch 71/100\n",
            "15462/15462 [==============================] - 20s 1ms/sample - loss: 1.6864 - acc: 0.7011\n",
            "Epoch 72/100\n",
            "15462/15462 [==============================] - 20s 1ms/sample - loss: 1.6763 - acc: 0.7012\n",
            "Epoch 73/100\n",
            "15462/15462 [==============================] - 20s 1ms/sample - loss: 1.6330 - acc: 0.7155\n",
            "Epoch 74/100\n",
            "15462/15462 [==============================] - 20s 1ms/sample - loss: 1.6122 - acc: 0.7161\n",
            "Epoch 75/100\n",
            "15462/15462 [==============================] - 20s 1ms/sample - loss: 1.5933 - acc: 0.7208\n",
            "Epoch 76/100\n",
            "15462/15462 [==============================] - 20s 1ms/sample - loss: 1.5697 - acc: 0.7288\n",
            "Epoch 77/100\n",
            "15462/15462 [==============================] - 21s 1ms/sample - loss: 1.5581 - acc: 0.7255\n",
            "Epoch 78/100\n",
            "15462/15462 [==============================] - 20s 1ms/sample - loss: 1.5259 - acc: 0.7338\n",
            "Epoch 79/100\n",
            "15462/15462 [==============================] - 20s 1ms/sample - loss: 1.4939 - acc: 0.7428\n",
            "Epoch 80/100\n",
            "15462/15462 [==============================] - 20s 1ms/sample - loss: 1.4915 - acc: 0.7407\n",
            "Epoch 81/100\n",
            "15462/15462 [==============================] - 20s 1ms/sample - loss: 1.4700 - acc: 0.7462\n",
            "Epoch 82/100\n",
            "15462/15462 [==============================] - 20s 1ms/sample - loss: 1.4401 - acc: 0.7521\n",
            "Epoch 83/100\n",
            "15462/15462 [==============================] - 20s 1ms/sample - loss: 1.4189 - acc: 0.7548\n",
            "Epoch 84/100\n",
            "15462/15462 [==============================] - 20s 1ms/sample - loss: 1.4123 - acc: 0.7562\n",
            "Epoch 85/100\n",
            "15462/15462 [==============================] - 20s 1ms/sample - loss: 1.4106 - acc: 0.7544\n",
            "Epoch 86/100\n",
            "15462/15462 [==============================] - 20s 1ms/sample - loss: 1.3772 - acc: 0.7636\n",
            "Epoch 87/100\n",
            "15462/15462 [==============================] - 20s 1ms/sample - loss: 1.3585 - acc: 0.7619\n",
            "Epoch 88/100\n",
            "15462/15462 [==============================] - 20s 1ms/sample - loss: 1.3477 - acc: 0.7667\n",
            "Epoch 89/100\n",
            "15462/15462 [==============================] - 20s 1ms/sample - loss: 1.3417 - acc: 0.7679\n",
            "Epoch 90/100\n",
            "15462/15462 [==============================] - 20s 1ms/sample - loss: 1.3290 - acc: 0.7685\n",
            "Epoch 91/100\n",
            "15462/15462 [==============================] - 20s 1ms/sample - loss: 1.3051 - acc: 0.7734\n",
            "Epoch 92/100\n",
            "15462/15462 [==============================] - 20s 1ms/sample - loss: 1.2955 - acc: 0.7758\n",
            "Epoch 93/100\n",
            "15462/15462 [==============================] - 21s 1ms/sample - loss: 1.2880 - acc: 0.7784\n",
            "Epoch 94/100\n",
            "15462/15462 [==============================] - 20s 1ms/sample - loss: 1.2716 - acc: 0.7810\n",
            "Epoch 95/100\n",
            "15462/15462 [==============================] - 20s 1ms/sample - loss: 1.2608 - acc: 0.7841\n",
            "Epoch 96/100\n",
            "15462/15462 [==============================] - 20s 1ms/sample - loss: 1.2401 - acc: 0.7873\n",
            "Epoch 97/100\n",
            "15462/15462 [==============================] - 20s 1ms/sample - loss: 1.2313 - acc: 0.7894\n",
            "Epoch 98/100\n",
            "15462/15462 [==============================] - 20s 1ms/sample - loss: 1.2301 - acc: 0.7865\n",
            "Epoch 99/100\n",
            "15462/15462 [==============================] - 20s 1ms/sample - loss: 1.1962 - acc: 0.7960\n",
            "Epoch 100/100\n",
            "15462/15462 [==============================] - 20s 1ms/sample - loss: 1.1987 - acc: 0.7916\n"
          ],
          "name": "stdout"
        }
      ]
    },
    {
      "cell_type": "code",
      "metadata": {
        "id": "1fXTEO3GJ282",
        "colab_type": "code",
        "colab": {
          "base_uri": "https://localhost:8080/",
          "height": 545
        },
        "outputId": "2c4437eb-1105-437e-8248-a2239e05de73"
      },
      "source": [
        "import matplotlib.pyplot as plt\n",
        "acc = history.history['acc']\n",
        "loss = history.history['loss']\n",
        "\n",
        "epochs = range(len(acc))\n",
        "\n",
        "plt.plot(epochs, acc, 'b', label='Training accuracy')\n",
        "plt.title('Training accuracy')\n",
        "\n",
        "plt.figure()\n",
        "\n",
        "plt.plot(epochs, loss, 'b', label='Training Loss')\n",
        "plt.title('Training loss')\n",
        "plt.legend()\n",
        "\n",
        "plt.show()"
      ],
      "execution_count": 5,
      "outputs": [
        {
          "output_type": "display_data",
          "data": {
            "image/png": "[encoded data removed]",
            "text/plain": [
              "<Figure size 432x288 with 1 Axes>"
            ]
          },
          "metadata": {
            "tags": []
          }
        },
        {
          "output_type": "display_data",
          "data": {
            "image/png": "[encoded data removed]",
            "text/plain": [
              "<Figure size 432x288 with 1 Axes>"
            ]
          },
          "metadata": {
            "tags": []
          }
        }
      ]
    },
    {
      "cell_type": "code",
      "metadata": {
        "id": "6Vc6PHgxa6Hm",
        "colab_type": "code",
        "colab": {
          "base_uri": "https://localhost:8080/",
          "height": 55
        },
        "outputId": "b6905601-5a16-44a9-ec7b-01df93f59bdd"
      },
      "source": [
        "seed_text = \"Help me Obi Wan Kenobi, you're my only hope\"\n",
        "next_words = 100\n",
        "  \n",
        "for _ in range(next_words):\n",
        "\ttoken_list = tokenizer.texts_to_sequences([seed_text])[0]\n",
        "\ttoken_list = pad_sequences([token_list], maxlen=max_sequence_len-1, padding='pre')\n",
        "\tpredicted = model.predict_classes(token_list, verbose=0)\n",
        "\toutput_word = \"\"\n",
        "\tfor word, index in tokenizer.word_index.items():\n",
        "\t\tif index == predicted:\n",
        "\t\t\toutput_word = word\n",
        "\t\t\tbreak\n",
        "\tseed_text += \" \" + output_word\n",
        "print(seed_text)"
      ],
      "execution_count": 6,
      "outputs": [
        {
          "output_type": "stream",
          "text": [
            "Help me Obi Wan Kenobi, you're my only hope or honour than men deem'd shine bright ' have have brought doth approve her blot her thought another store so veins so change thee foes reap proceed free shine bright ' have seen ye abuse me for thee better true too rare alone away her treasure live such green too self time's sum sweet wealth away not well shows be brought so glory thee so much disdain short by wrongs a gilded winters bars away mine respect worn abuse me die good short a date bars in youth arising cold new mother torn back away they share a face or\n"
          ],
          "name": "stdout"
        }
      ]
    },
    {
      "cell_type": "code",
      "metadata": {
        "id": "gtNVt98dGWCf",
        "colab_type": "code",
        "colab": {}
      },
      "source": [
        ""
      ],
      "execution_count": 0,
      "outputs": []
    }
  ]
}