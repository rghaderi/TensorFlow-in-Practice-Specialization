{
  "nbformat": 4,
  "nbformat_minor": 0,
  "metadata": {
    "colab": {
      "name": "Course 3 - Week 3 - Lesson 2c.ipynb",
      "provenance": [],
      "collapsed_sections": []
    },
    "kernelspec": {
      "name": "python3",
      "display_name": "Python 3"
    },
    "accelerator": "GPU"
  },
  "cells": [
    {
      "cell_type": "code",
      "metadata": {
        "id": "jGwXGIXvFhXW",
        "colab_type": "code",
        "colab": {
          "base_uri": "https://localhost:8080/",
          "height": 1000
        },
        "outputId": "a6a762ca-7798-4d61-c573-7ddb6f0b50bf"
      },
      "source": [
        "import json\n",
        "import tensorflow as tf\n",
        "import numpy as np\n",
        "\n",
        "from tensorflow.keras.preprocessing.text import Tokenizer\n",
        "from tensorflow.keras.preprocessing.sequence import pad_sequences\n",
        "\n",
        "!wget --no-check-certificate \\\n",
        "    https://storage.googleapis.com/laurencemoroney-blog.appspot.com/sarcasm.json \\\n",
        "    -O /tmp/sarcasm.json\n",
        "\n",
        "vocab_size = 1000\n",
        "embedding_dim = 16\n",
        "max_length = 120\n",
        "trunc_type='post'\n",
        "padding_type='post'\n",
        "oov_tok = \"<OOV>\"\n",
        "training_size = 20000\n",
        "\n",
        "\n",
        "with open(\"/tmp/sarcasm.json\", 'r') as f:\n",
        "    datastore = json.load(f)\n",
        "\n",
        "\n",
        "sentences = []\n",
        "labels = []\n",
        "urls = []\n",
        "for item in datastore:\n",
        "    sentences.append(item['headline'])\n",
        "    labels.append(item['is_sarcastic'])\n",
        "\n",
        "training_sentences = sentences[0:training_size]\n",
        "testing_sentences = sentences[training_size:]\n",
        "training_labels = labels[0:training_size]\n",
        "testing_labels = labels[training_size:]\n",
        "\n",
        "tokenizer = Tokenizer(num_words=vocab_size, oov_token=oov_tok)\n",
        "tokenizer.fit_on_texts(training_sentences)\n",
        "\n",
        "word_index = tokenizer.word_index\n",
        "\n",
        "training_sequences = tokenizer.texts_to_sequences(training_sentences)\n",
        "training_padded = pad_sequences(training_sequences, maxlen=max_length, padding=padding_type, truncating=trunc_type)\n",
        "\n",
        "testing_sequences = tokenizer.texts_to_sequences(testing_sentences)\n",
        "testing_padded = pad_sequences(testing_sequences, maxlen=max_length, padding=padding_type, truncating=trunc_type)\n",
        "\n",
        "model = tf.keras.Sequential([\n",
        "    tf.keras.layers.Embedding(vocab_size, embedding_dim, input_length=max_length),\n",
        "    tf.keras.layers.Conv1D(128, 5, activation='relu'),\n",
        "    tf.keras.layers.GlobalMaxPooling1D(),\n",
        "    tf.keras.layers.Dense(24, activation='relu'),\n",
        "    tf.keras.layers.Dense(1, activation='sigmoid')\n",
        "])\n",
        "model.compile(loss='binary_crossentropy',optimizer='adam',metrics=['accuracy'])\n",
        "model.summary()\n",
        "\n",
        "num_epochs = 50\n",
        "history = model.fit(training_padded, training_labels, epochs=num_epochs, validation_data=(testing_padded, testing_labels), verbose=1)\n",
        "\n"
      ],
      "execution_count": 1,
      "outputs": [
        {
          "output_type": "display_data",
          "data": {
            "text/html": [
              "<p style=\"color: red;\">\n",
              "The default version of TensorFlow in Colab will soon switch to TensorFlow 2.x.<br>\n",
              "We recommend you <a href=\"https://www.tensorflow.org/guide/migrate\" target=\"_blank\">upgrade</a> now \n",
              "or ensure your notebook will continue to use TensorFlow 1.x via the <code>%tensorflow_version 1.x</code> magic:\n",
              "<a href=\"https://colab.research.google.com/notebooks/tensorflow_version.ipynb\" target=\"_blank\">more info</a>.</p>\n"
            ],
            "text/plain": [
              "<IPython.core.display.HTML object>"
            ]
          },
          "metadata": {
            "tags": []
          }
        },
        {
          "output_type": "stream",
          "text": [
            "--2020-01-13 20:28:07--  https://storage.googleapis.com/laurencemoroney-blog.appspot.com/sarcasm.json\n",
            "Resolving storage.googleapis.com (storage.googleapis.com)... 74.125.24.128, 2404:6800:4003:c03::80\n",
            "Connecting to storage.googleapis.com (storage.googleapis.com)|74.125.24.128|:443... connected.\n",
            "HTTP request sent, awaiting response... 200 OK\n",
            "Length: 5643545 (5.4M) [application/json]\n",
            "Saving to: ‘/tmp/sarcasm.json’\n",
            "\n",
            "\r/tmp/sarcasm.json     0%[                    ]       0  --.-KB/s               \r/tmp/sarcasm.json   100%[===================>]   5.38M  --.-KB/s    in 0.03s   \n",
            "\n",
            "2020-01-13 20:28:07 (214 MB/s) - ‘/tmp/sarcasm.json’ saved [5643545/5643545]\n",
            "\n",
            "WARNING:tensorflow:From /usr/local/lib/python3.6/dist-packages/tensorflow_core/python/keras/initializers.py:119: calling RandomUniform.__init__ (from tensorflow.python.ops.init_ops) with dtype is deprecated and will be removed in a future version.\n",
            "Instructions for updating:\n",
            "Call initializer instance with the dtype argument instead of passing it to the constructor\n",
            "WARNING:tensorflow:From /usr/local/lib/python3.6/dist-packages/tensorflow_core/python/ops/resource_variable_ops.py:1630: calling BaseResourceVariable.__init__ (from tensorflow.python.ops.resource_variable_ops) with constraint is deprecated and will be removed in a future version.\n",
            "Instructions for updating:\n",
            "If using Keras pass *_constraint arguments to layers.\n",
            "WARNING:tensorflow:From /usr/local/lib/python3.6/dist-packages/tensorflow_core/python/ops/nn_impl.py:183: where (from tensorflow.python.ops.array_ops) is deprecated and will be removed in a future version.\n",
            "Instructions for updating:\n",
            "Use tf.where in 2.0, which has the same broadcast rule as np.where\n",
            "Model: \"sequential\"\n",
            "_________________________________________________________________\n",
            "Layer (type)                 Output Shape              Param #   \n",
            "=================================================================\n",
            "embedding (Embedding)        (None, 120, 16)           16000     \n",
            "_________________________________________________________________\n",
            "conv1d (Conv1D)              (None, 116, 128)          10368     \n",
            "_________________________________________________________________\n",
            "global_max_pooling1d (Global (None, 128)               0         \n",
            "_________________________________________________________________\n",
            "dense (Dense)                (None, 24)                3096      \n",
            "_________________________________________________________________\n",
            "dense_1 (Dense)              (None, 1)                 25        \n",
            "=================================================================\n",
            "Total params: 29,489\n",
            "Trainable params: 29,489\n",
            "Non-trainable params: 0\n",
            "_________________________________________________________________\n",
            "Train on 20000 samples, validate on 6709 samples\n",
            "Epoch 1/50\n",
            "20000/20000 [==============================] - 9s 465us/sample - loss: 0.4751 - acc: 0.7633 - val_loss: 0.4061 - val_acc: 0.8189\n",
            "Epoch 2/50\n",
            "20000/20000 [==============================] - 3s 127us/sample - loss: 0.3602 - acc: 0.8400 - val_loss: 0.3922 - val_acc: 0.8198\n",
            "Epoch 3/50\n",
            "20000/20000 [==============================] - 3s 128us/sample - loss: 0.3200 - acc: 0.8587 - val_loss: 0.3909 - val_acc: 0.8238\n",
            "Epoch 4/50\n",
            "20000/20000 [==============================] - 3s 127us/sample - loss: 0.2808 - acc: 0.8796 - val_loss: 0.4163 - val_acc: 0.8241\n",
            "Epoch 5/50\n",
            "20000/20000 [==============================] - 3s 127us/sample - loss: 0.2485 - acc: 0.8979 - val_loss: 0.4369 - val_acc: 0.8207\n",
            "Epoch 6/50\n",
            "20000/20000 [==============================] - 3s 130us/sample - loss: 0.2133 - acc: 0.9144 - val_loss: 0.4778 - val_acc: 0.8128\n",
            "Epoch 7/50\n",
            "20000/20000 [==============================] - 3s 130us/sample - loss: 0.1809 - acc: 0.9303 - val_loss: 0.5238 - val_acc: 0.8061\n",
            "Epoch 8/50\n",
            "20000/20000 [==============================] - 3s 130us/sample - loss: 0.1508 - acc: 0.9437 - val_loss: 0.5807 - val_acc: 0.8046\n",
            "Epoch 9/50\n",
            "20000/20000 [==============================] - 3s 128us/sample - loss: 0.1260 - acc: 0.9529 - val_loss: 0.6620 - val_acc: 0.8053\n",
            "Epoch 10/50\n",
            "20000/20000 [==============================] - 3s 131us/sample - loss: 0.1045 - acc: 0.9632 - val_loss: 0.7247 - val_acc: 0.8044\n",
            "Epoch 11/50\n",
            "20000/20000 [==============================] - 3s 127us/sample - loss: 0.0867 - acc: 0.9696 - val_loss: 0.8215 - val_acc: 0.8013\n",
            "Epoch 12/50\n",
            "20000/20000 [==============================] - 3s 128us/sample - loss: 0.0769 - acc: 0.9730 - val_loss: 0.8739 - val_acc: 0.7940\n",
            "Epoch 13/50\n",
            "20000/20000 [==============================] - 3s 131us/sample - loss: 0.0654 - acc: 0.9776 - val_loss: 1.0146 - val_acc: 0.7964\n",
            "Epoch 14/50\n",
            "20000/20000 [==============================] - 3s 133us/sample - loss: 0.0610 - acc: 0.9778 - val_loss: 1.0304 - val_acc: 0.7955\n",
            "Epoch 15/50\n",
            "20000/20000 [==============================] - 3s 130us/sample - loss: 0.0539 - acc: 0.9815 - val_loss: 1.0578 - val_acc: 0.7934\n",
            "Epoch 16/50\n",
            "20000/20000 [==============================] - 3s 130us/sample - loss: 0.0466 - acc: 0.9843 - val_loss: 1.1675 - val_acc: 0.7869\n",
            "Epoch 17/50\n",
            "20000/20000 [==============================] - 3s 130us/sample - loss: 0.0454 - acc: 0.9837 - val_loss: 1.2084 - val_acc: 0.8004\n",
            "Epoch 18/50\n",
            "20000/20000 [==============================] - 3s 129us/sample - loss: 0.0434 - acc: 0.9844 - val_loss: 1.3261 - val_acc: 0.7919\n",
            "Epoch 19/50\n",
            "20000/20000 [==============================] - 3s 129us/sample - loss: 0.0488 - acc: 0.9816 - val_loss: 1.2800 - val_acc: 0.7900\n",
            "Epoch 20/50\n",
            "20000/20000 [==============================] - 3s 128us/sample - loss: 0.0391 - acc: 0.9858 - val_loss: 1.3150 - val_acc: 0.7892\n",
            "Epoch 21/50\n",
            "20000/20000 [==============================] - 3s 125us/sample - loss: 0.0325 - acc: 0.9887 - val_loss: 1.4554 - val_acc: 0.7883\n",
            "Epoch 22/50\n",
            "20000/20000 [==============================] - 3s 129us/sample - loss: 0.0319 - acc: 0.9880 - val_loss: 1.4488 - val_acc: 0.7904\n",
            "Epoch 23/50\n",
            "20000/20000 [==============================] - 3s 130us/sample - loss: 0.0369 - acc: 0.9869 - val_loss: 1.4532 - val_acc: 0.7904\n",
            "Epoch 24/50\n",
            "20000/20000 [==============================] - 3s 131us/sample - loss: 0.0348 - acc: 0.9863 - val_loss: 1.4565 - val_acc: 0.7916\n",
            "Epoch 25/50\n",
            "20000/20000 [==============================] - 3s 126us/sample - loss: 0.0300 - acc: 0.9880 - val_loss: 1.7026 - val_acc: 0.7931\n",
            "Epoch 26/50\n",
            "20000/20000 [==============================] - 2s 125us/sample - loss: 0.0312 - acc: 0.9876 - val_loss: 1.6134 - val_acc: 0.7915\n",
            "Epoch 27/50\n",
            "20000/20000 [==============================] - 3s 127us/sample - loss: 0.0287 - acc: 0.9890 - val_loss: 1.8485 - val_acc: 0.7882\n",
            "Epoch 28/50\n",
            "20000/20000 [==============================] - 3s 127us/sample - loss: 0.0316 - acc: 0.9872 - val_loss: 1.7499 - val_acc: 0.7880\n",
            "Epoch 29/50\n",
            "20000/20000 [==============================] - 3s 129us/sample - loss: 0.0333 - acc: 0.9878 - val_loss: 1.7058 - val_acc: 0.7952\n",
            "Epoch 30/50\n",
            "20000/20000 [==============================] - 3s 129us/sample - loss: 0.0358 - acc: 0.9862 - val_loss: 1.6691 - val_acc: 0.7909\n",
            "Epoch 31/50\n",
            "20000/20000 [==============================] - 3s 127us/sample - loss: 0.0281 - acc: 0.9886 - val_loss: 1.7262 - val_acc: 0.7922\n",
            "Epoch 32/50\n",
            "20000/20000 [==============================] - 3s 128us/sample - loss: 0.0219 - acc: 0.9917 - val_loss: 1.8579 - val_acc: 0.7858\n",
            "Epoch 33/50\n",
            "20000/20000 [==============================] - 3s 130us/sample - loss: 0.0234 - acc: 0.9911 - val_loss: 1.9272 - val_acc: 0.7912\n",
            "Epoch 34/50\n",
            "20000/20000 [==============================] - 3s 130us/sample - loss: 0.0253 - acc: 0.9902 - val_loss: 1.8573 - val_acc: 0.7904\n",
            "Epoch 35/50\n",
            "20000/20000 [==============================] - 3s 128us/sample - loss: 0.0309 - acc: 0.9879 - val_loss: 1.8228 - val_acc: 0.7901\n",
            "Epoch 36/50\n",
            "20000/20000 [==============================] - 3s 128us/sample - loss: 0.0304 - acc: 0.9882 - val_loss: 1.9505 - val_acc: 0.7854\n",
            "Epoch 37/50\n",
            "20000/20000 [==============================] - 3s 129us/sample - loss: 0.0261 - acc: 0.9893 - val_loss: 2.0560 - val_acc: 0.7906\n",
            "Epoch 38/50\n",
            "20000/20000 [==============================] - 3s 129us/sample - loss: 0.0223 - acc: 0.9912 - val_loss: 1.8820 - val_acc: 0.7793\n",
            "Epoch 39/50\n",
            "20000/20000 [==============================] - 3s 128us/sample - loss: 0.0224 - acc: 0.9908 - val_loss: 2.2092 - val_acc: 0.7889\n",
            "Epoch 40/50\n",
            "20000/20000 [==============================] - 3s 129us/sample - loss: 0.0279 - acc: 0.9890 - val_loss: 2.0242 - val_acc: 0.7939\n",
            "Epoch 41/50\n",
            "20000/20000 [==============================] - 3s 130us/sample - loss: 0.0219 - acc: 0.9911 - val_loss: 2.5805 - val_acc: 0.7818\n",
            "Epoch 42/50\n",
            "20000/20000 [==============================] - 3s 132us/sample - loss: 0.0233 - acc: 0.9912 - val_loss: 2.2460 - val_acc: 0.7898\n",
            "Epoch 43/50\n",
            "20000/20000 [==============================] - 3s 129us/sample - loss: 0.0244 - acc: 0.9901 - val_loss: 2.2449 - val_acc: 0.7907\n",
            "Epoch 44/50\n",
            "20000/20000 [==============================] - 3s 128us/sample - loss: 0.0228 - acc: 0.9905 - val_loss: 2.1242 - val_acc: 0.7919\n",
            "Epoch 45/50\n",
            "20000/20000 [==============================] - 3s 128us/sample - loss: 0.0229 - acc: 0.9906 - val_loss: 2.0727 - val_acc: 0.7872\n",
            "Epoch 46/50\n",
            "20000/20000 [==============================] - 3s 126us/sample - loss: 0.0200 - acc: 0.9916 - val_loss: 2.0905 - val_acc: 0.7904\n",
            "Epoch 47/50\n",
            "20000/20000 [==============================] - 3s 130us/sample - loss: 0.0244 - acc: 0.9901 - val_loss: 2.2251 - val_acc: 0.7874\n",
            "Epoch 48/50\n",
            "20000/20000 [==============================] - 3s 126us/sample - loss: 0.0227 - acc: 0.9898 - val_loss: 2.3045 - val_acc: 0.7880\n",
            "Epoch 49/50\n",
            "20000/20000 [==============================] - 3s 128us/sample - loss: 0.0185 - acc: 0.9919 - val_loss: 2.2592 - val_acc: 0.7942\n",
            "Epoch 50/50\n",
            "20000/20000 [==============================] - 3s 125us/sample - loss: 0.0186 - acc: 0.9919 - val_loss: 2.7290 - val_acc: 0.7813\n"
          ],
          "name": "stdout"
        }
      ]
    },
    {
      "cell_type": "code",
      "metadata": {
        "id": "g9DC6dmLF8DC",
        "colab_type": "code",
        "colab": {
          "base_uri": "https://localhost:8080/",
          "height": 542
        },
        "outputId": "38817e8b-61f2-43f5-e4b1-bb2b4c16068f"
      },
      "source": [
        "import matplotlib.pyplot as plt\n",
        "\n",
        "\n",
        "def plot_graphs(history, string):\n",
        "  plt.plot(history.history[string])\n",
        "  plt.plot(history.history['val_'+string])\n",
        "  plt.xlabel(\"Epochs\")\n",
        "  plt.ylabel(string)\n",
        "  plt.legend([string, 'val_'+string])\n",
        "  plt.show()\n",
        "\n",
        "plot_graphs(history, 'acc')\n",
        "plot_graphs(history, 'loss')"
      ],
      "execution_count": 2,
      "outputs": [
        {
          "output_type": "display_data",
          "data": {
            "image/png": "[encoded data removed]",
            "text/plain": [
              "<Figure size 432x288 with 1 Axes>"
            ]
          },
          "metadata": {
            "tags": []
          }
        },
        {
          "output_type": "display_data",
          "data": {
            "image/png": "[encoded data removed]",
            "text/plain": [
              "<Figure size 432x288 with 1 Axes>"
            ]
          },
          "metadata": {
            "tags": []
          }
        }
      ]
    },
    {
      "cell_type": "code",
      "metadata": {
        "id": "7ZEZIUppGhdi",
        "colab_type": "code",
        "colab": {}
      },
      "source": [
        "model.save(\"test.h5\")"
      ],
      "execution_count": 0,
      "outputs": []
    }
  ]
}