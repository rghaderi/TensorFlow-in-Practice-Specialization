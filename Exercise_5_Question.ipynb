{
  "nbformat": 4,
  "nbformat_minor": 0,
  "metadata": {
    "colab": {
      "name": "Exercise 5 - Question.ipynb",
      "provenance": [],
      "collapsed_sections": []
    },
    "kernelspec": {
      "name": "python3",
      "display_name": "Python 3"
    },
    "accelerator": "GPU"
  },
  "cells": [
    {
      "cell_type": "code",
      "metadata": {
        "id": "dn-6c02VmqiN",
        "colab_type": "code",
        "colab": {
          "base_uri": "https://localhost:8080/",
          "height": 65
        },
        "outputId": "8f48155b-b910-4f18-ef43-b2d5e5f87ec1"
      },
      "source": [
        "# In this exercise you will train a CNN on the FULL Cats-v-dogs dataset\n",
        "# This will require you doing a lot of data preprocessing because\n",
        "# the dataset isn't split into training and validation for you\n",
        "# This code block has all the required inputs\n",
        "import os\n",
        "import zipfile\n",
        "import random\n",
        "import tensorflow as tf\n",
        "from tensorflow.keras.optimizers import RMSprop\n",
        "from tensorflow.keras.preprocessing.image import ImageDataGenerator\n",
        "from shutil import copyfile"
      ],
      "execution_count": 1,
      "outputs": [
        {
          "output_type": "display_data",
          "data": {
            "text/html": [
              "<p style=\"color: red;\">\n",
              "The default version of TensorFlow in Colab will soon switch to TensorFlow 2.x.<br>\n",
              "We recommend you <a href=\"https://www.tensorflow.org/guide/migrate\" target=\"_blank\">upgrade</a> now \n",
              "or ensure your notebook will continue to use TensorFlow 1.x via the <code>%tensorflow_version 1.x</code> magic:\n",
              "<a href=\"https://colab.research.google.com/notebooks/tensorflow_version.ipynb\" target=\"_blank\">more info</a>.</p>\n"
            ],
            "text/plain": [
              "<IPython.core.display.HTML object>"
            ]
          },
          "metadata": {
            "tags": []
          }
        }
      ]
    },
    {
      "cell_type": "code",
      "metadata": {
        "id": "3sd9dQWa23aj",
        "colab_type": "code",
        "colab": {
          "base_uri": "https://localhost:8080/",
          "height": 219
        },
        "outputId": "120dac97-ac75-4557-906f-4a3ea6cca2f1"
      },
      "source": [
        "# This code block downloads the full Cats-v-Dogs dataset and stores it as \n",
        "# cats-and-dogs.zip. It then unzips it to /tmp\n",
        "# which will create a tmp/PetImages directory containing subdirectories\n",
        "# called 'Cat' and 'Dog' (that's how the original researchers structured it)\n",
        "# If the URL doesn't work, \n",
        "# .   visit https://www.microsoft.com/en-us/download/confirmation.aspx?id=54765\n",
        "# And right click on the 'Download Manually' link to get a new URL\n",
        "\n",
        "!wget --no-check-certificate \\\n",
        "    \"https://download.microsoft.com/download/3/E/1/3E1C3F21-ECDB-4869-8368-6DEBA77B919F/kagglecatsanddogs_3367a.zip\" \\\n",
        "    -O \"/tmp/cats-and-dogs.zip\"\n",
        "\n",
        "local_zip = '/tmp/cats-and-dogs.zip'\n",
        "zip_ref = zipfile.ZipFile(local_zip, 'r')\n",
        "zip_ref.extractall('/tmp')\n",
        "zip_ref.close()"
      ],
      "execution_count": 2,
      "outputs": [
        {
          "output_type": "stream",
          "text": [
            "--2019-12-28 00:11:02--  https://download.microsoft.com/download/3/E/1/3E1C3F21-ECDB-4869-8368-6DEBA77B919F/kagglecatsanddogs_3367a.zip\n",
            "Resolving download.microsoft.com (download.microsoft.com)... 104.93.0.142, 2600:1417:76:495::e59, 2600:1417:76:48c::e59, ...\n",
            "Connecting to download.microsoft.com (download.microsoft.com)|104.93.0.142|:443... connected.\n",
            "HTTP request sent, awaiting response... 200 OK\n",
            "Length: 824894548 (787M) [application/octet-stream]\n",
            "Saving to: ‘/tmp/cats-and-dogs.zip’\n",
            "\n",
            "/tmp/cats-and-dogs. 100%[===================>] 786.68M  23.5MB/s    in 22s     \n",
            "\n",
            "2019-12-28 00:11:25 (35.1 MB/s) - ‘/tmp/cats-and-dogs.zip’ saved [824894548/824894548]\n",
            "\n"
          ],
          "name": "stdout"
        }
      ]
    },
    {
      "cell_type": "code",
      "metadata": {
        "id": "gi3yD62a6X3S",
        "colab_type": "code",
        "colab": {
          "base_uri": "https://localhost:8080/",
          "height": 54
        },
        "outputId": "5aba83ef-6aef-408d-92b8-d4dee062abc1"
      },
      "source": [
        "print(len(os.listdir('/tmp/PetImages/Cat/')))\n",
        "print(len(os.listdir('/tmp/PetImages/Dog/')))\n",
        "\n",
        "# Expected Output:\n",
        "# 12501\n",
        "# 12501"
      ],
      "execution_count": 3,
      "outputs": [
        {
          "output_type": "stream",
          "text": [
            "12501\n",
            "12501\n"
          ],
          "name": "stdout"
        }
      ]
    },
    {
      "cell_type": "code",
      "metadata": {
        "id": "F-QkLjxpmyK2",
        "colab_type": "code",
        "colab": {}
      },
      "source": [
        "# Use os.mkdir to create your directories\n",
        "# You will need a directory for cats-v-dogs, and subdirectories for training\n",
        "# and testing. These in turn will need subdirectories for 'cats' and 'dogs'\n",
        "try:\n",
        "    #YOUR CODE GOES HERE\n",
        "    os.makedirs('/tmp/cats-v-dogs/training/cats/')\n",
        "    os.makedirs('/tmp/cats-v-dogs/training/dogs/')\n",
        "    os.makedirs('/tmp/cats-v-dogs/testing/cats/')\n",
        "    os.makedirs('/tmp/cats-v-dogs/testing/dogs/')\n",
        "except OSError:\n",
        "    pass\n"
      ],
      "execution_count": 0,
      "outputs": []
    },
    {
      "cell_type": "code",
      "metadata": {
        "id": "zvSODo0f9LaU",
        "colab_type": "code",
        "colab": {}
      },
      "source": [
        "# Write a python function called split_data which takes\n",
        "# a SOURCE directory containing the files\n",
        "# a TRAINING directory that a portion of the files will be copied to\n",
        "# a TESTING directory that a portion of the files will be copie to\n",
        "# a SPLIT SIZE to determine the portion\n",
        "# The files should also be randomized, so that the training set is a random\n",
        "# X% of the files, and the test set is the remaining files\n",
        "# SO, for example, if SOURCE is PetImages/Cat, and SPLIT SIZE is .9\n",
        "# Then 90% of the images in PetImages/Cat will be copied to the TRAINING dir\n",
        "# and 10% of the images will be copied to the TESTING dir\n",
        "# Also -- All images should be checked, and if they have a zero file length,\n",
        "# they will not be copied over\n",
        "#\n",
        "# os.listdir(DIRECTORY) gives you a listing of the contents of that directory\n",
        "# os.path.getsize(PATH) gives you the size of the file\n",
        "# copyfile(source, destination) copies a file from source to destination\n",
        "# random.sample(list, len(list)) shuffles a list\n",
        "\n",
        "def split_data(SOURCE, TRAINING, TESTING, SPLIT_SIZE):\n",
        "# YOUR CODE STARTS HERE\n",
        "    files = [x for x in os.listdir(SOURCE) if os.path.getsize(os.path.join(SOURCE, x))>0]\n",
        "    selected_files= random.sample(range(0, len(files)), round(len(files) * SPLIT_SIZE))\n",
        "\n",
        "    for i, filename in enumerate(files):\n",
        "        if i in selected_files:\n",
        "             #print (i, filename)\n",
        "             copyfile(os.path.join(SOURCE, filename), os.path.join(TRAINING, filename))\n",
        "        else:\n",
        "             copyfile(os.path.join(SOURCE, filename), os.path.join(TESTING, filename))\n",
        "# YOUR CODE ENDS HERE\n",
        "\n",
        "\n",
        "CAT_SOURCE_DIR = \"/tmp/PetImages/Cat/\"\n",
        "TRAINING_CATS_DIR = \"/tmp/cats-v-dogs/training/cats/\"\n",
        "TESTING_CATS_DIR = \"/tmp/cats-v-dogs/testing/cats/\"\n",
        "DOG_SOURCE_DIR = \"/tmp/PetImages/Dog/\"\n",
        "TRAINING_DOGS_DIR = \"/tmp/cats-v-dogs/training/dogs/\"\n",
        "TESTING_DOGS_DIR = \"/tmp/cats-v-dogs/testing/dogs/\"\n",
        "\n",
        "split_size = .9\n",
        "split_data(CAT_SOURCE_DIR, TRAINING_CATS_DIR, TESTING_CATS_DIR, split_size)\n",
        "split_data(DOG_SOURCE_DIR, TRAINING_DOGS_DIR, TESTING_DOGS_DIR, split_size)\n",
        "\n",
        "# Expected output\n",
        "# 666.jpg is zero length, so ignoring\n",
        "# 11702.jpg is zero length, so ignoring"
      ],
      "execution_count": 0,
      "outputs": []
    },
    {
      "cell_type": "code",
      "metadata": {
        "id": "luthalB76ufC",
        "colab_type": "code",
        "colab": {
          "base_uri": "https://localhost:8080/",
          "height": 90
        },
        "outputId": "b758e081-f574-4627-ccf7-68be7f509696"
      },
      "source": [
        "print(len(os.listdir('/tmp/cats-v-dogs/training/cats/')))\n",
        "print(len(os.listdir('/tmp/cats-v-dogs/training/dogs/')))\n",
        "print(len(os.listdir('/tmp/cats-v-dogs/testing/cats/')))\n",
        "print(len(os.listdir('/tmp/cats-v-dogs/testing/dogs/')))\n",
        "\n",
        "# Expected output:\n",
        "# 11250\n",
        "# 11250\n",
        "# 1250\n",
        "# 1250"
      ],
      "execution_count": 6,
      "outputs": [
        {
          "output_type": "stream",
          "text": [
            "11250\n",
            "11250\n",
            "1250\n",
            "1250\n"
          ],
          "name": "stdout"
        }
      ]
    },
    {
      "cell_type": "code",
      "metadata": {
        "id": "-BQrav4anTmj",
        "colab_type": "code",
        "colab": {
          "base_uri": "https://localhost:8080/",
          "height": 147
        },
        "outputId": "4d481e45-b511-45ea-94bf-8e1086cd8a19"
      },
      "source": [
        "# DEFINE A KERAS MODEL TO CLASSIFY CATS V DOGS\n",
        "# USE AT LEAST 3 CONVOLUTION LAYERS\n",
        "model = tf.keras.models.Sequential([\n",
        "# YOUR CODE HERE\n",
        "    tf.keras.layers.Conv2D(16, (3,3), input_shape=(150,150,3), activation='relu'),\n",
        "    tf.keras.layers.MaxPooling2D(2,2),\n",
        "    tf.keras.layers.Conv2D(32, (3,3), activation='relu'),\n",
        "    tf.keras.layers.MaxPooling2D(2,2),\n",
        "    tf.keras.layers.Conv2D(64, (3,3), activation='relu'),\n",
        "    tf.keras.layers.MaxPooling2D(2,2),\n",
        "    tf.keras.layers.Flatten(),\n",
        "    tf.keras.layers.Dense(256, activation='relu'),\n",
        "    tf.keras.layers.Dense(1, activation ='sigmoid')\n",
        "])\n",
        "\n",
        "model.compile(optimizer=RMSprop(lr=0.001), loss='binary_crossentropy', metrics=['acc'])"
      ],
      "execution_count": 7,
      "outputs": [
        {
          "output_type": "stream",
          "text": [
            "WARNING:tensorflow:From /usr/local/lib/python3.6/dist-packages/tensorflow_core/python/ops/resource_variable_ops.py:1630: calling BaseResourceVariable.__init__ (from tensorflow.python.ops.resource_variable_ops) with constraint is deprecated and will be removed in a future version.\n",
            "Instructions for updating:\n",
            "If using Keras pass *_constraint arguments to layers.\n",
            "WARNING:tensorflow:From /usr/local/lib/python3.6/dist-packages/tensorflow_core/python/ops/nn_impl.py:183: where (from tensorflow.python.ops.array_ops) is deprecated and will be removed in a future version.\n",
            "Instructions for updating:\n",
            "Use tf.where in 2.0, which has the same broadcast rule as np.where\n"
          ],
          "name": "stdout"
        }
      ]
    },
    {
      "cell_type": "code",
      "metadata": {
        "id": "mlNjoJ5D61N6",
        "colab_type": "code",
        "colab": {
          "base_uri": "https://localhost:8080/",
          "height": 54
        },
        "outputId": "528fb210-2dff-4696-a045-8b7f501f8594"
      },
      "source": [
        "TRAINING_DIR = \"/tmp/cats-v-dogs/training/\"#YOUR CODE HERE\n",
        "train_datagen = ImageDataGenerator( rescale = 1.0/255. )#YOUR CODE HERE\n",
        "train_generator = train_datagen.flow_from_directory(TRAINING_DIR, batch_size=20, class_mode='binary', target_size=(150, 150)) #YOUR CODE HERE\n",
        "\n",
        "VALIDATION_DIR = \"/tmp/cats-v-dogs/testing/\"#YOUR CODE HERE\n",
        "validation_datagen = ImageDataGenerator( rescale = 1.0/255. )#YOUR CODE HERE\n",
        "validation_generator = validation_datagen.flow_from_directory(VALIDATION_DIR, batch_size=20, class_mode='binary', target_size=(150,150)) #YOUR CODE HERE\n",
        "\n",
        "\n",
        "\n",
        "\n",
        "# Expected Output:\n",
        "# Found 22498 images belonging to 2 classes.\n",
        "# Found 2500 images belonging to 2 classes."
      ],
      "execution_count": 8,
      "outputs": [
        {
          "output_type": "stream",
          "text": [
            "Found 22498 images belonging to 2 classes.\n",
            "Found 2500 images belonging to 2 classes.\n"
          ],
          "name": "stdout"
        }
      ]
    },
    {
      "cell_type": "code",
      "metadata": {
        "id": "KyS4n53w7DxC",
        "colab_type": "code",
        "colab": {
          "base_uri": "https://localhost:8080/",
          "height": 1000
        },
        "outputId": "6d98c282-4b62-4d27-f14f-c620462292a8"
      },
      "source": [
        "history = model.fit_generator(train_generator,\n",
        "                              epochs=50,\n",
        "                              verbose=1,\n",
        "                              validation_data=validation_generator)\n",
        "\n",
        "# The expectation here is that the model will train, and that accuracy will be > 95% on both training and validation\n",
        "# i.e. acc:A1 and val_acc:A2 will be visible, and both A1 and A2 will be > .9"
      ],
      "execution_count": 9,
      "outputs": [
        {
          "output_type": "stream",
          "text": [
            "Epoch 1/50\n",
            "  53/1125 [>.............................] - ETA: 3:14 - loss: 0.7550 - acc: 0.5462"
          ],
          "name": "stdout"
        },
        {
          "output_type": "stream",
          "text": [
            "/usr/local/lib/python3.6/dist-packages/PIL/TiffImagePlugin.py:725: UserWarning: Possibly corrupt EXIF data.  Expecting to read 80000 bytes but only got 0. Skipping tag 64640\n",
            "  \" Skipping tag %s\" % (size, len(data), tag))\n",
            "/usr/local/lib/python3.6/dist-packages/PIL/TiffImagePlugin.py:725: UserWarning: Possibly corrupt EXIF data.  Expecting to read 6553600 bytes but only got 0. Skipping tag 49\n",
            "  \" Skipping tag %s\" % (size, len(data), tag))\n",
            "/usr/local/lib/python3.6/dist-packages/PIL/TiffImagePlugin.py:725: UserWarning: Possibly corrupt EXIF data.  Expecting to read 1050744 bytes but only got 4951. Skipping tag 51\n",
            "  \" Skipping tag %s\" % (size, len(data), tag))\n",
            "/usr/local/lib/python3.6/dist-packages/PIL/TiffImagePlugin.py:725: UserWarning: Possibly corrupt EXIF data.  Expecting to read 293339136 bytes but only got 0. Skipping tag 5\n",
            "  \" Skipping tag %s\" % (size, len(data), tag))\n",
            "/usr/local/lib/python3.6/dist-packages/PIL/TiffImagePlugin.py:725: UserWarning: Possibly corrupt EXIF data.  Expecting to read 293863424 bytes but only got 0. Skipping tag 5\n",
            "  \" Skipping tag %s\" % (size, len(data), tag))\n",
            "/usr/local/lib/python3.6/dist-packages/PIL/TiffImagePlugin.py:725: UserWarning: Possibly corrupt EXIF data.  Expecting to read 3368026112 bytes but only got 0. Skipping tag 7\n",
            "  \" Skipping tag %s\" % (size, len(data), tag))\n",
            "/usr/local/lib/python3.6/dist-packages/PIL/TiffImagePlugin.py:725: UserWarning: Possibly corrupt EXIF data.  Expecting to read 134479872 bytes but only got 0. Skipping tag 7\n",
            "  \" Skipping tag %s\" % (size, len(data), tag))\n",
            "/usr/local/lib/python3.6/dist-packages/PIL/TiffImagePlugin.py:725: UserWarning: Possibly corrupt EXIF data.  Expecting to read 295698432 bytes but only got 0. Skipping tag 10\n",
            "  \" Skipping tag %s\" % (size, len(data), tag))\n",
            "/usr/local/lib/python3.6/dist-packages/PIL/TiffImagePlugin.py:725: UserWarning: Possibly corrupt EXIF data.  Expecting to read 296222720 bytes but only got 0. Skipping tag 5\n",
            "  \" Skipping tag %s\" % (size, len(data), tag))\n",
            "/usr/local/lib/python3.6/dist-packages/PIL/TiffImagePlugin.py:725: UserWarning: Possibly corrupt EXIF data.  Expecting to read 3300917248 bytes but only got 0. Skipping tag 7\n",
            "  \" Skipping tag %s\" % (size, len(data), tag))\n",
            "/usr/local/lib/python3.6/dist-packages/PIL/TiffImagePlugin.py:725: UserWarning: Possibly corrupt EXIF data.  Expecting to read 65536 bytes but only got 0. Skipping tag 3\n",
            "  \" Skipping tag %s\" % (size, len(data), tag))\n",
            "/usr/local/lib/python3.6/dist-packages/PIL/TiffImagePlugin.py:725: UserWarning: Possibly corrupt EXIF data.  Expecting to read 14745600 bytes but only got 0. Skipping tag 4\n",
            "  \" Skipping tag %s\" % (size, len(data), tag))\n",
            "/usr/local/lib/python3.6/dist-packages/PIL/TiffImagePlugin.py:725: UserWarning: Possibly corrupt EXIF data.  Expecting to read 25624576 bytes but only got 0. Skipping tag 4\n",
            "  \" Skipping tag %s\" % (size, len(data), tag))\n",
            "/usr/local/lib/python3.6/dist-packages/PIL/TiffImagePlugin.py:725: UserWarning: Possibly corrupt EXIF data.  Expecting to read 317718528 bytes but only got 4956. Skipping tag 4\n",
            "  \" Skipping tag %s\" % (size, len(data), tag))\n",
            "/usr/local/lib/python3.6/dist-packages/PIL/TiffImagePlugin.py:725: UserWarning: Possibly corrupt EXIF data.  Expecting to read 131073 bytes but only got 4952. Skipping tag 0\n",
            "  \" Skipping tag %s\" % (size, len(data), tag))\n",
            "/usr/local/lib/python3.6/dist-packages/PIL/TiffImagePlugin.py:725: UserWarning: Possibly corrupt EXIF data.  Expecting to read 393216 bytes but only got 0. Skipping tag 3\n",
            "  \" Skipping tag %s\" % (size, len(data), tag))\n",
            "/usr/local/lib/python3.6/dist-packages/PIL/TiffImagePlugin.py:725: UserWarning: Possibly corrupt EXIF data.  Expecting to read 287178752 bytes but only got 0. Skipping tag 5\n",
            "  \" Skipping tag %s\" % (size, len(data), tag))\n",
            "/usr/local/lib/python3.6/dist-packages/PIL/TiffImagePlugin.py:725: UserWarning: Possibly corrupt EXIF data.  Expecting to read 287703040 bytes but only got 0. Skipping tag 5\n",
            "  \" Skipping tag %s\" % (size, len(data), tag))\n",
            "/usr/local/lib/python3.6/dist-packages/PIL/TiffImagePlugin.py:725: UserWarning: Possibly corrupt EXIF data.  Expecting to read 131072 bytes but only got 0. Skipping tag 3\n",
            "  \" Skipping tag %s\" % (size, len(data), tag))\n",
            "/usr/local/lib/python3.6/dist-packages/PIL/TiffImagePlugin.py:725: UserWarning: Possibly corrupt EXIF data.  Expecting to read 524288 bytes but only got 0. Skipping tag 4\n",
            "  \" Skipping tag %s\" % (size, len(data), tag))\n",
            "/usr/local/lib/python3.6/dist-packages/PIL/TiffImagePlugin.py:725: UserWarning: Possibly corrupt EXIF data.  Expecting to read 286654464 bytes but only got 4956. Skipping tag 4\n",
            "  \" Skipping tag %s\" % (size, len(data), tag))\n",
            "/usr/local/lib/python3.6/dist-packages/PIL/TiffImagePlugin.py:742: UserWarning: Corrupt EXIF data.  Expecting to read 12 bytes but only got 2. \n",
            "  warnings.warn(str(msg))\n"
          ],
          "name": "stderr"
        },
        {
          "output_type": "stream",
          "text": [
            " 115/1125 [==>...........................] - ETA: 2:00 - loss: 0.7129 - acc: 0.5713"
          ],
          "name": "stdout"
        },
        {
          "output_type": "stream",
          "text": [
            "/usr/local/lib/python3.6/dist-packages/PIL/TiffImagePlugin.py:725: UserWarning: Possibly corrupt EXIF data.  Expecting to read 32 bytes but only got 0. Skipping tag 270\n",
            "  \" Skipping tag %s\" % (size, len(data), tag))\n",
            "/usr/local/lib/python3.6/dist-packages/PIL/TiffImagePlugin.py:725: UserWarning: Possibly corrupt EXIF data.  Expecting to read 5 bytes but only got 0. Skipping tag 271\n",
            "  \" Skipping tag %s\" % (size, len(data), tag))\n",
            "/usr/local/lib/python3.6/dist-packages/PIL/TiffImagePlugin.py:725: UserWarning: Possibly corrupt EXIF data.  Expecting to read 8 bytes but only got 0. Skipping tag 272\n",
            "  \" Skipping tag %s\" % (size, len(data), tag))\n",
            "/usr/local/lib/python3.6/dist-packages/PIL/TiffImagePlugin.py:725: UserWarning: Possibly corrupt EXIF data.  Expecting to read 8 bytes but only got 0. Skipping tag 282\n",
            "  \" Skipping tag %s\" % (size, len(data), tag))\n",
            "/usr/local/lib/python3.6/dist-packages/PIL/TiffImagePlugin.py:725: UserWarning: Possibly corrupt EXIF data.  Expecting to read 8 bytes but only got 0. Skipping tag 283\n",
            "  \" Skipping tag %s\" % (size, len(data), tag))\n",
            "/usr/local/lib/python3.6/dist-packages/PIL/TiffImagePlugin.py:725: UserWarning: Possibly corrupt EXIF data.  Expecting to read 20 bytes but only got 0. Skipping tag 306\n",
            "  \" Skipping tag %s\" % (size, len(data), tag))\n",
            "/usr/local/lib/python3.6/dist-packages/PIL/TiffImagePlugin.py:725: UserWarning: Possibly corrupt EXIF data.  Expecting to read 48 bytes but only got 0. Skipping tag 532\n",
            "  \" Skipping tag %s\" % (size, len(data), tag))\n",
            "/usr/local/lib/python3.6/dist-packages/PIL/TiffImagePlugin.py:742: UserWarning: Corrupt EXIF data.  Expecting to read 2 bytes but only got 0. \n",
            "  warnings.warn(str(msg))\n"
          ],
          "name": "stderr"
        },
        {
          "output_type": "stream",
          "text": [
            " 208/1125 [====>.........................] - ETA: 1:27 - loss: 0.6792 - acc: 0.6060"
          ],
          "name": "stdout"
        },
        {
          "output_type": "stream",
          "text": [
            "/usr/local/lib/python3.6/dist-packages/PIL/TiffImagePlugin.py:725: UserWarning: Possibly corrupt EXIF data.  Expecting to read 18350080 bytes but only got 0. Skipping tag 0\n",
            "  \" Skipping tag %s\" % (size, len(data), tag))\n",
            "/usr/local/lib/python3.6/dist-packages/PIL/TiffImagePlugin.py:742: UserWarning: Corrupt EXIF data.  Expecting to read 12 bytes but only got 6. \n",
            "  warnings.warn(str(msg))\n"
          ],
          "name": "stderr"
        },
        {
          "output_type": "stream",
          "text": [
            " 374/1125 [========>.....................] - ETA: 1:02 - loss: 0.6402 - acc: 0.6448"
          ],
          "name": "stdout"
        },
        {
          "output_type": "stream",
          "text": [
            "/usr/local/lib/python3.6/dist-packages/PIL/TiffImagePlugin.py:725: UserWarning: Possibly corrupt EXIF data.  Expecting to read 262146 bytes but only got 0. Skipping tag 2\n",
            "  \" Skipping tag %s\" % (size, len(data), tag))\n",
            "/usr/local/lib/python3.6/dist-packages/PIL/TiffImagePlugin.py:725: UserWarning: Possibly corrupt EXIF data.  Expecting to read 262151 bytes but only got 0. Skipping tag 56\n",
            "  \" Skipping tag %s\" % (size, len(data), tag))\n",
            "/usr/local/lib/python3.6/dist-packages/PIL/TiffImagePlugin.py:742: UserWarning: Corrupt EXIF data.  Expecting to read 12 bytes but only got 0. \n",
            "  warnings.warn(str(msg))\n"
          ],
          "name": "stderr"
        },
        {
          "output_type": "stream",
          "text": [
            " 494/1125 [============>.................] - ETA: 49s - loss: 0.6231 - acc: 0.6617"
          ],
          "name": "stdout"
        },
        {
          "output_type": "stream",
          "text": [
            "/usr/local/lib/python3.6/dist-packages/PIL/TiffImagePlugin.py:725: UserWarning: Possibly corrupt EXIF data.  Expecting to read 209715200 bytes but only got 0. Skipping tag 48\n",
            "  \" Skipping tag %s\" % (size, len(data), tag))\n",
            "/usr/local/lib/python3.6/dist-packages/PIL/TiffImagePlugin.py:725: UserWarning: Possibly corrupt EXIF data.  Expecting to read 52428800 bytes but only got 0. Skipping tag 0\n",
            "  \" Skipping tag %s\" % (size, len(data), tag))\n",
            "/usr/local/lib/python3.6/dist-packages/PIL/TiffImagePlugin.py:725: UserWarning: Possibly corrupt EXIF data.  Expecting to read 6468665344 bytes but only got 0. Skipping tag 0\n",
            "  \" Skipping tag %s\" % (size, len(data), tag))\n",
            "/usr/local/lib/python3.6/dist-packages/PIL/TiffImagePlugin.py:725: UserWarning: Possibly corrupt EXIF data.  Expecting to read 1050744 bytes but only got 7027. Skipping tag 48\n",
            "  \" Skipping tag %s\" % (size, len(data), tag))\n",
            "/usr/local/lib/python3.6/dist-packages/PIL/TiffImagePlugin.py:725: UserWarning: Possibly corrupt EXIF data.  Expecting to read 422313984 bytes but only got 0. Skipping tag 5\n",
            "  \" Skipping tag %s\" % (size, len(data), tag))\n",
            "/usr/local/lib/python3.6/dist-packages/PIL/TiffImagePlugin.py:725: UserWarning: Possibly corrupt EXIF data.  Expecting to read 422838272 bytes but only got 0. Skipping tag 5\n",
            "  \" Skipping tag %s\" % (size, len(data), tag))\n",
            "/usr/local/lib/python3.6/dist-packages/PIL/TiffImagePlugin.py:725: UserWarning: Possibly corrupt EXIF data.  Expecting to read 428867584 bytes but only got 0. Skipping tag 10\n",
            "  \" Skipping tag %s\" % (size, len(data), tag))\n",
            "/usr/local/lib/python3.6/dist-packages/PIL/TiffImagePlugin.py:725: UserWarning: Possibly corrupt EXIF data.  Expecting to read 429391872 bytes but only got 0. Skipping tag 5\n",
            "  \" Skipping tag %s\" % (size, len(data), tag))\n",
            "/usr/local/lib/python3.6/dist-packages/PIL/TiffImagePlugin.py:725: UserWarning: Possibly corrupt EXIF data.  Expecting to read 2031616 bytes but only got 0. Skipping tag 3\n",
            "  \" Skipping tag %s\" % (size, len(data), tag))\n",
            "/usr/local/lib/python3.6/dist-packages/PIL/TiffImagePlugin.py:725: UserWarning: Possibly corrupt EXIF data.  Expecting to read 429916160 bytes but only got 0. Skipping tag 5\n",
            "  \" Skipping tag %s\" % (size, len(data), tag))\n",
            "/usr/local/lib/python3.6/dist-packages/PIL/TiffImagePlugin.py:725: UserWarning: Possibly corrupt EXIF data.  Expecting to read 21299200 bytes but only got 0. Skipping tag 4\n",
            "  \" Skipping tag %s\" % (size, len(data), tag))\n",
            "/usr/local/lib/python3.6/dist-packages/PIL/TiffImagePlugin.py:725: UserWarning: Possibly corrupt EXIF data.  Expecting to read 24313856 bytes but only got 0. Skipping tag 4\n",
            "  \" Skipping tag %s\" % (size, len(data), tag))\n",
            "/usr/local/lib/python3.6/dist-packages/PIL/TiffImagePlugin.py:725: UserWarning: Possibly corrupt EXIF data.  Expecting to read 453771264 bytes but only got 7032. Skipping tag 4\n",
            "  \" Skipping tag %s\" % (size, len(data), tag))\n",
            "/usr/local/lib/python3.6/dist-packages/PIL/TiffImagePlugin.py:725: UserWarning: Possibly corrupt EXIF data.  Expecting to read 131073 bytes but only got 7028. Skipping tag 0\n",
            "  \" Skipping tag %s\" % (size, len(data), tag))\n",
            "/usr/local/lib/python3.6/dist-packages/PIL/TiffImagePlugin.py:725: UserWarning: Possibly corrupt EXIF data.  Expecting to read 416415744 bytes but only got 0. Skipping tag 5\n",
            "  \" Skipping tag %s\" % (size, len(data), tag))\n",
            "/usr/local/lib/python3.6/dist-packages/PIL/TiffImagePlugin.py:725: UserWarning: Possibly corrupt EXIF data.  Expecting to read 416940032 bytes but only got 0. Skipping tag 5\n",
            "  \" Skipping tag %s\" % (size, len(data), tag))\n",
            "/usr/local/lib/python3.6/dist-packages/PIL/TiffImagePlugin.py:725: UserWarning: Possibly corrupt EXIF data.  Expecting to read 415825920 bytes but only got 7032. Skipping tag 4\n",
            "  \" Skipping tag %s\" % (size, len(data), tag))\n"
          ],
          "name": "stderr"
        },
        {
          "output_type": "stream",
          "text": [
            " 834/1125 [=====================>........] - ETA: 21s - loss: 0.5839 - acc: 0.6941"
          ],
          "name": "stdout"
        },
        {
          "output_type": "stream",
          "text": [
            "/usr/local/lib/python3.6/dist-packages/PIL/TiffImagePlugin.py:725: UserWarning: Possibly corrupt EXIF data.  Expecting to read 404094976 bytes but only got 0. Skipping tag 5\n",
            "  \" Skipping tag %s\" % (size, len(data), tag))\n",
            "/usr/local/lib/python3.6/dist-packages/PIL/TiffImagePlugin.py:725: UserWarning: Possibly corrupt EXIF data.  Expecting to read 404619264 bytes but only got 0. Skipping tag 5\n",
            "  \" Skipping tag %s\" % (size, len(data), tag))\n",
            "/usr/local/lib/python3.6/dist-packages/PIL/TiffImagePlugin.py:725: UserWarning: Possibly corrupt EXIF data.  Expecting to read 425459712 bytes but only got 0. Skipping tag 4\n",
            "  \" Skipping tag %s\" % (size, len(data), tag))\n",
            "/usr/local/lib/python3.6/dist-packages/PIL/TiffImagePlugin.py:725: UserWarning: Possibly corrupt EXIF data.  Expecting to read 1385474 bytes but only got 6833. Skipping tag 513\n",
            "  \" Skipping tag %s\" % (size, len(data), tag))\n",
            "/usr/local/lib/python3.6/dist-packages/PIL/TiffImagePlugin.py:725: UserWarning: Possibly corrupt EXIF data.  Expecting to read 3846701056 bytes but only got 0. Skipping tag 2\n",
            "  \" Skipping tag %s\" % (size, len(data), tag))\n",
            "/usr/local/lib/python3.6/dist-packages/PIL/TiffImagePlugin.py:725: UserWarning: Possibly corrupt EXIF data.  Expecting to read 196867 bytes but only got 6833. Skipping tag 0\n",
            "  \" Skipping tag %s\" % (size, len(data), tag))\n",
            "/usr/local/lib/python3.6/dist-packages/PIL/TiffImagePlugin.py:742: UserWarning: Corrupt EXIF data.  Expecting to read 12 bytes but only got 8. \n",
            "  warnings.warn(str(msg))\n"
          ],
          "name": "stderr"
        },
        {
          "output_type": "stream",
          "text": [
            " 863/1125 [======================>.......] - ETA: 19s - loss: 0.5822 - acc: 0.6946"
          ],
          "name": "stdout"
        },
        {
          "output_type": "stream",
          "text": [
            "/usr/local/lib/python3.6/dist-packages/PIL/TiffImagePlugin.py:725: UserWarning: Possibly corrupt EXIF data.  Expecting to read 307363840 bytes but only got 0. Skipping tag 5\n",
            "  \" Skipping tag %s\" % (size, len(data), tag))\n",
            "/usr/local/lib/python3.6/dist-packages/PIL/TiffImagePlugin.py:725: UserWarning: Possibly corrupt EXIF data.  Expecting to read 307888128 bytes but only got 0. Skipping tag 5\n",
            "  \" Skipping tag %s\" % (size, len(data), tag))\n",
            "/usr/local/lib/python3.6/dist-packages/PIL/TiffImagePlugin.py:725: UserWarning: Possibly corrupt EXIF data.  Expecting to read 328728576 bytes but only got 0. Skipping tag 4\n",
            "  \" Skipping tag %s\" % (size, len(data), tag))\n",
            "/usr/local/lib/python3.6/dist-packages/PIL/TiffImagePlugin.py:725: UserWarning: Possibly corrupt EXIF data.  Expecting to read 1385474 bytes but only got 5357. Skipping tag 513\n",
            "  \" Skipping tag %s\" % (size, len(data), tag))\n",
            "/usr/local/lib/python3.6/dist-packages/PIL/TiffImagePlugin.py:725: UserWarning: Possibly corrupt EXIF data.  Expecting to read 196867 bytes but only got 5357. Skipping tag 0\n",
            "  \" Skipping tag %s\" % (size, len(data), tag))\n"
          ],
          "name": "stderr"
        },
        {
          "output_type": "stream",
          "text": [
            "1124/1125 [============================>.] - ETA: 0s - loss: 0.5670 - acc: 0.7072Epoch 1/50\n",
            "1125/1125 [==============================] - 89s 79ms/step - loss: 0.5669 - acc: 0.7074 - val_loss: 0.4712 - val_acc: 0.7828\n",
            "Epoch 2/50\n",
            "1124/1125 [============================>.] - ETA: 0s - loss: 0.4545 - acc: 0.7885Epoch 1/50\n",
            "1125/1125 [==============================] - 82s 73ms/step - loss: 0.4545 - acc: 0.7886 - val_loss: 0.4173 - val_acc: 0.8100\n",
            "Epoch 3/50\n",
            "1124/1125 [============================>.] - ETA: 0s - loss: 0.4013 - acc: 0.8209Epoch 1/50\n",
            "1125/1125 [==============================] - 83s 74ms/step - loss: 0.4014 - acc: 0.8209 - val_loss: 0.4307 - val_acc: 0.8088\n",
            "Epoch 4/50\n",
            "1124/1125 [============================>.] - ETA: 0s - loss: 0.3590 - acc: 0.8452Epoch 1/50\n",
            "1125/1125 [==============================] - 82s 73ms/step - loss: 0.3588 - acc: 0.8453 - val_loss: 0.3905 - val_acc: 0.8440\n",
            "Epoch 5/50\n",
            "1124/1125 [============================>.] - ETA: 0s - loss: 0.3349 - acc: 0.8570Epoch 1/50\n",
            "1125/1125 [==============================] - 82s 73ms/step - loss: 0.3350 - acc: 0.8570 - val_loss: 0.3746 - val_acc: 0.8400\n",
            "Epoch 6/50\n",
            "1124/1125 [============================>.] - ETA: 0s - loss: 0.3151 - acc: 0.8727Epoch 1/50\n",
            "1125/1125 [==============================] - 82s 73ms/step - loss: 0.3151 - acc: 0.8727 - val_loss: 0.4883 - val_acc: 0.8228\n",
            "Epoch 7/50\n",
            "1124/1125 [============================>.] - ETA: 0s - loss: 0.2891 - acc: 0.8811Epoch 1/50\n",
            "1125/1125 [==============================] - 82s 73ms/step - loss: 0.2891 - acc: 0.8811 - val_loss: 0.5388 - val_acc: 0.8256\n",
            "Epoch 8/50\n",
            "1124/1125 [============================>.] - ETA: 0s - loss: 0.2809 - acc: 0.8879Epoch 1/50\n",
            "1125/1125 [==============================] - 82s 73ms/step - loss: 0.2810 - acc: 0.8878 - val_loss: 0.4753 - val_acc: 0.7980\n",
            "Epoch 9/50\n",
            "1124/1125 [============================>.] - ETA: 0s - loss: 0.2701 - acc: 0.8959Epoch 1/50\n",
            "1125/1125 [==============================] - 83s 73ms/step - loss: 0.2700 - acc: 0.8959 - val_loss: 0.5430 - val_acc: 0.8380\n",
            "Epoch 10/50\n",
            "1124/1125 [============================>.] - ETA: 0s - loss: 0.2713 - acc: 0.8975Epoch 1/50\n",
            "1125/1125 [==============================] - 82s 73ms/step - loss: 0.2713 - acc: 0.8975 - val_loss: 0.5494 - val_acc: 0.8268\n",
            "Epoch 11/50\n",
            "1124/1125 [============================>.] - ETA: 0s - loss: 0.2710 - acc: 0.8988Epoch 1/50\n",
            "1125/1125 [==============================] - 83s 74ms/step - loss: 0.2713 - acc: 0.8987 - val_loss: 0.4329 - val_acc: 0.8316\n",
            "Epoch 12/50\n",
            "1124/1125 [============================>.] - ETA: 0s - loss: 0.2740 - acc: 0.8991Epoch 1/50\n",
            "1125/1125 [==============================] - 82s 73ms/step - loss: 0.2744 - acc: 0.8990 - val_loss: 0.6147 - val_acc: 0.8044\n",
            "Epoch 13/50\n",
            "1124/1125 [============================>.] - ETA: 0s - loss: 0.2656 - acc: 0.8985Epoch 1/50\n",
            "1125/1125 [==============================] - 82s 73ms/step - loss: 0.2656 - acc: 0.8986 - val_loss: 0.4845 - val_acc: 0.8172\n",
            "Epoch 14/50\n",
            "1124/1125 [============================>.] - ETA: 0s - loss: 0.2667 - acc: 0.9034Epoch 1/50\n",
            "1125/1125 [==============================] - 82s 73ms/step - loss: 0.2665 - acc: 0.9035 - val_loss: 0.5866 - val_acc: 0.8404\n",
            "Epoch 15/50\n",
            "1124/1125 [============================>.] - ETA: 0s - loss: 0.2614 - acc: 0.9081Epoch 1/50\n",
            "1125/1125 [==============================] - 82s 73ms/step - loss: 0.2614 - acc: 0.9081 - val_loss: 0.5564 - val_acc: 0.8068\n",
            "Epoch 16/50\n",
            "1124/1125 [============================>.] - ETA: 0s - loss: 0.2705 - acc: 0.9078Epoch 1/50\n",
            "1125/1125 [==============================] - 82s 73ms/step - loss: 0.2708 - acc: 0.9078 - val_loss: 0.5330 - val_acc: 0.8480\n",
            "Epoch 17/50\n",
            "1123/1125 [============================>.] - ETA: 0s - loss: 0.2613 - acc: 0.9069Epoch 1/50\n",
            "1125/1125 [==============================] - 82s 73ms/step - loss: 0.2613 - acc: 0.9068 - val_loss: 0.4900 - val_acc: 0.8332\n",
            "Epoch 18/50\n",
            "1124/1125 [============================>.] - ETA: 0s - loss: 0.2664 - acc: 0.9024Epoch 1/50\n",
            "1125/1125 [==============================] - 83s 73ms/step - loss: 0.2662 - acc: 0.9025 - val_loss: 0.6182 - val_acc: 0.8596\n",
            "Epoch 19/50\n",
            "1124/1125 [============================>.] - ETA: 0s - loss: 0.2633 - acc: 0.9062Epoch 1/50\n",
            "1125/1125 [==============================] - 83s 73ms/step - loss: 0.2632 - acc: 0.9063 - val_loss: 0.5374 - val_acc: 0.8480\n",
            "Epoch 20/50\n",
            "1124/1125 [============================>.] - ETA: 0s - loss: 0.2906 - acc: 0.9021Epoch 1/50\n",
            "1125/1125 [==============================] - 83s 74ms/step - loss: 0.2905 - acc: 0.9022 - val_loss: 0.6556 - val_acc: 0.8332\n",
            "Epoch 21/50\n",
            "1124/1125 [============================>.] - ETA: 0s - loss: 0.2885 - acc: 0.9037Epoch 1/50\n",
            "1125/1125 [==============================] - 83s 73ms/step - loss: 0.2883 - acc: 0.9037 - val_loss: 0.4896 - val_acc: 0.8460\n",
            "Epoch 22/50\n",
            "1124/1125 [============================>.] - ETA: 0s - loss: 0.2716 - acc: 0.9084Epoch 1/50\n",
            "1125/1125 [==============================] - 83s 73ms/step - loss: 0.2715 - acc: 0.9084 - val_loss: 1.8642 - val_acc: 0.7880\n",
            "Epoch 23/50\n",
            "1124/1125 [============================>.] - ETA: 0s - loss: 0.2725 - acc: 0.9064Epoch 1/50\n",
            "1125/1125 [==============================] - 83s 74ms/step - loss: 0.2728 - acc: 0.9063 - val_loss: 0.8332 - val_acc: 0.7304\n",
            "Epoch 24/50\n",
            "1124/1125 [============================>.] - ETA: 0s - loss: 0.2829 - acc: 0.9056Epoch 1/50\n",
            "1125/1125 [==============================] - 83s 74ms/step - loss: 0.2829 - acc: 0.9056 - val_loss: 1.1594 - val_acc: 0.7932\n",
            "Epoch 25/50\n",
            "1124/1125 [============================>.] - ETA: 0s - loss: 0.2896 - acc: 0.9057Epoch 1/50\n",
            "1125/1125 [==============================] - 83s 74ms/step - loss: 0.2896 - acc: 0.9056 - val_loss: 0.7374 - val_acc: 0.7844\n",
            "Epoch 26/50\n",
            "1124/1125 [============================>.] - ETA: 0s - loss: 0.2658 - acc: 0.9059Epoch 1/50\n",
            "1125/1125 [==============================] - 83s 74ms/step - loss: 0.2661 - acc: 0.9058 - val_loss: 0.5530 - val_acc: 0.8320\n",
            "Epoch 27/50\n",
            "1124/1125 [============================>.] - ETA: 0s - loss: 0.2885 - acc: 0.9022Epoch 1/50\n",
            "1125/1125 [==============================] - 83s 74ms/step - loss: 0.2884 - acc: 0.9022 - val_loss: 0.7925 - val_acc: 0.8092\n",
            "Epoch 28/50\n",
            "1124/1125 [============================>.] - ETA: 0s - loss: 0.2981 - acc: 0.9033Epoch 1/50\n",
            "1125/1125 [==============================] - 83s 74ms/step - loss: 0.2979 - acc: 0.9034 - val_loss: 0.6865 - val_acc: 0.8432\n",
            "Epoch 29/50\n",
            "1124/1125 [============================>.] - ETA: 0s - loss: 0.2971 - acc: 0.9010Epoch 1/50\n",
            "1125/1125 [==============================] - 83s 74ms/step - loss: 0.2972 - acc: 0.9010 - val_loss: 0.5329 - val_acc: 0.8184\n",
            "Epoch 30/50\n",
            "1124/1125 [============================>.] - ETA: 0s - loss: 0.3017 - acc: 0.9009Epoch 1/50\n",
            "1125/1125 [==============================] - 83s 74ms/step - loss: 0.3018 - acc: 0.9008 - val_loss: 0.6698 - val_acc: 0.7868\n",
            "Epoch 31/50\n",
            "1124/1125 [============================>.] - ETA: 0s - loss: 0.3007 - acc: 0.8981Epoch 1/50\n",
            "1125/1125 [==============================] - 83s 73ms/step - loss: 0.3006 - acc: 0.8982 - val_loss: 0.5482 - val_acc: 0.8380\n",
            "Epoch 32/50\n",
            "1124/1125 [============================>.] - ETA: 0s - loss: 0.2910 - acc: 0.9019Epoch 1/50\n",
            "1125/1125 [==============================] - 82s 73ms/step - loss: 0.2908 - acc: 0.9020 - val_loss: 0.8065 - val_acc: 0.8440\n",
            "Epoch 33/50\n",
            "1124/1125 [============================>.] - ETA: 0s - loss: 0.3033 - acc: 0.9008Epoch 1/50\n",
            "1125/1125 [==============================] - 83s 74ms/step - loss: 0.3035 - acc: 0.9007 - val_loss: 0.4394 - val_acc: 0.8244\n",
            "Epoch 34/50\n",
            "1124/1125 [============================>.] - ETA: 0s - loss: 0.2982 - acc: 0.9016Epoch 1/50\n",
            "1125/1125 [==============================] - 83s 74ms/step - loss: 0.2985 - acc: 0.9016 - val_loss: 0.5983 - val_acc: 0.7640\n",
            "Epoch 35/50\n",
            "1124/1125 [============================>.] - ETA: 0s - loss: 0.3082 - acc: 0.9027Epoch 1/50\n",
            "1125/1125 [==============================] - 83s 74ms/step - loss: 0.3081 - acc: 0.9027 - val_loss: 0.6405 - val_acc: 0.8428\n",
            "Epoch 36/50\n",
            "1124/1125 [============================>.] - ETA: 0s - loss: 0.3213 - acc: 0.9019Epoch 1/50\n",
            "1125/1125 [==============================] - 83s 74ms/step - loss: 0.3211 - acc: 0.9019 - val_loss: 0.7368 - val_acc: 0.8540\n",
            "Epoch 37/50\n",
            "1124/1125 [============================>.] - ETA: 0s - loss: 0.3011 - acc: 0.9005Epoch 1/50\n",
            "1125/1125 [==============================] - 83s 74ms/step - loss: 0.3011 - acc: 0.9004 - val_loss: 2.2190 - val_acc: 0.7156\n",
            "Epoch 38/50\n",
            "1124/1125 [============================>.] - ETA: 0s - loss: 0.3023 - acc: 0.8996Epoch 1/50\n",
            "1125/1125 [==============================] - 84s 74ms/step - loss: 0.3022 - acc: 0.8996 - val_loss: 0.5220 - val_acc: 0.8468\n",
            "Epoch 39/50\n",
            "1124/1125 [============================>.] - ETA: 0s - loss: 0.3219 - acc: 0.8998Epoch 1/50\n",
            "1125/1125 [==============================] - 83s 74ms/step - loss: 0.3220 - acc: 0.8998 - val_loss: 0.6384 - val_acc: 0.8316\n",
            "Epoch 40/50\n",
            "1124/1125 [============================>.] - ETA: 0s - loss: 0.2858 - acc: 0.9059Epoch 1/50\n",
            "1125/1125 [==============================] - 83s 74ms/step - loss: 0.2856 - acc: 0.9059 - val_loss: 0.7004 - val_acc: 0.8500\n",
            "Epoch 41/50\n",
            "1124/1125 [============================>.] - ETA: 0s - loss: 0.3121 - acc: 0.8965Epoch 1/50\n",
            "1125/1125 [==============================] - 84s 74ms/step - loss: 0.3121 - acc: 0.8964 - val_loss: 1.0913 - val_acc: 0.7996\n",
            "Epoch 42/50\n",
            "1124/1125 [============================>.] - ETA: 0s - loss: 0.3088 - acc: 0.8994Epoch 1/50\n",
            "1125/1125 [==============================] - 84s 74ms/step - loss: 0.3088 - acc: 0.8994 - val_loss: 0.7263 - val_acc: 0.8340\n",
            "Epoch 43/50\n",
            "1124/1125 [============================>.] - ETA: 0s - loss: 0.3353 - acc: 0.9005Epoch 1/50\n",
            "1125/1125 [==============================] - 84s 75ms/step - loss: 0.3352 - acc: 0.9005 - val_loss: 1.1418 - val_acc: 0.8216\n",
            "Epoch 44/50\n",
            "1124/1125 [============================>.] - ETA: 0s - loss: 0.3044 - acc: 0.8998Epoch 1/50\n",
            "1125/1125 [==============================] - 84s 74ms/step - loss: 0.3043 - acc: 0.8999 - val_loss: 0.5204 - val_acc: 0.8488\n",
            "Epoch 45/50\n",
            "1124/1125 [============================>.] - ETA: 0s - loss: 0.2979 - acc: 0.9027Epoch 1/50\n",
            "1125/1125 [==============================] - 84s 74ms/step - loss: 0.2979 - acc: 0.9026 - val_loss: 0.4464 - val_acc: 0.8396\n",
            "Epoch 46/50\n",
            "1124/1125 [============================>.] - ETA: 0s - loss: 0.2954 - acc: 0.9003Epoch 1/50\n",
            "1125/1125 [==============================] - 84s 74ms/step - loss: 0.2952 - acc: 0.9004 - val_loss: 0.6280 - val_acc: 0.8496\n",
            "Epoch 47/50\n",
            "1124/1125 [============================>.] - ETA: 0s - loss: 0.3725 - acc: 0.8998Epoch 1/50\n",
            "1125/1125 [==============================] - 84s 74ms/step - loss: 0.3726 - acc: 0.8997 - val_loss: 1.6928 - val_acc: 0.6740\n",
            "Epoch 48/50\n",
            "1124/1125 [============================>.] - ETA: 0s - loss: 0.3214 - acc: 0.9038Epoch 1/50\n",
            "1125/1125 [==============================] - 83s 74ms/step - loss: 0.3214 - acc: 0.9038 - val_loss: 0.5415 - val_acc: 0.8344\n",
            "Epoch 49/50\n",
            "1124/1125 [============================>.] - ETA: 0s - loss: 0.3220 - acc: 0.9007Epoch 1/50\n",
            "1125/1125 [==============================] - 83s 74ms/step - loss: 0.3218 - acc: 0.9007 - val_loss: 1.0913 - val_acc: 0.8436\n",
            "Epoch 50/50\n",
            "1124/1125 [============================>.] - ETA: 0s - loss: 0.2983 - acc: 0.8964Epoch 1/50\n",
            "1125/1125 [==============================] - 83s 74ms/step - loss: 0.2981 - acc: 0.8965 - val_loss: 1.1615 - val_acc: 0.8044\n"
          ],
          "name": "stdout"
        }
      ]
    },
    {
      "cell_type": "code",
      "metadata": {
        "id": "MWZrJN4-65RC",
        "colab_type": "code",
        "colab": {
          "base_uri": "https://localhost:8080/",
          "height": 563
        },
        "outputId": "0aa7a552-97b4-4d53-d142-79cb4c6a8853"
      },
      "source": [
        "# PLOT LOSS AND ACCURACY\n",
        "%matplotlib inline\n",
        "\n",
        "import matplotlib.image  as mpimg\n",
        "import matplotlib.pyplot as plt\n",
        "\n",
        "#-----------------------------------------------------------\n",
        "# Retrieve a list of list results on training and test data\n",
        "# sets for each training epoch\n",
        "#-----------------------------------------------------------\n",
        "acc=history.history['acc']\n",
        "val_acc=history.history['val_acc']\n",
        "loss=history.history['loss']\n",
        "val_loss=history.history['val_loss']\n",
        "\n",
        "epochs=range(len(acc)) # Get number of epochs\n",
        "\n",
        "#------------------------------------------------\n",
        "# Plot training and validation accuracy per epoch\n",
        "#------------------------------------------------\n",
        "plt.plot(epochs, acc, 'r', \"Training Accuracy\")\n",
        "plt.plot(epochs, val_acc, 'b', \"Validation Accuracy\")\n",
        "plt.title('Training and validation accuracy')\n",
        "plt.figure()\n",
        "\n",
        "#------------------------------------------------\n",
        "# Plot training and validation loss per epoch\n",
        "#------------------------------------------------\n",
        "plt.plot(epochs, loss, 'r', \"Training Loss\")\n",
        "plt.plot(epochs, val_loss, 'b', \"Validation Loss\")\n",
        "\n",
        "\n",
        "plt.title('Training and validation loss')\n",
        "\n",
        "# Desired output. Charts with training and validation metrics. No crash :)"
      ],
      "execution_count": 10,
      "outputs": [
        {
          "output_type": "execute_result",
          "data": {
            "text/plain": [
              "Text(0.5, 1.0, 'Training and validation loss')"
            ]
          },
          "metadata": {
            "tags": []
          },
          "execution_count": 10
        },
        {
          "output_type": "display_data",
          "data": {
            "image/png": "[encoded data removed]",
            "text/plain": [
              "<Figure size 432x288 with 1 Axes>"
            ]
          },
          "metadata": {
            "tags": []
          }
        },
        {
          "output_type": "display_data",
          "data": {
            "image/png": "[encoded data removed]",
            "text/plain": [
              "<Figure size 432x288 with 1 Axes>"
            ]
          },
          "metadata": {
            "tags": []
          }
        }
      ]
    },
    {
      "cell_type": "code",
      "metadata": {
        "id": "LqL6FYUrtXpf",
        "colab_type": "code",
        "colab": {
          "base_uri": "https://localhost:8080/",
          "height": 135
        },
        "outputId": "ac1969e1-89dd-4d1b-ec97-66340cc7f684"
      },
      "source": [
        "# Here's a codeblock just for fun. You should be able to upload an image here \n",
        "# and have it classified without crashing\n",
        "\n",
        "import numpy as np\n",
        "from google.colab import files\n",
        "from keras.preprocessing import image\n",
        "\n",
        "uploaded = files.upload()\n",
        "\n",
        "for fn in uploaded.keys():\n",
        " \n",
        "  # predicting images\n",
        "  path = '/content/' + fn\n",
        "  img = image.load_img(path, target_size=(# YOUR CODE HERE))\n",
        "  x = image.img_to_array(img)\n",
        "  x = np.expand_dims(x, axis=0)\n",
        "\n",
        "  images = np.vstack([x])\n",
        "  classes = model.predict(images, batch_size=10)\n",
        "  print(classes[0])\n",
        "  if classes[0]>0.5:\n",
        "    print(fn + \" is a dog\")\n",
        "  else:\n",
        "    print(fn + \" is a cat\")"
      ],
      "execution_count": 13,
      "outputs": [
        {
          "output_type": "error",
          "ename": "SyntaxError",
          "evalue": "ignored",
          "traceback": [
            "\u001b[0;36m  File \u001b[0;32m\"<ipython-input-13-e23a17d42966>\"\u001b[0;36m, line \u001b[0;32m13\u001b[0m\n\u001b[0;31m    x = image.img_to_array(img)\u001b[0m\n\u001b[0m      ^\u001b[0m\n\u001b[0;31mSyntaxError\u001b[0m\u001b[0;31m:\u001b[0m invalid syntax\n"
          ]
        }
      ]
    },
    {
      "cell_type": "code",
      "metadata": {
        "id": "_WPQ1l04GmxH",
        "colab_type": "code",
        "colab": {}
      },
      "source": [
        ""
      ],
      "execution_count": 0,
      "outputs": []
    }
  ]
}